{
 "cells": [
  {
   "cell_type": "markdown",
   "metadata": {},
   "source": [
    "# Introduction Pandas for Python 102\n"
   ]
  },
  {
   "cell_type": "markdown",
   "metadata": {},
   "source": [
    "\n",
    "Pandas เป็นแพ็คเกจ Python แบบโอเพ่นซอร์สยอดนิยมสำหรับวิทยาศาสตร์ข้อมูล วิศวกรรมข้อมูล การวิเคราะห์ สำหรับจัดการ dataframe ที่ถูกออกแบบมาเพื่อการจัดการและวิเคราะห์ข้อมูล โดยเฉพาะข้อมูลที่อยู่ในรูปแบบของตาราง (tabular data) คล้ายกับข้อมูลใน Excel หรือ SQL tables"
   ]
  },
  {
   "cell_type": "markdown",
   "metadata": {},
   "source": [
    "pip install pandas\n"
   ]
  },
  {
   "cell_type": "code",
   "execution_count": 2,
   "metadata": {},
   "outputs": [],
   "source": [
    "import numpy as np\n",
    "import pandas as pd"
   ]
  },
  {
   "cell_type": "markdown",
   "metadata": {},
   "source": [
    "__________________________________________________________________________________________________________________________________________________________________________________"
   ]
  },
  {
   "cell_type": "markdown",
   "metadata": {},
   "source": [
    "#### 1.     Object Creation\n"
   ]
  },
  {
   "cell_type": "code",
   "execution_count": 2,
   "metadata": {},
   "outputs": [
    {
     "data": {
      "text/plain": [
       "0    1.0\n",
       "1    3.0\n",
       "2    5.0\n",
       "3    NaN\n",
       "4    6.0\n",
       "5    8.0\n",
       "dtype: float64"
      ]
     },
     "execution_count": 2,
     "metadata": {},
     "output_type": "execute_result"
    }
   ],
   "source": [
    "# 1.1 Series \n",
    "\n",
    "s = pd.Series([1, 3, 5, np.nan, 6, 8])"
   ]
  },
  {
   "cell_type": "code",
   "execution_count": 4,
   "metadata": {},
   "outputs": [
    {
     "data": {
      "text/html": [
       "<div>\n",
       "<style scoped>\n",
       "    .dataframe tbody tr th:only-of-type {\n",
       "        vertical-align: middle;\n",
       "    }\n",
       "\n",
       "    .dataframe tbody tr th {\n",
       "        vertical-align: top;\n",
       "    }\n",
       "\n",
       "    .dataframe thead th {\n",
       "        text-align: right;\n",
       "    }\n",
       "</style>\n",
       "<table border=\"1\" class=\"dataframe\">\n",
       "  <thead>\n",
       "    <tr style=\"text-align: right;\">\n",
       "      <th></th>\n",
       "      <th>A</th>\n",
       "      <th>B</th>\n",
       "      <th>C</th>\n",
       "      <th>D</th>\n",
       "      <th>E</th>\n",
       "      <th>F</th>\n",
       "    </tr>\n",
       "  </thead>\n",
       "  <tbody>\n",
       "    <tr>\n",
       "      <th>0</th>\n",
       "      <td>1.0</td>\n",
       "      <td>2013-01-02</td>\n",
       "      <td>1.0</td>\n",
       "      <td>3</td>\n",
       "      <td>test</td>\n",
       "      <td>foo</td>\n",
       "    </tr>\n",
       "    <tr>\n",
       "      <th>1</th>\n",
       "      <td>1.0</td>\n",
       "      <td>2013-01-02</td>\n",
       "      <td>1.0</td>\n",
       "      <td>3</td>\n",
       "      <td>train</td>\n",
       "      <td>foo</td>\n",
       "    </tr>\n",
       "    <tr>\n",
       "      <th>2</th>\n",
       "      <td>1.0</td>\n",
       "      <td>2013-01-02</td>\n",
       "      <td>1.0</td>\n",
       "      <td>3</td>\n",
       "      <td>test</td>\n",
       "      <td>foo</td>\n",
       "    </tr>\n",
       "    <tr>\n",
       "      <th>3</th>\n",
       "      <td>1.0</td>\n",
       "      <td>2013-01-02</td>\n",
       "      <td>1.0</td>\n",
       "      <td>3</td>\n",
       "      <td>train</td>\n",
       "      <td>foo</td>\n",
       "    </tr>\n",
       "  </tbody>\n",
       "</table>\n",
       "</div>"
      ],
      "text/plain": [
       "     A          B    C  D      E    F\n",
       "0  1.0 2013-01-02  1.0  3   test  foo\n",
       "1  1.0 2013-01-02  1.0  3  train  foo\n",
       "2  1.0 2013-01-02  1.0  3   test  foo\n",
       "3  1.0 2013-01-02  1.0  3  train  foo"
      ]
     },
     "execution_count": 4,
     "metadata": {},
     "output_type": "execute_result"
    }
   ],
   "source": [
    "#  1.2 dataframe\n",
    "\n",
    "df1 = pd.DataFrame(\n",
    "    {\n",
    "        \"A\": 1.0,\n",
    "        \"B\": pd.Timestamp(\"20130102\"),\n",
    "        \"C\": pd.Series(1, index=list(range(4)), dtype=\"float32\"),\n",
    "        \"D\": np.array([3] * 4, dtype=\"int32\"),\n",
    "        \"E\": pd.Categorical([\"test\", \"train\", \"test\", \"train\"]),\n",
    "        \"F\": \"foo\",\n",
    "    }\n",
    ")\n",
    "df1"
   ]
  },
  {
   "cell_type": "code",
   "execution_count": 5,
   "metadata": {},
   "outputs": [
    {
     "data": {
      "text/plain": [
       "A           float64\n",
       "B    datetime64[ns]\n",
       "C           float32\n",
       "D             int32\n",
       "E          category\n",
       "F            object\n",
       "dtype: object"
      ]
     },
     "execution_count": 5,
     "metadata": {},
     "output_type": "execute_result"
    }
   ],
   "source": [
    "df1.dtypes"
   ]
  },
  {
   "cell_type": "markdown",
   "metadata": {},
   "source": [
    "##### คำสั่งอื่น ๆ \n",
    "```\n",
    "df1.<TAB>\n",
    "df1.A                  df1.bool                  df1.add                df1.C\n",
    "df1.abs                df1.boxplot               df1.add_prefix         df1.clip\n",
    "df1.add_suffix         df1.columns               df1.align              df1.copy\n",
    "df1.all                df1.count                 df1.any                df1.combine\n",
    "df1.append             df1.D                     df1.apply              df1.describe\n",
    "df1.applymap           df1.diff                  df1.B                  df1.duplicated\n",
    "```"
   ]
  },
  {
   "cell_type": "markdown",
   "metadata": {},
   "source": [
    "__________________________________________________________________________________________________________________________________________________________________________________"
   ]
  },
  {
   "cell_type": "markdown",
   "metadata": {},
   "source": [
    "#### 2.     Viewing Data"
   ]
  },
  {
   "cell_type": "markdown",
   "metadata": {},
   "source": [
    "Use DataFrame.head() and DataFrame.tail() to view the top and bottom rows of the frame respectively:"
   ]
  },
  {
   "cell_type": "code",
   "execution_count": 47,
   "metadata": {},
   "outputs": [],
   "source": [
    "# Object Creation\n",
    "dates = pd.date_range(\"20130101\", periods=6)\n",
    "df2 = pd.DataFrame(np.random.randn(6, 4), index=dates, columns=list(\"ABCD\"))"
   ]
  },
  {
   "cell_type": "code",
   "execution_count": 48,
   "metadata": {},
   "outputs": [
    {
     "data": {
      "text/html": [
       "<div>\n",
       "<style scoped>\n",
       "    .dataframe tbody tr th:only-of-type {\n",
       "        vertical-align: middle;\n",
       "    }\n",
       "\n",
       "    .dataframe tbody tr th {\n",
       "        vertical-align: top;\n",
       "    }\n",
       "\n",
       "    .dataframe thead th {\n",
       "        text-align: right;\n",
       "    }\n",
       "</style>\n",
       "<table border=\"1\" class=\"dataframe\">\n",
       "  <thead>\n",
       "    <tr style=\"text-align: right;\">\n",
       "      <th></th>\n",
       "      <th>A</th>\n",
       "      <th>B</th>\n",
       "      <th>C</th>\n",
       "      <th>D</th>\n",
       "    </tr>\n",
       "  </thead>\n",
       "  <tbody>\n",
       "    <tr>\n",
       "      <th>2013-01-01</th>\n",
       "      <td>0.852095</td>\n",
       "      <td>0.353759</td>\n",
       "      <td>-1.382915</td>\n",
       "      <td>0.337272</td>\n",
       "    </tr>\n",
       "    <tr>\n",
       "      <th>2013-01-02</th>\n",
       "      <td>0.296657</td>\n",
       "      <td>-0.637354</td>\n",
       "      <td>-0.950048</td>\n",
       "      <td>-1.701628</td>\n",
       "    </tr>\n",
       "    <tr>\n",
       "      <th>2013-01-03</th>\n",
       "      <td>-0.448944</td>\n",
       "      <td>1.616287</td>\n",
       "      <td>0.494226</td>\n",
       "      <td>-0.480939</td>\n",
       "    </tr>\n",
       "    <tr>\n",
       "      <th>2013-01-04</th>\n",
       "      <td>-3.556519</td>\n",
       "      <td>-0.987507</td>\n",
       "      <td>1.248577</td>\n",
       "      <td>-1.836192</td>\n",
       "    </tr>\n",
       "    <tr>\n",
       "      <th>2013-01-05</th>\n",
       "      <td>-1.159425</td>\n",
       "      <td>0.703133</td>\n",
       "      <td>-0.504842</td>\n",
       "      <td>1.738985</td>\n",
       "    </tr>\n",
       "  </tbody>\n",
       "</table>\n",
       "</div>"
      ],
      "text/plain": [
       "                   A         B         C         D\n",
       "2013-01-01  0.852095  0.353759 -1.382915  0.337272\n",
       "2013-01-02  0.296657 -0.637354 -0.950048 -1.701628\n",
       "2013-01-03 -0.448944  1.616287  0.494226 -0.480939\n",
       "2013-01-04 -3.556519 -0.987507  1.248577 -1.836192\n",
       "2013-01-05 -1.159425  0.703133 -0.504842  1.738985"
      ]
     },
     "execution_count": 48,
     "metadata": {},
     "output_type": "execute_result"
    }
   ],
   "source": [
    "df2.head()"
   ]
  },
  {
   "cell_type": "code",
   "execution_count": 615,
   "metadata": {},
   "outputs": [
    {
     "data": {
      "text/plain": [
       "A    float64\n",
       "B    float64\n",
       "C    float64\n",
       "D    float64\n",
       "dtype: object"
      ]
     },
     "execution_count": 615,
     "metadata": {},
     "output_type": "execute_result"
    }
   ],
   "source": [
    "'''\n",
    "- df.dtypes แสดงประเภทข้อมูลของทุกคอลัมน์\n",
    "- df['column_name'].dtype แสดงประเภทข้อมูลของคอลัมน์เฉพาะ\n",
    "- df.info() แสดงข้อมูลสรุปรวมถึงประเภทข้อมูลของแต่ละคอลัมน์\n",
    "'''\n",
    "\n",
    "df2.dtypes"
   ]
  },
  {
   "cell_type": "code",
   "execution_count": 22,
   "metadata": {},
   "outputs": [
    {
     "data": {
      "text/plain": [
       "DatetimeIndex(['2013-01-01', '2013-01-02', '2013-01-03', '2013-01-04',\n",
       "               '2013-01-05', '2013-01-06'],\n",
       "              dtype='datetime64[ns]', freq='D')"
      ]
     },
     "execution_count": 22,
     "metadata": {},
     "output_type": "execute_result"
    }
   ],
   "source": [
    "#Display the DataFrame.index or DataFrame.columns:\n",
    "df2.index"
   ]
  },
  {
   "cell_type": "code",
   "execution_count": null,
   "metadata": {},
   "outputs": [],
   "source": [
    "df2.columns"
   ]
  },
  {
   "cell_type": "code",
   "execution_count": 20,
   "metadata": {},
   "outputs": [
    {
     "data": {
      "text/plain": [
       "array([[ 1.10456666,  0.16925691, -1.64667262, -0.3727517 ],\n",
       "       [-0.63127099, -0.46535542, -0.01620065,  0.17117057],\n",
       "       [-0.03917842, -0.61422125, -1.36067685,  0.31581883],\n",
       "       [ 0.80159736,  2.95223167, -2.10799018, -0.48453169],\n",
       "       [-0.46843792,  0.7512277 ,  0.35269687,  0.28890004],\n",
       "       [ 0.94395605, -0.79846103,  0.65017071,  0.59671775]])"
      ]
     },
     "execution_count": 20,
     "metadata": {},
     "output_type": "execute_result"
    }
   ],
   "source": [
    "df2.to_numpy()"
   ]
  },
  {
   "cell_type": "markdown",
   "metadata": {},
   "source": [
    "###### การใช้ DataFrame.to_numpy() ใน pandas คือการแปลงข้อมูลใน DataFrame ให้เป็นอาร์เรย์ของ NumPy โดยข้อมูลทั้งหมดจะถูกจัดเก็บในรูปแบบเดียวกัน (dtype) ซึ่งเหมาะกับการประมวลผลเชิงคณิตศาสตร์และการทำงานกับไลบรารีที่ต้องการข้อมูลในรูปแบบ NumPy หาก DataFrame มีข้อมูลหลากหลายประเภท การแปลงอาจใช้เวลามากขึ้นเพราะต้องปรับให้เป็นรูปแบบเดียวกัน เช่น ประเภท object แต่ถ้าข้อมูลใน DataFrame มีประเภทเดียวกัน เช่น ตัวเลข การแปลงจะรวดเร็วและไม่ต้องคัดลอกข้อมูลใหม่"
   ]
  },
  {
   "cell_type": "code",
   "execution_count": 21,
   "metadata": {},
   "outputs": [],
   "source": [
    "# describe() shows a quick statistic summary of your data:\n",
    "df2.describe()"
   ]
  },
  {
   "cell_type": "code",
   "execution_count": null,
   "metadata": {},
   "outputs": [],
   "source": [
    "# สลับคอลัมน์ กับ แถว\n",
    "df2.T"
   ]
  },
  {
   "cell_type": "code",
   "execution_count": 39,
   "metadata": {},
   "outputs": [
    {
     "data": {
      "text/html": [
       "<div>\n",
       "<style scoped>\n",
       "    .dataframe tbody tr th:only-of-type {\n",
       "        vertical-align: middle;\n",
       "    }\n",
       "\n",
       "    .dataframe tbody tr th {\n",
       "        vertical-align: top;\n",
       "    }\n",
       "\n",
       "    .dataframe thead th {\n",
       "        text-align: right;\n",
       "    }\n",
       "</style>\n",
       "<table border=\"1\" class=\"dataframe\">\n",
       "  <thead>\n",
       "    <tr style=\"text-align: right;\">\n",
       "      <th></th>\n",
       "      <th>A</th>\n",
       "      <th>B</th>\n",
       "      <th>C</th>\n",
       "      <th>D</th>\n",
       "    </tr>\n",
       "  </thead>\n",
       "  <tbody>\n",
       "    <tr>\n",
       "      <th>2013-01-01</th>\n",
       "      <td>1.104567</td>\n",
       "      <td>0.169257</td>\n",
       "      <td>-1.646673</td>\n",
       "      <td>-0.372752</td>\n",
       "    </tr>\n",
       "    <tr>\n",
       "      <th>2013-01-02</th>\n",
       "      <td>-0.631271</td>\n",
       "      <td>-0.465355</td>\n",
       "      <td>-0.016201</td>\n",
       "      <td>0.171171</td>\n",
       "    </tr>\n",
       "    <tr>\n",
       "      <th>2013-01-03</th>\n",
       "      <td>-0.039178</td>\n",
       "      <td>-0.614221</td>\n",
       "      <td>-1.360677</td>\n",
       "      <td>0.315819</td>\n",
       "    </tr>\n",
       "    <tr>\n",
       "      <th>2013-01-04</th>\n",
       "      <td>0.801597</td>\n",
       "      <td>2.952232</td>\n",
       "      <td>-2.107990</td>\n",
       "      <td>-0.484532</td>\n",
       "    </tr>\n",
       "    <tr>\n",
       "      <th>2013-01-05</th>\n",
       "      <td>-0.468438</td>\n",
       "      <td>0.751228</td>\n",
       "      <td>0.352697</td>\n",
       "      <td>0.288900</td>\n",
       "    </tr>\n",
       "    <tr>\n",
       "      <th>2013-01-06</th>\n",
       "      <td>0.943956</td>\n",
       "      <td>-0.798461</td>\n",
       "      <td>0.650171</td>\n",
       "      <td>0.596718</td>\n",
       "    </tr>\n",
       "  </tbody>\n",
       "</table>\n",
       "</div>"
      ],
      "text/plain": [
       "                   A         B         C         D\n",
       "2013-01-01  1.104567  0.169257 -1.646673 -0.372752\n",
       "2013-01-02 -0.631271 -0.465355 -0.016201  0.171171\n",
       "2013-01-03 -0.039178 -0.614221 -1.360677  0.315819\n",
       "2013-01-04  0.801597  2.952232 -2.107990 -0.484532\n",
       "2013-01-05 -0.468438  0.751228  0.352697  0.288900\n",
       "2013-01-06  0.943956 -0.798461  0.650171  0.596718"
      ]
     },
     "execution_count": 39,
     "metadata": {},
     "output_type": "execute_result"
    }
   ],
   "source": [
    "# เรียงข้อมูล Sort โดย ascending=True คือจากน้อยไปมาก False จากมากไปน้อย\n",
    "df2.sort_index(ascending=True)"
   ]
  },
  {
   "cell_type": "code",
   "execution_count": 26,
   "metadata": {},
   "outputs": [
    {
     "data": {
      "text/html": [
       "<div>\n",
       "<style scoped>\n",
       "    .dataframe tbody tr th:only-of-type {\n",
       "        vertical-align: middle;\n",
       "    }\n",
       "\n",
       "    .dataframe tbody tr th {\n",
       "        vertical-align: top;\n",
       "    }\n",
       "\n",
       "    .dataframe thead th {\n",
       "        text-align: right;\n",
       "    }\n",
       "</style>\n",
       "<table border=\"1\" class=\"dataframe\">\n",
       "  <thead>\n",
       "    <tr style=\"text-align: right;\">\n",
       "      <th></th>\n",
       "      <th>A</th>\n",
       "      <th>B</th>\n",
       "      <th>C</th>\n",
       "      <th>D</th>\n",
       "    </tr>\n",
       "  </thead>\n",
       "  <tbody>\n",
       "    <tr>\n",
       "      <th>2013-01-06</th>\n",
       "      <td>0.943956</td>\n",
       "      <td>-0.798461</td>\n",
       "      <td>0.650171</td>\n",
       "      <td>0.596718</td>\n",
       "    </tr>\n",
       "    <tr>\n",
       "      <th>2013-01-03</th>\n",
       "      <td>-0.039178</td>\n",
       "      <td>-0.614221</td>\n",
       "      <td>-1.360677</td>\n",
       "      <td>0.315819</td>\n",
       "    </tr>\n",
       "    <tr>\n",
       "      <th>2013-01-02</th>\n",
       "      <td>-0.631271</td>\n",
       "      <td>-0.465355</td>\n",
       "      <td>-0.016201</td>\n",
       "      <td>0.171171</td>\n",
       "    </tr>\n",
       "    <tr>\n",
       "      <th>2013-01-01</th>\n",
       "      <td>1.104567</td>\n",
       "      <td>0.169257</td>\n",
       "      <td>-1.646673</td>\n",
       "      <td>-0.372752</td>\n",
       "    </tr>\n",
       "    <tr>\n",
       "      <th>2013-01-05</th>\n",
       "      <td>-0.468438</td>\n",
       "      <td>0.751228</td>\n",
       "      <td>0.352697</td>\n",
       "      <td>0.288900</td>\n",
       "    </tr>\n",
       "    <tr>\n",
       "      <th>2013-01-04</th>\n",
       "      <td>0.801597</td>\n",
       "      <td>2.952232</td>\n",
       "      <td>-2.107990</td>\n",
       "      <td>-0.484532</td>\n",
       "    </tr>\n",
       "  </tbody>\n",
       "</table>\n",
       "</div>"
      ],
      "text/plain": [
       "                   A         B         C         D\n",
       "2013-01-06  0.943956 -0.798461  0.650171  0.596718\n",
       "2013-01-03 -0.039178 -0.614221 -1.360677  0.315819\n",
       "2013-01-02 -0.631271 -0.465355 -0.016201  0.171171\n",
       "2013-01-01  1.104567  0.169257 -1.646673 -0.372752\n",
       "2013-01-05 -0.468438  0.751228  0.352697  0.288900\n",
       "2013-01-04  0.801597  2.952232 -2.107990 -0.484532"
      ]
     },
     "execution_count": 26,
     "metadata": {},
     "output_type": "execute_result"
    }
   ],
   "source": [
    "df2.sort_values(by='B')"
   ]
  },
  {
   "cell_type": "code",
   "execution_count": 25,
   "metadata": {},
   "outputs": [
    {
     "data": {
      "text/html": [
       "<div>\n",
       "<style scoped>\n",
       "    .dataframe tbody tr th:only-of-type {\n",
       "        vertical-align: middle;\n",
       "    }\n",
       "\n",
       "    .dataframe tbody tr th {\n",
       "        vertical-align: top;\n",
       "    }\n",
       "\n",
       "    .dataframe thead th {\n",
       "        text-align: right;\n",
       "    }\n",
       "</style>\n",
       "<table border=\"1\" class=\"dataframe\">\n",
       "  <thead>\n",
       "    <tr style=\"text-align: right;\">\n",
       "      <th></th>\n",
       "      <th>A</th>\n",
       "      <th>B</th>\n",
       "      <th>C</th>\n",
       "      <th>D</th>\n",
       "    </tr>\n",
       "  </thead>\n",
       "  <tbody>\n",
       "    <tr>\n",
       "      <th>2013-01-04</th>\n",
       "      <td>0.801597</td>\n",
       "      <td>2.952232</td>\n",
       "      <td>-2.107990</td>\n",
       "      <td>-0.484532</td>\n",
       "    </tr>\n",
       "    <tr>\n",
       "      <th>2013-01-05</th>\n",
       "      <td>-0.468438</td>\n",
       "      <td>0.751228</td>\n",
       "      <td>0.352697</td>\n",
       "      <td>0.288900</td>\n",
       "    </tr>\n",
       "    <tr>\n",
       "      <th>2013-01-01</th>\n",
       "      <td>1.104567</td>\n",
       "      <td>0.169257</td>\n",
       "      <td>-1.646673</td>\n",
       "      <td>-0.372752</td>\n",
       "    </tr>\n",
       "    <tr>\n",
       "      <th>2013-01-02</th>\n",
       "      <td>-0.631271</td>\n",
       "      <td>-0.465355</td>\n",
       "      <td>-0.016201</td>\n",
       "      <td>0.171171</td>\n",
       "    </tr>\n",
       "    <tr>\n",
       "      <th>2013-01-03</th>\n",
       "      <td>-0.039178</td>\n",
       "      <td>-0.614221</td>\n",
       "      <td>-1.360677</td>\n",
       "      <td>0.315819</td>\n",
       "    </tr>\n",
       "    <tr>\n",
       "      <th>2013-01-06</th>\n",
       "      <td>0.943956</td>\n",
       "      <td>-0.798461</td>\n",
       "      <td>0.650171</td>\n",
       "      <td>0.596718</td>\n",
       "    </tr>\n",
       "  </tbody>\n",
       "</table>\n",
       "</div>"
      ],
      "text/plain": [
       "                   A         B         C         D\n",
       "2013-01-04  0.801597  2.952232 -2.107990 -0.484532\n",
       "2013-01-05 -0.468438  0.751228  0.352697  0.288900\n",
       "2013-01-01  1.104567  0.169257 -1.646673 -0.372752\n",
       "2013-01-02 -0.631271 -0.465355 -0.016201  0.171171\n",
       "2013-01-03 -0.039178 -0.614221 -1.360677  0.315819\n",
       "2013-01-06  0.943956 -0.798461  0.650171  0.596718"
      ]
     },
     "execution_count": 25,
     "metadata": {},
     "output_type": "execute_result"
    }
   ],
   "source": [
    "df2.sort_values(by='B',ascending=False)"
   ]
  },
  {
   "cell_type": "markdown",
   "metadata": {},
   "source": [
    "__________________________________________________________________________________________________________________________________________________________________________________"
   ]
  },
  {
   "cell_type": "markdown",
   "metadata": {},
   "source": [
    "#### 3.     Selection"
   ]
  },
  {
   "cell_type": "markdown",
   "metadata": {},
   "source": [
    "การเลือกข้อมูล (selection) จาก DataFrame ใน pandas สามารถทำได้หลายวิธีตามความต้องการ การเลือกและตั้งค่า (selecting and setting) จะทำได้อย่างเป็นธรรมชาติและเหมาะกับการทำงานแบบโต้ตอบ (interactive work) แต่สำหรับโค้ดที่ใช้ในการผลิต (production code) เราขอแนะนำให้ใช้วิธีการเข้าถึงข้อมูลที่ปรับแต่งแล้วของ pandas เช่น \n",
    "\n",
    "- DataFrame[['Col1','Col2']] = ใช้สำหรับดึงข้อมูลตามป้ายกำกับคอลัมน์\n",
    "- DataFrame.loc() = ใช้สำหรับเลือกข้อมูลโดยอิงจากป้ายกำกับ (label) ของแถวและคอลัมน์เหมาะเมื่อคุณต้องการเลือกข้อมูลโดยใช้ชื่อของแถวหรือคอลัมน์ที่ชัดเจน\n",
    "- DataFrame.iloc() = ใช้สำหรับเลือกข้อมูลโดยอิงจากตำแหน่งเชิงตัวเลข (index) ของแถวและคอลัมน์ เหมาะเมื่อคุณต้องการเลือกข้อมูลโดยอ้างอิงจากตำแหน่งที่แน่นอน"
   ]
  },
  {
   "cell_type": "code",
   "execution_count": 49,
   "metadata": {},
   "outputs": [
    {
     "data": {
      "text/html": [
       "<div>\n",
       "<style scoped>\n",
       "    .dataframe tbody tr th:only-of-type {\n",
       "        vertical-align: middle;\n",
       "    }\n",
       "\n",
       "    .dataframe tbody tr th {\n",
       "        vertical-align: top;\n",
       "    }\n",
       "\n",
       "    .dataframe thead th {\n",
       "        text-align: right;\n",
       "    }\n",
       "</style>\n",
       "<table border=\"1\" class=\"dataframe\">\n",
       "  <thead>\n",
       "    <tr style=\"text-align: right;\">\n",
       "      <th></th>\n",
       "      <th>Employee Name</th>\n",
       "      <th>Position</th>\n",
       "      <th>Age</th>\n",
       "      <th>Salary</th>\n",
       "      <th>Years at Company</th>\n",
       "    </tr>\n",
       "  </thead>\n",
       "  <tbody>\n",
       "    <tr>\n",
       "      <th>0</th>\n",
       "      <td>John Doe</td>\n",
       "      <td>Manager</td>\n",
       "      <td>45</td>\n",
       "      <td>85000</td>\n",
       "      <td>10</td>\n",
       "    </tr>\n",
       "    <tr>\n",
       "      <th>1</th>\n",
       "      <td>Jane Smith</td>\n",
       "      <td>Software Engineer</td>\n",
       "      <td>30</td>\n",
       "      <td>95000</td>\n",
       "      <td>4</td>\n",
       "    </tr>\n",
       "    <tr>\n",
       "      <th>2</th>\n",
       "      <td>Emily Davis</td>\n",
       "      <td>Data Scientist</td>\n",
       "      <td>35</td>\n",
       "      <td>105000</td>\n",
       "      <td>7</td>\n",
       "    </tr>\n",
       "    <tr>\n",
       "      <th>3</th>\n",
       "      <td>Michael Brown</td>\n",
       "      <td>HR Specialist</td>\n",
       "      <td>29</td>\n",
       "      <td>60000</td>\n",
       "      <td>2</td>\n",
       "    </tr>\n",
       "    <tr>\n",
       "      <th>4</th>\n",
       "      <td>Jessica Lee</td>\n",
       "      <td>Marketing Coordinator</td>\n",
       "      <td>42</td>\n",
       "      <td>75000</td>\n",
       "      <td>12</td>\n",
       "    </tr>\n",
       "  </tbody>\n",
       "</table>\n",
       "</div>"
      ],
      "text/plain": [
       "   Employee Name               Position  Age  Salary  Years at Company\n",
       "0       John Doe                Manager   45   85000                10\n",
       "1     Jane Smith      Software Engineer   30   95000                 4\n",
       "2    Emily Davis         Data Scientist   35  105000                 7\n",
       "3  Michael Brown          HR Specialist   29   60000                 2\n",
       "4    Jessica Lee  Marketing Coordinator   42   75000                12"
      ]
     },
     "execution_count": 49,
     "metadata": {},
     "output_type": "execute_result"
    }
   ],
   "source": [
    "# สร้าง DataFrame\n",
    "data = {\n",
    "    'Employee Name': ['John Doe', 'Jane Smith', 'Emily Davis', 'Michael Brown', 'Jessica Lee'],\n",
    "    'Position': ['Manager', 'Software Engineer', 'Data Scientist', 'HR Specialist', 'Marketing Coordinator'],\n",
    "    'Age': [45, 30, 35, 29, 42],\n",
    "    'Salary': [85000, 95000, 105000, 60000, 75000],\n",
    "    'Years at Company': [10, 4, 7, 2, 12]\n",
    "}\n",
    "\n",
    "df3 = pd.DataFrame(data)\n",
    "df3"
   ]
  },
  {
   "cell_type": "markdown",
   "metadata": {},
   "source": [
    "##### 3.1     DataFrame[['Col1','Col2']] \n",
    "เป็นวิธีการเลือกคอลัมน์เฉพาะจาก DataFrame และสร้าง DataFrame ใหม่ที่ประกอบด้วยคอลัมน์เหล่านั้น"
   ]
  },
  {
   "cell_type": "code",
   "execution_count": 123,
   "metadata": {},
   "outputs": [
    {
     "data": {
      "text/html": [
       "<div>\n",
       "<style scoped>\n",
       "    .dataframe tbody tr th:only-of-type {\n",
       "        vertical-align: middle;\n",
       "    }\n",
       "\n",
       "    .dataframe tbody tr th {\n",
       "        vertical-align: top;\n",
       "    }\n",
       "\n",
       "    .dataframe thead th {\n",
       "        text-align: right;\n",
       "    }\n",
       "</style>\n",
       "<table border=\"1\" class=\"dataframe\">\n",
       "  <thead>\n",
       "    <tr style=\"text-align: right;\">\n",
       "      <th></th>\n",
       "      <th>Employee Name</th>\n",
       "      <th>Position</th>\n",
       "    </tr>\n",
       "  </thead>\n",
       "  <tbody>\n",
       "    <tr>\n",
       "      <th>0</th>\n",
       "      <td>John Doe</td>\n",
       "      <td>Manager</td>\n",
       "    </tr>\n",
       "    <tr>\n",
       "      <th>1</th>\n",
       "      <td>Jane Smith</td>\n",
       "      <td>Software Engineer</td>\n",
       "    </tr>\n",
       "    <tr>\n",
       "      <th>2</th>\n",
       "      <td>Emily Davis</td>\n",
       "      <td>Data Scientist</td>\n",
       "    </tr>\n",
       "    <tr>\n",
       "      <th>3</th>\n",
       "      <td>Michael Brown</td>\n",
       "      <td>HR Specialist</td>\n",
       "    </tr>\n",
       "    <tr>\n",
       "      <th>4</th>\n",
       "      <td>Jessica Lee</td>\n",
       "      <td>Marketing Coordinator</td>\n",
       "    </tr>\n",
       "  </tbody>\n",
       "</table>\n",
       "</div>"
      ],
      "text/plain": [
       "   Employee Name               Position\n",
       "0       John Doe                Manager\n",
       "1     Jane Smith      Software Engineer\n",
       "2    Emily Davis         Data Scientist\n",
       "3  Michael Brown          HR Specialist\n",
       "4    Jessica Lee  Marketing Coordinator"
      ]
     },
     "execution_count": 123,
     "metadata": {},
     "output_type": "execute_result"
    }
   ],
   "source": [
    "# เลือกข้อมูลตาม คอลัมน์\n",
    "select_col1_col2 = df3[['Employee Name','Position']]\n",
    "select_col1_col2"
   ]
  },
  {
   "cell_type": "markdown",
   "metadata": {},
   "source": [
    "##### 3.2     DataFrame.loc() \n",
    "เป็นวิธีการเข้าถึงและแก้ไขข้อมูลใน DataFrame โดยใช้ป้ายกำกับ (label) ของแถวและคอลัมน์ เหมาะสำหรับการเลือกข้อมูลเมื่อคุณรู้ชื่อ (label) ของแถวหรือคอลัมน์ที่ต้องการใช้งาน\n",
    "\n",
    "- เข้าถึงแถวหรือคอลัมน์: ใช้ DataFrame.loc[row_label, column_label] เพื่อเข้าถึงค่าที่อยู่ในแถวและคอลัมน์ที่ระบุ\n",
    "- เลือกหลายแถวหรือหลายคอลัมน์: คุณสามารถเลือกหลายแถวหรือคอลัมน์ได้โดยใช้รายการ (list) ของป้ายกำกับ\n",
    "- เลือกแถวทั้งหมดหรือคอลัมน์ทั้งหมด: ใช้ : เพื่อเลือกแถวทั้งหมดหรือคอลัมน์ทั้งหมด"
   ]
  },
  {
   "cell_type": "code",
   "execution_count": null,
   "metadata": {},
   "outputs": [],
   "source": [
    "# 1.เลือกแถวที่มีชื่อพนักงาน \"Jane Smith\" และดูตำแหน่งของเขา\n",
    "position_of_jane = df3.loc[df['Employee Name'] == 'Jane Smith', 'Position']\n",
    "print(position_of_jane)"
   ]
  },
  {
   "cell_type": "code",
   "execution_count": null,
   "metadata": {},
   "outputs": [],
   "source": [
    "# 2.เลือกข้อมูลพนักงานที่มีอายุเกิน 40 ปี และแสดงเฉพาะชื่อและเงินเดือน:\n",
    "senior_employees = df3.loc[df['Age'] > 40, ['Employee Name', 'Salary']]\n",
    "print(senior_employees)"
   ]
  },
  {
   "cell_type": "markdown",
   "metadata": {},
   "source": [
    "##### 3.3     DataFrame.iloc()\n",
    "เป็นวิธีการเข้าถึงและแก้ไขข้อมูลใน DataFrame โดยอ้างอิงจากตำแหน่งเชิงตัวเลข (index) ของแถวและคอลัมน์ เหมาะสำหรับการเลือกข้อมูลเมื่อคุณรู้ตำแหน่งเชิงตัวเลขของแถวหรือคอลัมน์ที่ต้องการใช้งาน\n",
    "- เข้าถึงแถวหรือคอลัมน์: ใช้ DataFrame.iloc[row_index, column_index] เพื่อเข้าถึงค่าที่ตำแหน่งแถวและคอลัมน์ที่ระบุ (ตำแหน่งเริ่มต้นจาก 0)\n",
    "- เลือกหลายแถวหรือหลายคอลัมน์: คุณสามารถเลือกหลายแถวหรือคอลัมน์ได้โดยใช้ช่วงตัวเลข (slice)\n",
    "- เลือกแถวทั้งหมดหรือคอลัมน์ทั้งหมด: ใช้ : เพื่อเลือกแถวทั้งหมดหรือคอลัมน์ทั้งหมด"
   ]
  },
  {
   "cell_type": "code",
   "execution_count": null,
   "metadata": {},
   "outputs": [],
   "source": [
    "#เลือกค่าของแถวที่ 2 และคอลัมน์ที่ 3 (เงินเดือนของ \"Emily Davis\"):\n",
    "salary_of_emily = df3.iloc[2, 3]\n",
    "print(salary_of_emily)"
   ]
  },
  {
   "cell_type": "code",
   "execution_count": null,
   "metadata": {},
   "outputs": [],
   "source": [
    "#เลือกข้อมูลแถวแรกและคอลัมน์แรก (ชื่อของ \"John Doe\"):\n",
    "first_employee_name = df3.iloc[0, 0]\n",
    "print(first_employee_name)"
   ]
  },
  {
   "cell_type": "code",
   "execution_count": null,
   "metadata": {},
   "outputs": [],
   "source": [
    "#เลือกข้อมูลทั้งหมดของแถวที่ 3 (ข้อมูลของ \"Michael Brown\"):\n",
    "michael_info = df3.iloc[3, :]\n",
    "print(michael_info)"
   ]
  },
  {
   "cell_type": "markdown",
   "metadata": {},
   "source": [
    "__________________________________________________________________________________________________________________________________________________________________________________"
   ]
  },
  {
   "cell_type": "markdown",
   "metadata": {},
   "source": [
    "#### 4.     Missing Data"
   ]
  },
  {
   "cell_type": "markdown",
   "metadata": {},
   "source": [
    "การจัดการกับ Missing Data (ข้อมูลที่ขาดหายไป) เป็นเรื่องสำคัญมากใน Pandas เนื่องจากในหลายกรณีที่เราทำงานกับข้อมูลจริง จะมีค่าที่ขาดหายไปหรือข้อมูลไม่สมบูรณ์ ซึ่งอาจเกิดจากหลายสาเหตุ เช่น ข้อมูลไม่ได้ถูกบันทึกในบางช่วงเวลา, ข้อมูลผิดพลาด, หรือข้อมูลบางส่วนไม่สามารถรวบรวมได้\n",
    "\n",
    "Pandas มีฟังก์ชันและวิธีการหลายอย่างในการจัดการกับ Missing Data โดยค่า missing data ใน Pandas จะแทนด้วย NaN (Not a Number)"
   ]
  },
  {
   "cell_type": "code",
   "execution_count": 99,
   "metadata": {},
   "outputs": [
    {
     "data": {
      "text/html": [
       "<div>\n",
       "<style scoped>\n",
       "    .dataframe tbody tr th:only-of-type {\n",
       "        vertical-align: middle;\n",
       "    }\n",
       "\n",
       "    .dataframe tbody tr th {\n",
       "        vertical-align: top;\n",
       "    }\n",
       "\n",
       "    .dataframe thead th {\n",
       "        text-align: right;\n",
       "    }\n",
       "</style>\n",
       "<table border=\"1\" class=\"dataframe\">\n",
       "  <thead>\n",
       "    <tr style=\"text-align: right;\">\n",
       "      <th></th>\n",
       "      <th>A</th>\n",
       "      <th>B</th>\n",
       "      <th>C</th>\n",
       "      <th>D</th>\n",
       "    </tr>\n",
       "  </thead>\n",
       "  <tbody>\n",
       "    <tr>\n",
       "      <th>0</th>\n",
       "      <td>1.0</td>\n",
       "      <td>NaN</td>\n",
       "      <td>1.0</td>\n",
       "      <td>1</td>\n",
       "    </tr>\n",
       "    <tr>\n",
       "      <th>1</th>\n",
       "      <td>2.0</td>\n",
       "      <td>2.0</td>\n",
       "      <td>NaN</td>\n",
       "      <td>2</td>\n",
       "    </tr>\n",
       "    <tr>\n",
       "      <th>2</th>\n",
       "      <td>NaN</td>\n",
       "      <td>3.0</td>\n",
       "      <td>NaN</td>\n",
       "      <td>3</td>\n",
       "    </tr>\n",
       "    <tr>\n",
       "      <th>3</th>\n",
       "      <td>4.0</td>\n",
       "      <td>4.0</td>\n",
       "      <td>4.0</td>\n",
       "      <td>4</td>\n",
       "    </tr>\n",
       "  </tbody>\n",
       "</table>\n",
       "</div>"
      ],
      "text/plain": [
       "     A    B    C  D\n",
       "0  1.0  NaN  1.0  1\n",
       "1  2.0  2.0  NaN  2\n",
       "2  NaN  3.0  NaN  3\n",
       "3  4.0  4.0  4.0  4"
      ]
     },
     "execution_count": 99,
     "metadata": {},
     "output_type": "execute_result"
    }
   ],
   "source": [
    "data = {\n",
    "    'A': [1, 2, np.nan, 4],\n",
    "    'B': [np.nan, 2, 3, 4],\n",
    "    'C': [1, np.nan, np.nan, 4],\n",
    "    'D': [1, 2, 3, 4]\n",
    "}\n",
    "\n",
    "df4 = pd.DataFrame(data)\n",
    "df4"
   ]
  },
  {
   "cell_type": "markdown",
   "metadata": {},
   "source": [
    "##### 4.1 วิธีการตรวจสอบ Missing Data"
   ]
  },
  {
   "cell_type": "code",
   "execution_count": 68,
   "metadata": {},
   "outputs": [
    {
     "data": {
      "text/html": [
       "<div>\n",
       "<style scoped>\n",
       "    .dataframe tbody tr th:only-of-type {\n",
       "        vertical-align: middle;\n",
       "    }\n",
       "\n",
       "    .dataframe tbody tr th {\n",
       "        vertical-align: top;\n",
       "    }\n",
       "\n",
       "    .dataframe thead th {\n",
       "        text-align: right;\n",
       "    }\n",
       "</style>\n",
       "<table border=\"1\" class=\"dataframe\">\n",
       "  <thead>\n",
       "    <tr style=\"text-align: right;\">\n",
       "      <th></th>\n",
       "      <th>A</th>\n",
       "      <th>B</th>\n",
       "      <th>C</th>\n",
       "      <th>D</th>\n",
       "    </tr>\n",
       "  </thead>\n",
       "  <tbody>\n",
       "    <tr>\n",
       "      <th>0</th>\n",
       "      <td>False</td>\n",
       "      <td>True</td>\n",
       "      <td>False</td>\n",
       "      <td>False</td>\n",
       "    </tr>\n",
       "    <tr>\n",
       "      <th>1</th>\n",
       "      <td>False</td>\n",
       "      <td>False</td>\n",
       "      <td>True</td>\n",
       "      <td>False</td>\n",
       "    </tr>\n",
       "    <tr>\n",
       "      <th>2</th>\n",
       "      <td>True</td>\n",
       "      <td>False</td>\n",
       "      <td>True</td>\n",
       "      <td>False</td>\n",
       "    </tr>\n",
       "    <tr>\n",
       "      <th>3</th>\n",
       "      <td>False</td>\n",
       "      <td>False</td>\n",
       "      <td>False</td>\n",
       "      <td>False</td>\n",
       "    </tr>\n",
       "  </tbody>\n",
       "</table>\n",
       "</div>"
      ],
      "text/plain": [
       "       A      B      C      D\n",
       "0  False   True  False  False\n",
       "1  False  False   True  False\n",
       "2   True  False   True  False\n",
       "3  False  False  False  False"
      ]
     },
     "execution_count": 68,
     "metadata": {},
     "output_type": "execute_result"
    }
   ],
   "source": [
    "# ตรวจสอบข้อมูลว่า มีข้อมูลที่ขาดหายไปหรือไม่\n",
    "df_isna= df4.isna()\n",
    "df_isna"
   ]
  },
  {
   "cell_type": "code",
   "execution_count": 69,
   "metadata": {},
   "outputs": [
    {
     "data": {
      "text/html": [
       "<div>\n",
       "<style scoped>\n",
       "    .dataframe tbody tr th:only-of-type {\n",
       "        vertical-align: middle;\n",
       "    }\n",
       "\n",
       "    .dataframe tbody tr th {\n",
       "        vertical-align: top;\n",
       "    }\n",
       "\n",
       "    .dataframe thead th {\n",
       "        text-align: right;\n",
       "    }\n",
       "</style>\n",
       "<table border=\"1\" class=\"dataframe\">\n",
       "  <thead>\n",
       "    <tr style=\"text-align: right;\">\n",
       "      <th></th>\n",
       "      <th>A</th>\n",
       "      <th>B</th>\n",
       "      <th>C</th>\n",
       "      <th>D</th>\n",
       "    </tr>\n",
       "  </thead>\n",
       "  <tbody>\n",
       "    <tr>\n",
       "      <th>0</th>\n",
       "      <td>True</td>\n",
       "      <td>False</td>\n",
       "      <td>True</td>\n",
       "      <td>True</td>\n",
       "    </tr>\n",
       "    <tr>\n",
       "      <th>1</th>\n",
       "      <td>True</td>\n",
       "      <td>True</td>\n",
       "      <td>False</td>\n",
       "      <td>True</td>\n",
       "    </tr>\n",
       "    <tr>\n",
       "      <th>2</th>\n",
       "      <td>False</td>\n",
       "      <td>True</td>\n",
       "      <td>False</td>\n",
       "      <td>True</td>\n",
       "    </tr>\n",
       "    <tr>\n",
       "      <th>3</th>\n",
       "      <td>True</td>\n",
       "      <td>True</td>\n",
       "      <td>True</td>\n",
       "      <td>True</td>\n",
       "    </tr>\n",
       "  </tbody>\n",
       "</table>\n",
       "</div>"
      ],
      "text/plain": [
       "       A      B      C     D\n",
       "0   True  False   True  True\n",
       "1   True   True  False  True\n",
       "2  False   True  False  True\n",
       "3   True   True   True  True"
      ]
     },
     "execution_count": 69,
     "metadata": {},
     "output_type": "execute_result"
    }
   ],
   "source": [
    "# ตรวจสอบข้อมูล ที่ไม่มีข้อมูลที่ขาดหายไป\n",
    "df_notna = df4.notna()\n",
    "df_notna"
   ]
  },
  {
   "cell_type": "code",
   "execution_count": 70,
   "metadata": {},
   "outputs": [
    {
     "data": {
      "text/plain": [
       "A    1\n",
       "B    1\n",
       "C    2\n",
       "D    0\n",
       "dtype: int64"
      ]
     },
     "execution_count": 70,
     "metadata": {},
     "output_type": "execute_result"
    }
   ],
   "source": [
    "# นับจำนวนข้อมูลที่หายไป\n",
    "df_isna_sum = df4.isna().sum()\n",
    "df_isna_sum"
   ]
  },
  {
   "cell_type": "markdown",
   "metadata": {},
   "source": [
    "##### 4.2 วิธีการจัดการกับ Missing Data"
   ]
  },
  {
   "cell_type": "markdown",
   "metadata": {},
   "source": [
    "##### - 4.2.1 ลบ Missing Data: คุณสามารถลบแถวหรือคอลัมน์ที่มี Missing Data ออกได้ด้วย dropna()"
   ]
  },
  {
   "cell_type": "code",
   "execution_count": 65,
   "metadata": {},
   "outputs": [
    {
     "data": {
      "text/html": [
       "<div>\n",
       "<style scoped>\n",
       "    .dataframe tbody tr th:only-of-type {\n",
       "        vertical-align: middle;\n",
       "    }\n",
       "\n",
       "    .dataframe tbody tr th {\n",
       "        vertical-align: top;\n",
       "    }\n",
       "\n",
       "    .dataframe thead th {\n",
       "        text-align: right;\n",
       "    }\n",
       "</style>\n",
       "<table border=\"1\" class=\"dataframe\">\n",
       "  <thead>\n",
       "    <tr style=\"text-align: right;\">\n",
       "      <th></th>\n",
       "      <th>A</th>\n",
       "      <th>B</th>\n",
       "      <th>C</th>\n",
       "      <th>D</th>\n",
       "    </tr>\n",
       "  </thead>\n",
       "  <tbody>\n",
       "    <tr>\n",
       "      <th>3</th>\n",
       "      <td>4.0</td>\n",
       "      <td>4.0</td>\n",
       "      <td>4.0</td>\n",
       "      <td>4</td>\n",
       "    </tr>\n",
       "  </tbody>\n",
       "</table>\n",
       "</div>"
      ],
      "text/plain": [
       "     A    B    C  D\n",
       "3  4.0  4.0  4.0  4"
      ]
     },
     "execution_count": 65,
     "metadata": {},
     "output_type": "execute_result"
    }
   ],
   "source": [
    "# ลบ Missing Data: คุณสามารถลบแถวหรือคอลัมน์ที่มี Missing Data ออกได้ด้วย dropna()\n",
    "\n",
    "# ลบแถว\n",
    "df_dropna_row = df4.dropna(axis=0)\n",
    "df_dropna_row"
   ]
  },
  {
   "cell_type": "code",
   "execution_count": 67,
   "metadata": {},
   "outputs": [
    {
     "data": {
      "text/html": [
       "<div>\n",
       "<style scoped>\n",
       "    .dataframe tbody tr th:only-of-type {\n",
       "        vertical-align: middle;\n",
       "    }\n",
       "\n",
       "    .dataframe tbody tr th {\n",
       "        vertical-align: top;\n",
       "    }\n",
       "\n",
       "    .dataframe thead th {\n",
       "        text-align: right;\n",
       "    }\n",
       "</style>\n",
       "<table border=\"1\" class=\"dataframe\">\n",
       "  <thead>\n",
       "    <tr style=\"text-align: right;\">\n",
       "      <th></th>\n",
       "      <th>D</th>\n",
       "    </tr>\n",
       "  </thead>\n",
       "  <tbody>\n",
       "    <tr>\n",
       "      <th>0</th>\n",
       "      <td>1</td>\n",
       "    </tr>\n",
       "    <tr>\n",
       "      <th>1</th>\n",
       "      <td>2</td>\n",
       "    </tr>\n",
       "    <tr>\n",
       "      <th>2</th>\n",
       "      <td>3</td>\n",
       "    </tr>\n",
       "    <tr>\n",
       "      <th>3</th>\n",
       "      <td>4</td>\n",
       "    </tr>\n",
       "  </tbody>\n",
       "</table>\n",
       "</div>"
      ],
      "text/plain": [
       "   D\n",
       "0  1\n",
       "1  2\n",
       "2  3\n",
       "3  4"
      ]
     },
     "execution_count": 67,
     "metadata": {},
     "output_type": "execute_result"
    }
   ],
   "source": [
    "# ลบคอลัมน์\n",
    "df_dropna_col =  df4.dropna(axis=1)\n",
    "df_dropna_col"
   ]
  },
  {
   "cell_type": "markdown",
   "metadata": {},
   "source": [
    "##### - 4.2.2 แทนที่ Missing Data: ใช้ fillna() เพื่อแทนค่าที่ขาดหายไปด้วยค่าที่คุณต้องการ"
   ]
  },
  {
   "cell_type": "code",
   "execution_count": 72,
   "metadata": {},
   "outputs": [
    {
     "data": {
      "text/html": [
       "<div>\n",
       "<style scoped>\n",
       "    .dataframe tbody tr th:only-of-type {\n",
       "        vertical-align: middle;\n",
       "    }\n",
       "\n",
       "    .dataframe tbody tr th {\n",
       "        vertical-align: top;\n",
       "    }\n",
       "\n",
       "    .dataframe thead th {\n",
       "        text-align: right;\n",
       "    }\n",
       "</style>\n",
       "<table border=\"1\" class=\"dataframe\">\n",
       "  <thead>\n",
       "    <tr style=\"text-align: right;\">\n",
       "      <th></th>\n",
       "      <th>A</th>\n",
       "      <th>B</th>\n",
       "      <th>C</th>\n",
       "      <th>D</th>\n",
       "    </tr>\n",
       "  </thead>\n",
       "  <tbody>\n",
       "    <tr>\n",
       "      <th>0</th>\n",
       "      <td>1.0</td>\n",
       "      <td>0.0</td>\n",
       "      <td>1.0</td>\n",
       "      <td>1</td>\n",
       "    </tr>\n",
       "    <tr>\n",
       "      <th>1</th>\n",
       "      <td>2.0</td>\n",
       "      <td>2.0</td>\n",
       "      <td>0.0</td>\n",
       "      <td>2</td>\n",
       "    </tr>\n",
       "    <tr>\n",
       "      <th>2</th>\n",
       "      <td>0.0</td>\n",
       "      <td>3.0</td>\n",
       "      <td>0.0</td>\n",
       "      <td>3</td>\n",
       "    </tr>\n",
       "    <tr>\n",
       "      <th>3</th>\n",
       "      <td>4.0</td>\n",
       "      <td>4.0</td>\n",
       "      <td>4.0</td>\n",
       "      <td>4</td>\n",
       "    </tr>\n",
       "  </tbody>\n",
       "</table>\n",
       "</div>"
      ],
      "text/plain": [
       "     A    B    C  D\n",
       "0  1.0  0.0  1.0  1\n",
       "1  2.0  2.0  0.0  2\n",
       "2  0.0  3.0  0.0  3\n",
       "3  4.0  4.0  4.0  4"
      ]
     },
     "execution_count": 72,
     "metadata": {},
     "output_type": "execute_result"
    }
   ],
   "source": [
    "# 1. แทนที่ Missing Data ทั้งหมดด้วย 0\n",
    "df_fillna_0 = df4.fillna(0)\n",
    "df_fillna_0"
   ]
  },
  {
   "cell_type": "code",
   "execution_count": 93,
   "metadata": {},
   "outputs": [
    {
     "data": {
      "text/html": [
       "<div>\n",
       "<style scoped>\n",
       "    .dataframe tbody tr th:only-of-type {\n",
       "        vertical-align: middle;\n",
       "    }\n",
       "\n",
       "    .dataframe tbody tr th {\n",
       "        vertical-align: top;\n",
       "    }\n",
       "\n",
       "    .dataframe thead th {\n",
       "        text-align: right;\n",
       "    }\n",
       "</style>\n",
       "<table border=\"1\" class=\"dataframe\">\n",
       "  <thead>\n",
       "    <tr style=\"text-align: right;\">\n",
       "      <th></th>\n",
       "      <th>A</th>\n",
       "      <th>B</th>\n",
       "      <th>C</th>\n",
       "      <th>D</th>\n",
       "    </tr>\n",
       "  </thead>\n",
       "  <tbody>\n",
       "    <tr>\n",
       "      <th>0</th>\n",
       "      <td>1.0</td>\n",
       "      <td>3.0</td>\n",
       "      <td>1.0</td>\n",
       "      <td>1</td>\n",
       "    </tr>\n",
       "    <tr>\n",
       "      <th>1</th>\n",
       "      <td>2.0</td>\n",
       "      <td>2.0</td>\n",
       "      <td>2.5</td>\n",
       "      <td>2</td>\n",
       "    </tr>\n",
       "    <tr>\n",
       "      <th>2</th>\n",
       "      <td>2.5</td>\n",
       "      <td>3.0</td>\n",
       "      <td>2.5</td>\n",
       "      <td>3</td>\n",
       "    </tr>\n",
       "    <tr>\n",
       "      <th>3</th>\n",
       "      <td>4.0</td>\n",
       "      <td>4.0</td>\n",
       "      <td>4.0</td>\n",
       "      <td>4</td>\n",
       "    </tr>\n",
       "  </tbody>\n",
       "</table>\n",
       "</div>"
      ],
      "text/plain": [
       "     A    B    C  D\n",
       "0  1.0  3.0  1.0  1\n",
       "1  2.0  2.0  2.5  2\n",
       "2  2.5  3.0  2.5  3\n",
       "3  4.0  4.0  4.0  4"
      ]
     },
     "execution_count": 93,
     "metadata": {},
     "output_type": "execute_result"
    }
   ],
   "source": [
    "# 2. แทนที่ Missing Data ด้วยค่าเฉลี่ยของทั้งคอลัมน์\n",
    "df_fillna_mean = df4.fillna(df4.mean())\n",
    "df_fillna_mean"
   ]
  },
  {
   "cell_type": "code",
   "execution_count": 94,
   "metadata": {},
   "outputs": [
    {
     "data": {
      "text/html": [
       "<div>\n",
       "<style scoped>\n",
       "    .dataframe tbody tr th:only-of-type {\n",
       "        vertical-align: middle;\n",
       "    }\n",
       "\n",
       "    .dataframe tbody tr th {\n",
       "        vertical-align: top;\n",
       "    }\n",
       "\n",
       "    .dataframe thead th {\n",
       "        text-align: right;\n",
       "    }\n",
       "</style>\n",
       "<table border=\"1\" class=\"dataframe\">\n",
       "  <thead>\n",
       "    <tr style=\"text-align: right;\">\n",
       "      <th></th>\n",
       "      <th>A</th>\n",
       "      <th>B</th>\n",
       "      <th>C</th>\n",
       "      <th>D</th>\n",
       "    </tr>\n",
       "  </thead>\n",
       "  <tbody>\n",
       "    <tr>\n",
       "      <th>0</th>\n",
       "      <td>1.0</td>\n",
       "      <td>NaN</td>\n",
       "      <td>1.0</td>\n",
       "      <td>1</td>\n",
       "    </tr>\n",
       "    <tr>\n",
       "      <th>1</th>\n",
       "      <td>2.0</td>\n",
       "      <td>2.0</td>\n",
       "      <td>2.5</td>\n",
       "      <td>2</td>\n",
       "    </tr>\n",
       "    <tr>\n",
       "      <th>2</th>\n",
       "      <td>2.5</td>\n",
       "      <td>3.0</td>\n",
       "      <td>2.5</td>\n",
       "      <td>3</td>\n",
       "    </tr>\n",
       "    <tr>\n",
       "      <th>3</th>\n",
       "      <td>4.0</td>\n",
       "      <td>4.0</td>\n",
       "      <td>4.0</td>\n",
       "      <td>4</td>\n",
       "    </tr>\n",
       "  </tbody>\n",
       "</table>\n",
       "</div>"
      ],
      "text/plain": [
       "     A    B    C  D\n",
       "0  1.0  NaN  1.0  1\n",
       "1  2.0  2.0  2.5  2\n",
       "2  2.5  3.0  2.5  3\n",
       "3  4.0  4.0  4.0  4"
      ]
     },
     "execution_count": 94,
     "metadata": {},
     "output_type": "execute_result"
    }
   ],
   "source": [
    "# 3. แทนที่ Missing Data โดยการคำนวณค่าที่เหมาะสมระหว่างข้อมูลก่อนหน้าและถัดไป\n",
    "df_interpolate = df4.interpolate()\n",
    "df_interpolate"
   ]
  },
  {
   "cell_type": "code",
   "execution_count": 96,
   "metadata": {},
   "outputs": [],
   "source": [
    "# 4. แทนที่ Missing Data ด้วยการเลือกค่าก่อนหน้า หรือ ถัดไป\n",
    "df_prev = df4.fillna(method='ffill') # เติมด้วยค่าก่อนหน้า\n",
    "df_next = df4.fillna(method='bfill') # เติมด้วยค่าถัดไป"
   ]
  },
  {
   "cell_type": "markdown",
   "metadata": {},
   "source": [
    "#### 5.     Operations"
   ]
  },
  {
   "cell_type": "markdown",
   "metadata": {},
   "source": [
    "ใน Pandas, การใช้งาน Operations หลัก ๆ มีดังนี้\n",
    "- 1. Statistical Operations การคำนวณสถิติ: ใช้ฟังก์ชันเช่น mean(), sum(), min(), max(), และ std() เพื่อคำนวณค่าพื้นฐานจาก DataFrame หรือ Series.\n",
    "- 2. Apply Functions การใช้ฟังก์ชัน: ใช้ apply() เพื่อใช้ฟังก์ชันที่กำหนดเองกับ DataFrame หรือ Series.\n",
    "- 3. String Methods การจัดการสตริง: ใช้เมธอดเช่น str.lower(), str.upper(), และ str.contains() เพื่อจัดการข้อมูลประเภทสตริง.\n"
   ]
  },
  {
   "cell_type": "code",
   "execution_count": 188,
   "metadata": {},
   "outputs": [],
   "source": [
    "employee_data = {\n",
    "    'Employee_ID': [1, 2, 3, 4, 5],\n",
    "    'Name': ['Alice Wonder', 'Bob Maley', 'Charlie Chep', 'David Back', 'Eva Oliver'],\n",
    "    'Age': [25, 30, 35, 40, 22],\n",
    "    'Salary': [50000, 60000, 70000, 80000, 40000],\n",
    "    'Department_ID': [101, 102, 101, 103, 102]\n",
    "}\n",
    "\n",
    "df5 = pd.DataFrame(employee_data) # ข้อมูลพนักงาน \n"
   ]
  },
  {
   "cell_type": "markdown",
   "metadata": {},
   "source": [
    "##### 5.1 Statistical Operations การคำนวณสถิติพื้นฐาน เช่น ค่าเฉลี่ย, ค่ามากที่สุด และค่าต่ำสุด"
   ]
  },
  {
   "cell_type": "code",
   "execution_count": 136,
   "metadata": {},
   "outputs": [],
   "source": [
    "\n",
    "df_mean = df5['Salary'].mean() # หาค่าเฉลี่ย\n",
    "df_max  = df5['Salary'].max() # หาค่ามากที่สุด\n",
    "df_min  = df5['Salary'].min() # หาค่าน้อยที่สุด\n",
    "df_sum  = df5['Salary'].sum() # หาผลรวม"
   ]
  },
  {
   "cell_type": "markdown",
   "metadata": {},
   "source": [
    "##### 5.2 Apply Functions การใช้ฟังก์ชันกับ DataFrame หรือ Series เช่น การใช้ apply เพื่อเพิ่มคอลัมน์ใหม่"
   ]
  },
  {
   "cell_type": "code",
   "execution_count": 214,
   "metadata": {},
   "outputs": [
    {
     "data": {
      "text/html": [
       "<div>\n",
       "<style scoped>\n",
       "    .dataframe tbody tr th:only-of-type {\n",
       "        vertical-align: middle;\n",
       "    }\n",
       "\n",
       "    .dataframe tbody tr th {\n",
       "        vertical-align: top;\n",
       "    }\n",
       "\n",
       "    .dataframe thead th {\n",
       "        text-align: right;\n",
       "    }\n",
       "</style>\n",
       "<table border=\"1\" class=\"dataframe\">\n",
       "  <thead>\n",
       "    <tr style=\"text-align: right;\">\n",
       "      <th></th>\n",
       "      <th>Name</th>\n",
       "      <th>Level</th>\n",
       "    </tr>\n",
       "  </thead>\n",
       "  <tbody>\n",
       "    <tr>\n",
       "      <th>0</th>\n",
       "      <td>Alice Wonder</td>\n",
       "      <td>Officer</td>\n",
       "    </tr>\n",
       "    <tr>\n",
       "      <th>1</th>\n",
       "      <td>Bob Maley</td>\n",
       "      <td>Senior</td>\n",
       "    </tr>\n",
       "    <tr>\n",
       "      <th>2</th>\n",
       "      <td>Charlie Chep</td>\n",
       "      <td>Senior</td>\n",
       "    </tr>\n",
       "    <tr>\n",
       "      <th>3</th>\n",
       "      <td>David Back</td>\n",
       "      <td>Director</td>\n",
       "    </tr>\n",
       "    <tr>\n",
       "      <th>4</th>\n",
       "      <td>Eva Oliver</td>\n",
       "      <td>Officer</td>\n",
       "    </tr>\n",
       "  </tbody>\n",
       "</table>\n",
       "</div>"
      ],
      "text/plain": [
       "             Name     Level\n",
       "0    Alice Wonder   Officer\n",
       "1       Bob Maley    Senior\n",
       "2  Charlie Chep      Senior\n",
       "3      David Back  Director\n",
       "4      Eva Oliver   Officer"
      ]
     },
     "execution_count": 214,
     "metadata": {},
     "output_type": "execute_result"
    }
   ],
   "source": [
    "# 5.2.1 เพิ่มคอลัมน์ใหม่\n",
    "\n",
    "# ฟังก์ชันเพื่อกำหนดระดับตำแหน่งตามเงินเดือน\n",
    "def categorize_salary(salary):\n",
    "    if salary > 70000:\n",
    "        return 'Director'\n",
    "    elif salary > 50000:\n",
    "        return 'Senior'\n",
    "    else:\n",
    "        return 'Officer'\n",
    "    \n",
    "\n",
    "df_apply = df5.copy()\n",
    "df_apply['Level'] = df_apply['Salary'].apply(categorize_salary)\n",
    "df_apply = df_apply[['Name','Level']]\n",
    "df_apply"
   ]
  },
  {
   "cell_type": "code",
   "execution_count": 215,
   "metadata": {},
   "outputs": [
    {
     "data": {
      "text/html": [
       "<div>\n",
       "<style scoped>\n",
       "    .dataframe tbody tr th:only-of-type {\n",
       "        vertical-align: middle;\n",
       "    }\n",
       "\n",
       "    .dataframe tbody tr th {\n",
       "        vertical-align: top;\n",
       "    }\n",
       "\n",
       "    .dataframe thead th {\n",
       "        text-align: right;\n",
       "    }\n",
       "</style>\n",
       "<table border=\"1\" class=\"dataframe\">\n",
       "  <thead>\n",
       "    <tr style=\"text-align: right;\">\n",
       "      <th></th>\n",
       "      <th>ชื่อ-นามสกุล</th>\n",
       "      <th>ตำแหน่ง</th>\n",
       "    </tr>\n",
       "  </thead>\n",
       "  <tbody>\n",
       "    <tr>\n",
       "      <th>0</th>\n",
       "      <td>Alice Wonder</td>\n",
       "      <td>Officer</td>\n",
       "    </tr>\n",
       "    <tr>\n",
       "      <th>1</th>\n",
       "      <td>Bob Maley</td>\n",
       "      <td>Senior</td>\n",
       "    </tr>\n",
       "    <tr>\n",
       "      <th>2</th>\n",
       "      <td>Charlie Chep</td>\n",
       "      <td>Senior</td>\n",
       "    </tr>\n",
       "    <tr>\n",
       "      <th>3</th>\n",
       "      <td>David Back</td>\n",
       "      <td>Director</td>\n",
       "    </tr>\n",
       "    <tr>\n",
       "      <th>4</th>\n",
       "      <td>Eva Oliver</td>\n",
       "      <td>Officer</td>\n",
       "    </tr>\n",
       "  </tbody>\n",
       "</table>\n",
       "</div>"
      ],
      "text/plain": [
       "     ชื่อ-นามสกุล   ตำแหน่ง\n",
       "0    Alice Wonder   Officer\n",
       "1       Bob Maley    Senior\n",
       "2  Charlie Chep      Senior\n",
       "3      David Back  Director\n",
       "4      Eva Oliver   Officer"
      ]
     },
     "execution_count": 215,
     "metadata": {},
     "output_type": "execute_result"
    }
   ],
   "source": [
    "# 5.2.2 การเปลี่ยนชื่อคอลัมน์\n",
    "\n",
    "df_rename = df_apply.copy()\n",
    "df_rename = df_rename.rename(columns = {'Name':'ชื่อ-นามสกุล','Level':'ตำแหน่ง'})\n",
    "df_rename"
   ]
  },
  {
   "cell_type": "markdown",
   "metadata": {},
   "source": [
    "##### 5.3 String Methods การจัดการกับข้อมูลที่เป็นประเภทสตริง (string) สามารถทำได้ด้วย str มีรูปแบบดังนี้"
   ]
  },
  {
   "cell_type": "code",
   "execution_count": 168,
   "metadata": {},
   "outputs": [
    {
     "data": {
      "text/html": [
       "<div>\n",
       "<style scoped>\n",
       "    .dataframe tbody tr th:only-of-type {\n",
       "        vertical-align: middle;\n",
       "    }\n",
       "\n",
       "    .dataframe tbody tr th {\n",
       "        vertical-align: top;\n",
       "    }\n",
       "\n",
       "    .dataframe thead th {\n",
       "        text-align: right;\n",
       "    }\n",
       "</style>\n",
       "<table border=\"1\" class=\"dataframe\">\n",
       "  <thead>\n",
       "    <tr style=\"text-align: right;\">\n",
       "      <th></th>\n",
       "      <th>Employee_ID</th>\n",
       "      <th>Name</th>\n",
       "      <th>Age</th>\n",
       "      <th>Salary</th>\n",
       "      <th>Department_ID</th>\n",
       "      <th>Level</th>\n",
       "    </tr>\n",
       "  </thead>\n",
       "  <tbody>\n",
       "    <tr>\n",
       "      <th>0</th>\n",
       "      <td>1</td>\n",
       "      <td>alice</td>\n",
       "      <td>25</td>\n",
       "      <td>50000</td>\n",
       "      <td>101</td>\n",
       "      <td>Officer</td>\n",
       "    </tr>\n",
       "    <tr>\n",
       "      <th>1</th>\n",
       "      <td>2</td>\n",
       "      <td>bob</td>\n",
       "      <td>30</td>\n",
       "      <td>60000</td>\n",
       "      <td>102</td>\n",
       "      <td>Senior</td>\n",
       "    </tr>\n",
       "    <tr>\n",
       "      <th>2</th>\n",
       "      <td>3</td>\n",
       "      <td>charlie</td>\n",
       "      <td>35</td>\n",
       "      <td>70000</td>\n",
       "      <td>101</td>\n",
       "      <td>Senior</td>\n",
       "    </tr>\n",
       "    <tr>\n",
       "      <th>3</th>\n",
       "      <td>4</td>\n",
       "      <td>david</td>\n",
       "      <td>40</td>\n",
       "      <td>80000</td>\n",
       "      <td>103</td>\n",
       "      <td>Director</td>\n",
       "    </tr>\n",
       "    <tr>\n",
       "      <th>4</th>\n",
       "      <td>5</td>\n",
       "      <td>eva</td>\n",
       "      <td>22</td>\n",
       "      <td>40000</td>\n",
       "      <td>102</td>\n",
       "      <td>Officer</td>\n",
       "    </tr>\n",
       "  </tbody>\n",
       "</table>\n",
       "</div>"
      ],
      "text/plain": [
       "   Employee_ID     Name  Age  Salary  Department_ID     Level\n",
       "0            1    alice   25   50000            101   Officer\n",
       "1            2      bob   30   60000            102    Senior\n",
       "2            3  charlie   35   70000            101    Senior\n",
       "3            4    david   40   80000            103  Director\n",
       "4            5      eva   22   40000            102   Officer"
      ]
     },
     "execution_count": 168,
     "metadata": {},
     "output_type": "execute_result"
    }
   ],
   "source": [
    "# 5.3.1 การแปลงสตริง\n",
    "'''\n",
    "str.lower(): แปลงข้อความเป็นตัวพิมพ์เล็ก\n",
    "str.upper(): แปลงข้อความเป็นตัวพิมพ์ใหญ่\n",
    "str.title(): แปลงข้อความให้เป็นรูปแบบ Title Case (ตัวพิมพ์ใหญ่ที่แรกของแต่ละคำ)\n",
    "'''\n",
    "\n",
    "df_str = df5.copy()\n",
    "df_str['Name'] = df_str['Name'].str.lower()\n",
    "\n",
    "df_str"
   ]
  },
  {
   "cell_type": "code",
   "execution_count": 177,
   "metadata": {},
   "outputs": [
    {
     "data": {
      "text/html": [
       "<div>\n",
       "<style scoped>\n",
       "    .dataframe tbody tr th:only-of-type {\n",
       "        vertical-align: middle;\n",
       "    }\n",
       "\n",
       "    .dataframe tbody tr th {\n",
       "        vertical-align: top;\n",
       "    }\n",
       "\n",
       "    .dataframe thead th {\n",
       "        text-align: right;\n",
       "    }\n",
       "</style>\n",
       "<table border=\"1\" class=\"dataframe\">\n",
       "  <thead>\n",
       "    <tr style=\"text-align: right;\">\n",
       "      <th></th>\n",
       "      <th>Employee_ID</th>\n",
       "      <th>Name</th>\n",
       "      <th>Age</th>\n",
       "      <th>Salary</th>\n",
       "      <th>Department_ID</th>\n",
       "      <th>Level</th>\n",
       "      <th>Contains</th>\n",
       "    </tr>\n",
       "  </thead>\n",
       "  <tbody>\n",
       "    <tr>\n",
       "      <th>2</th>\n",
       "      <td>3</td>\n",
       "      <td>Charlie</td>\n",
       "      <td>35</td>\n",
       "      <td>70000</td>\n",
       "      <td>101</td>\n",
       "      <td>Senior</td>\n",
       "      <td>True</td>\n",
       "    </tr>\n",
       "  </tbody>\n",
       "</table>\n",
       "</div>"
      ],
      "text/plain": [
       "   Employee_ID     Name  Age  Salary  Department_ID   Level  Contains\n",
       "2            3  Charlie   35   70000            101  Senior      True"
      ]
     },
     "execution_count": 177,
     "metadata": {},
     "output_type": "execute_result"
    }
   ],
   "source": [
    "# 5.3.2 การค้นหา\n",
    "'''\n",
    "str.contains(pattern): ตรวจสอบว่าข้อความมีแพทเทิร์นที่ระบุอยู่หรือไม่\n",
    "\n",
    "'''\n",
    "df_str_contains = df5.copy()\n",
    "df_str_contains['Contains'] = df_str_contains['Name'].str.contains('C')\n",
    "\n",
    "df_str_contains = df_str_contains[df_str_contains['Contains']]\n",
    "df_str_contains\n"
   ]
  },
  {
   "cell_type": "code",
   "execution_count": 184,
   "metadata": {},
   "outputs": [
    {
     "data": {
      "text/html": [
       "<div>\n",
       "<style scoped>\n",
       "    .dataframe tbody tr th:only-of-type {\n",
       "        vertical-align: middle;\n",
       "    }\n",
       "\n",
       "    .dataframe tbody tr th {\n",
       "        vertical-align: top;\n",
       "    }\n",
       "\n",
       "    .dataframe thead th {\n",
       "        text-align: right;\n",
       "    }\n",
       "</style>\n",
       "<table border=\"1\" class=\"dataframe\">\n",
       "  <thead>\n",
       "    <tr style=\"text-align: right;\">\n",
       "      <th></th>\n",
       "      <th>Employee_ID</th>\n",
       "      <th>Name</th>\n",
       "      <th>Age</th>\n",
       "      <th>Salary</th>\n",
       "      <th>Department_ID</th>\n",
       "    </tr>\n",
       "  </thead>\n",
       "  <tbody>\n",
       "    <tr>\n",
       "      <th>0</th>\n",
       "      <td>1</td>\n",
       "      <td>Alice Wonder</td>\n",
       "      <td>25</td>\n",
       "      <td>50000</td>\n",
       "      <td>101</td>\n",
       "    </tr>\n",
       "    <tr>\n",
       "      <th>1</th>\n",
       "      <td>2</td>\n",
       "      <td>Bob Maley</td>\n",
       "      <td>30</td>\n",
       "      <td>60000</td>\n",
       "      <td>102</td>\n",
       "    </tr>\n",
       "    <tr>\n",
       "      <th>2</th>\n",
       "      <td>3</td>\n",
       "      <td>Charlie Chep</td>\n",
       "      <td>35</td>\n",
       "      <td>70000</td>\n",
       "      <td>101</td>\n",
       "    </tr>\n",
       "    <tr>\n",
       "      <th>3</th>\n",
       "      <td>4</td>\n",
       "      <td>David Back</td>\n",
       "      <td>40</td>\n",
       "      <td>80000</td>\n",
       "      <td>103</td>\n",
       "    </tr>\n",
       "    <tr>\n",
       "      <th>4</th>\n",
       "      <td>5</td>\n",
       "      <td>Evalia Oliver</td>\n",
       "      <td>22</td>\n",
       "      <td>40000</td>\n",
       "      <td>102</td>\n",
       "    </tr>\n",
       "  </tbody>\n",
       "</table>\n",
       "</div>"
      ],
      "text/plain": [
       "   Employee_ID           Name  Age  Salary  Department_ID\n",
       "0            1   Alice Wonder   25   50000            101\n",
       "1            2      Bob Maley   30   60000            102\n",
       "2            3   Charlie Chep   35   70000            101\n",
       "3            4     David Back   40   80000            103\n",
       "4            5  Evalia Oliver   22   40000            102"
      ]
     },
     "execution_count": 184,
     "metadata": {},
     "output_type": "execute_result"
    }
   ],
   "source": [
    "# 5.3.3 การแทนที่\n",
    "'''\n",
    "str.replace(old, new): แทนที่ข้อความที่ตรงกับ old ด้วย new\n",
    "\n",
    "'''\n",
    "df_str_replace = df5.copy()\n",
    "df_str_replace['Name'] = df_str_replace['Name'].str.replace('Eva','Evalia')\n",
    "df_str_replace"
   ]
  },
  {
   "cell_type": "code",
   "execution_count": 185,
   "metadata": {},
   "outputs": [
    {
     "data": {
      "text/html": [
       "<div>\n",
       "<style scoped>\n",
       "    .dataframe tbody tr th:only-of-type {\n",
       "        vertical-align: middle;\n",
       "    }\n",
       "\n",
       "    .dataframe tbody tr th {\n",
       "        vertical-align: top;\n",
       "    }\n",
       "\n",
       "    .dataframe thead th {\n",
       "        text-align: right;\n",
       "    }\n",
       "</style>\n",
       "<table border=\"1\" class=\"dataframe\">\n",
       "  <thead>\n",
       "    <tr style=\"text-align: right;\">\n",
       "      <th></th>\n",
       "      <th>Employee_ID</th>\n",
       "      <th>Name</th>\n",
       "      <th>Age</th>\n",
       "      <th>Salary</th>\n",
       "      <th>Department_ID</th>\n",
       "    </tr>\n",
       "  </thead>\n",
       "  <tbody>\n",
       "    <tr>\n",
       "      <th>0</th>\n",
       "      <td>1</td>\n",
       "      <td>Ali</td>\n",
       "      <td>25</td>\n",
       "      <td>50000</td>\n",
       "      <td>101</td>\n",
       "    </tr>\n",
       "    <tr>\n",
       "      <th>1</th>\n",
       "      <td>2</td>\n",
       "      <td>Bob</td>\n",
       "      <td>30</td>\n",
       "      <td>60000</td>\n",
       "      <td>102</td>\n",
       "    </tr>\n",
       "    <tr>\n",
       "      <th>2</th>\n",
       "      <td>3</td>\n",
       "      <td>Cha</td>\n",
       "      <td>35</td>\n",
       "      <td>70000</td>\n",
       "      <td>101</td>\n",
       "    </tr>\n",
       "    <tr>\n",
       "      <th>3</th>\n",
       "      <td>4</td>\n",
       "      <td>Dav</td>\n",
       "      <td>40</td>\n",
       "      <td>80000</td>\n",
       "      <td>103</td>\n",
       "    </tr>\n",
       "    <tr>\n",
       "      <th>4</th>\n",
       "      <td>5</td>\n",
       "      <td>Eva</td>\n",
       "      <td>22</td>\n",
       "      <td>40000</td>\n",
       "      <td>102</td>\n",
       "    </tr>\n",
       "  </tbody>\n",
       "</table>\n",
       "</div>"
      ],
      "text/plain": [
       "   Employee_ID Name  Age  Salary  Department_ID\n",
       "0            1  Ali   25   50000            101\n",
       "1            2  Bob   30   60000            102\n",
       "2            3  Cha   35   70000            101\n",
       "3            4  Dav   40   80000            103\n",
       "4            5  Eva   22   40000            102"
      ]
     },
     "execution_count": 185,
     "metadata": {},
     "output_type": "execute_result"
    }
   ],
   "source": [
    "# 5.3.4 การตัด\n",
    "'''\n",
    "str.slice(start, stop): ตัดสตริงจากตำแหน่ง start ถึง stop\n",
    "\n",
    "'''\n",
    "\n",
    "df_str_slice = df5.copy()\n",
    "df_str_slice['Name'] = df_str_slice['Name'].str.slice(0,3)\n",
    "df_str_slice"
   ]
  },
  {
   "cell_type": "code",
   "execution_count": 186,
   "metadata": {},
   "outputs": [
    {
     "data": {
      "text/html": [
       "<div>\n",
       "<style scoped>\n",
       "    .dataframe tbody tr th:only-of-type {\n",
       "        vertical-align: middle;\n",
       "    }\n",
       "\n",
       "    .dataframe tbody tr th {\n",
       "        vertical-align: top;\n",
       "    }\n",
       "\n",
       "    .dataframe thead th {\n",
       "        text-align: right;\n",
       "    }\n",
       "</style>\n",
       "<table border=\"1\" class=\"dataframe\">\n",
       "  <thead>\n",
       "    <tr style=\"text-align: right;\">\n",
       "      <th></th>\n",
       "      <th>Employee_ID</th>\n",
       "      <th>Name</th>\n",
       "      <th>Age</th>\n",
       "      <th>Salary</th>\n",
       "      <th>Department_ID</th>\n",
       "    </tr>\n",
       "  </thead>\n",
       "  <tbody>\n",
       "    <tr>\n",
       "      <th>0</th>\n",
       "      <td>1</td>\n",
       "      <td>[Alice, Wonder]</td>\n",
       "      <td>25</td>\n",
       "      <td>50000</td>\n",
       "      <td>101</td>\n",
       "    </tr>\n",
       "    <tr>\n",
       "      <th>1</th>\n",
       "      <td>2</td>\n",
       "      <td>[Bob, Maley]</td>\n",
       "      <td>30</td>\n",
       "      <td>60000</td>\n",
       "      <td>102</td>\n",
       "    </tr>\n",
       "    <tr>\n",
       "      <th>2</th>\n",
       "      <td>3</td>\n",
       "      <td>[Charlie, Chep]</td>\n",
       "      <td>35</td>\n",
       "      <td>70000</td>\n",
       "      <td>101</td>\n",
       "    </tr>\n",
       "    <tr>\n",
       "      <th>3</th>\n",
       "      <td>4</td>\n",
       "      <td>[David, Back]</td>\n",
       "      <td>40</td>\n",
       "      <td>80000</td>\n",
       "      <td>103</td>\n",
       "    </tr>\n",
       "    <tr>\n",
       "      <th>4</th>\n",
       "      <td>5</td>\n",
       "      <td>[Eva, Oliver]</td>\n",
       "      <td>22</td>\n",
       "      <td>40000</td>\n",
       "      <td>102</td>\n",
       "    </tr>\n",
       "  </tbody>\n",
       "</table>\n",
       "</div>"
      ],
      "text/plain": [
       "   Employee_ID             Name  Age  Salary  Department_ID\n",
       "0            1  [Alice, Wonder]   25   50000            101\n",
       "1            2     [Bob, Maley]   30   60000            102\n",
       "2            3  [Charlie, Chep]   35   70000            101\n",
       "3            4    [David, Back]   40   80000            103\n",
       "4            5    [Eva, Oliver]   22   40000            102"
      ]
     },
     "execution_count": 186,
     "metadata": {},
     "output_type": "execute_result"
    }
   ],
   "source": [
    "# 5.3.5 การแบ่ง\n",
    "'''\n",
    "str.split(pattern): แบ่งสตริงตาม pattern และคืนค่าลิสต์ของคำ\n",
    "\n",
    "'''\n",
    "\n",
    "df_str_split = df5.copy()\n",
    "df_str_split['Name'] = df_str_split['Name'].str.split(' ')\n",
    "df_str_split"
   ]
  },
  {
   "cell_type": "code",
   "execution_count": 192,
   "metadata": {},
   "outputs": [
    {
     "data": {
      "text/html": [
       "<div>\n",
       "<style scoped>\n",
       "    .dataframe tbody tr th:only-of-type {\n",
       "        vertical-align: middle;\n",
       "    }\n",
       "\n",
       "    .dataframe tbody tr th {\n",
       "        vertical-align: top;\n",
       "    }\n",
       "\n",
       "    .dataframe thead th {\n",
       "        text-align: right;\n",
       "    }\n",
       "</style>\n",
       "<table border=\"1\" class=\"dataframe\">\n",
       "  <thead>\n",
       "    <tr style=\"text-align: right;\">\n",
       "      <th></th>\n",
       "      <th>Employee_ID</th>\n",
       "      <th>Name</th>\n",
       "      <th>Age</th>\n",
       "      <th>Salary</th>\n",
       "      <th>Department_ID</th>\n",
       "      <th>Level</th>\n",
       "      <th>Name_len</th>\n",
       "    </tr>\n",
       "  </thead>\n",
       "  <tbody>\n",
       "    <tr>\n",
       "      <th>0</th>\n",
       "      <td>1</td>\n",
       "      <td>Alice Wonder</td>\n",
       "      <td>25</td>\n",
       "      <td>50000</td>\n",
       "      <td>101</td>\n",
       "      <td>Officer</td>\n",
       "      <td>14</td>\n",
       "    </tr>\n",
       "    <tr>\n",
       "      <th>1</th>\n",
       "      <td>2</td>\n",
       "      <td>Bob Maley</td>\n",
       "      <td>30</td>\n",
       "      <td>60000</td>\n",
       "      <td>102</td>\n",
       "      <td>Senior</td>\n",
       "      <td>9</td>\n",
       "    </tr>\n",
       "    <tr>\n",
       "      <th>2</th>\n",
       "      <td>3</td>\n",
       "      <td>Charlie Chep</td>\n",
       "      <td>35</td>\n",
       "      <td>70000</td>\n",
       "      <td>101</td>\n",
       "      <td>Senior</td>\n",
       "      <td>14</td>\n",
       "    </tr>\n",
       "    <tr>\n",
       "      <th>3</th>\n",
       "      <td>4</td>\n",
       "      <td>David Back</td>\n",
       "      <td>40</td>\n",
       "      <td>80000</td>\n",
       "      <td>103</td>\n",
       "      <td>Director</td>\n",
       "      <td>10</td>\n",
       "    </tr>\n",
       "    <tr>\n",
       "      <th>4</th>\n",
       "      <td>5</td>\n",
       "      <td>Eva Oliver</td>\n",
       "      <td>22</td>\n",
       "      <td>40000</td>\n",
       "      <td>102</td>\n",
       "      <td>Officer</td>\n",
       "      <td>10</td>\n",
       "    </tr>\n",
       "  </tbody>\n",
       "</table>\n",
       "</div>"
      ],
      "text/plain": [
       "   Employee_ID            Name  Age  Salary  Department_ID     Level  Name_len\n",
       "0            1    Alice Wonder   25   50000            101   Officer        14\n",
       "1            2       Bob Maley   30   60000            102    Senior         9\n",
       "2            3  Charlie Chep     35   70000            101    Senior        14\n",
       "3            4      David Back   40   80000            103  Director        10\n",
       "4            5      Eva Oliver   22   40000            102   Officer        10"
      ]
     },
     "execution_count": 192,
     "metadata": {},
     "output_type": "execute_result"
    }
   ],
   "source": [
    "# 5.3.6 การนับ\n",
    "'''\n",
    "str.len(): นับความยาวของสตริง\n",
    "'''\n",
    "\n",
    "df_str_len= df5.copy()\n",
    "df_str_len['Name_len'] = df_str_len['Name'].str.len()\n",
    "df_str_len"
   ]
  },
  {
   "cell_type": "code",
   "execution_count": 193,
   "metadata": {},
   "outputs": [
    {
     "data": {
      "text/html": [
       "<div>\n",
       "<style scoped>\n",
       "    .dataframe tbody tr th:only-of-type {\n",
       "        vertical-align: middle;\n",
       "    }\n",
       "\n",
       "    .dataframe tbody tr th {\n",
       "        vertical-align: top;\n",
       "    }\n",
       "\n",
       "    .dataframe thead th {\n",
       "        text-align: right;\n",
       "    }\n",
       "</style>\n",
       "<table border=\"1\" class=\"dataframe\">\n",
       "  <thead>\n",
       "    <tr style=\"text-align: right;\">\n",
       "      <th></th>\n",
       "      <th>Employee_ID</th>\n",
       "      <th>Name</th>\n",
       "      <th>Age</th>\n",
       "      <th>Salary</th>\n",
       "      <th>Department_ID</th>\n",
       "      <th>Level</th>\n",
       "      <th>Name_len</th>\n",
       "    </tr>\n",
       "  </thead>\n",
       "  <tbody>\n",
       "    <tr>\n",
       "      <th>0</th>\n",
       "      <td>1</td>\n",
       "      <td>Alice Wonder</td>\n",
       "      <td>25</td>\n",
       "      <td>50000</td>\n",
       "      <td>101</td>\n",
       "      <td>Officer</td>\n",
       "      <td>12</td>\n",
       "    </tr>\n",
       "    <tr>\n",
       "      <th>1</th>\n",
       "      <td>2</td>\n",
       "      <td>Bob Maley</td>\n",
       "      <td>30</td>\n",
       "      <td>60000</td>\n",
       "      <td>102</td>\n",
       "      <td>Senior</td>\n",
       "      <td>9</td>\n",
       "    </tr>\n",
       "    <tr>\n",
       "      <th>2</th>\n",
       "      <td>3</td>\n",
       "      <td>Charlie Chep</td>\n",
       "      <td>35</td>\n",
       "      <td>70000</td>\n",
       "      <td>101</td>\n",
       "      <td>Senior</td>\n",
       "      <td>12</td>\n",
       "    </tr>\n",
       "    <tr>\n",
       "      <th>3</th>\n",
       "      <td>4</td>\n",
       "      <td>David Back</td>\n",
       "      <td>40</td>\n",
       "      <td>80000</td>\n",
       "      <td>103</td>\n",
       "      <td>Director</td>\n",
       "      <td>10</td>\n",
       "    </tr>\n",
       "    <tr>\n",
       "      <th>4</th>\n",
       "      <td>5</td>\n",
       "      <td>Eva Oliver</td>\n",
       "      <td>22</td>\n",
       "      <td>40000</td>\n",
       "      <td>102</td>\n",
       "      <td>Officer</td>\n",
       "      <td>10</td>\n",
       "    </tr>\n",
       "  </tbody>\n",
       "</table>\n",
       "</div>"
      ],
      "text/plain": [
       "   Employee_ID          Name  Age  Salary  Department_ID     Level  Name_len\n",
       "0            1  Alice Wonder   25   50000            101   Officer        12\n",
       "1            2     Bob Maley   30   60000            102    Senior         9\n",
       "2            3  Charlie Chep   35   70000            101    Senior        12\n",
       "3            4    David Back   40   80000            103  Director        10\n",
       "4            5    Eva Oliver   22   40000            102   Officer        10"
      ]
     },
     "execution_count": 193,
     "metadata": {},
     "output_type": "execute_result"
    }
   ],
   "source": [
    "# 5.3.7 การตัดช่องว่าง\n",
    "'''\n",
    "str.strip(): ตัดช่องว่างที่ต้นและท้ายของสตริง\n",
    "'''\n",
    "\n",
    "# ตัดช่องว่างแล้ว\n",
    "df_str_strip = df5.copy()\n",
    "df_str_strip['Name'] = df_str_strip['Name'].str.strip()\n",
    "\n",
    "# ลองนับดู\n",
    "df_str_strip['Name_len'] = df_str_strip['Name'].str.len()\n",
    "df_str_strip\n"
   ]
  },
  {
   "cell_type": "markdown",
   "metadata": {},
   "source": [
    "__________________________________________________________________________________________________________________________________________________________________________________"
   ]
  },
  {
   "cell_type": "markdown",
   "metadata": {},
   "source": [
    "#### 6.     Merge"
   ]
  },
  {
   "cell_type": "markdown",
   "metadata": {},
   "source": [
    "การ merge ใน Pandas เป็นการรวม (join) ข้อมูลจากสอง DataFrames เข้าด้วยกันตามคีย์ที่ใช้ร่วมกัน (common key). การ merge คล้ายกับการทำ SQL join ซึ่งสามารถทำได้หลากหลายแบบ เช่น inner join, outer join, left join, และ right join."
   ]
  },
  {
   "cell_type": "markdown",
   "metadata": {},
   "source": [
    "ประเภทของ Merge\n",
    "1. Inner Join (ค่าเริ่มต้น): จะรวมเฉพาะข้อมูลที่มีคีย์ตรงกันในทั้งสอง DataFrame\n",
    "2. Left Join: จะรวมข้อมูลทั้งหมดจาก DataFrame ด้านซ้าย และเพิ่มข้อมูลจาก DataFrame ด้านขวาที่มีคีย์ตรงกัน\n",
    "3. Right Join: จะรวมข้อมูลทั้งหมดจาก DataFrame ด้านขวา และเพิ่มข้อมูลจาก DataFrame ด้านซ้ายที่มีคีย์ตรงกัน\n",
    "4. Outer Join: จะรวมข้อมูลทั้งหมดจากทั้งสอง DataFrame โดยจะเติม NaN ในตำแหน่งที่ไม่มีคีย์ตรงกัน\n"
   ]
  },
  {
   "attachments": {
    "image.png": {
     "image/png": "[encoded data removed]"
    }
   },
   "cell_type": "markdown",
   "metadata": {},
   "source": [
    "![image.png](attachment:image.png)"
   ]
  },
  {
   "cell_type": "code",
   "execution_count": 195,
   "metadata": {},
   "outputs": [],
   "source": [
    "# Example Dataframe\n",
    "\n",
    "# ข้อมูลพนักงาน \n",
    "employee_data = {\n",
    "    'Employee_ID': [1, 2, 3, 4, 5],\n",
    "    'Name': ['Alice Wonder', 'Bob Maley', 'Charlie Chep', 'David Back', 'Eva Oliver'],\n",
    "    'Age': [25, 30, 35, 40, 22],\n",
    "    'Salary': [50000, 60000, 70000, 80000, 40000],\n",
    "    'Department_ID': [101, 102, 101, 103, 102]\n",
    "}\n",
    "\n",
    "df61 = pd.DataFrame(employee_data) # ข้อมูลพนักงาน \n",
    "\n",
    "# ข้อมูลแผนก\n",
    "departments = pd.DataFrame({\n",
    "    'Department_ID': [101, 102, 103, 104],\n",
    "    'Department_Name': ['HR', 'Finance', 'IT', 'Marketing'],\n",
    "    'Manager': ['John', 'Sarah', 'James', 'Laura']\n",
    "})\n",
    "\n",
    "df62 = pd.DataFrame(departments) # ข้อมูลแผนก\n"
   ]
  },
  {
   "cell_type": "code",
   "execution_count": 197,
   "metadata": {},
   "outputs": [],
   "source": [
    "# Inner Join\n",
    "merged_df_inner = pd.merge(df61, df62, on='Department_ID', how='inner')\n",
    "\n",
    "# left Join\n",
    "merged_df_left  = pd.merge(df61, df62, on='Department_ID', how='left' )\n",
    "\n",
    "# right Join\n",
    "merged_df_right = pd.merge(df61, df62, on='Department_ID', how='right')\n",
    "\n",
    "# outer Join\n",
    "merged_df_outer = pd.merge(df61, df62, on='Department_ID', how='outer')\n"
   ]
  },
  {
   "cell_type": "code",
   "execution_count": 225,
   "metadata": {},
   "outputs": [
    {
     "data": {
      "text/html": [
       "<div>\n",
       "<style scoped>\n",
       "    .dataframe tbody tr th:only-of-type {\n",
       "        vertical-align: middle;\n",
       "    }\n",
       "\n",
       "    .dataframe tbody tr th {\n",
       "        vertical-align: top;\n",
       "    }\n",
       "\n",
       "    .dataframe thead th {\n",
       "        text-align: right;\n",
       "    }\n",
       "</style>\n",
       "<table border=\"1\" class=\"dataframe\">\n",
       "  <thead>\n",
       "    <tr style=\"text-align: right;\">\n",
       "      <th></th>\n",
       "      <th>รหัสลูกค้า</th>\n",
       "      <th>ชื่อลูกค้า</th>\n",
       "      <th>อายุ</th>\n",
       "      <th>เงินเดือน</th>\n",
       "      <th>รหัสแผนก</th>\n",
       "      <th>ชื่อแผนก</th>\n",
       "      <th>ชื่อผู้จัดการที่ดูแล</th>\n",
       "      <th>ระดับอาวุโส</th>\n",
       "    </tr>\n",
       "  </thead>\n",
       "  <tbody>\n",
       "    <tr>\n",
       "      <th>3</th>\n",
       "      <td>4</td>\n",
       "      <td>David Back</td>\n",
       "      <td>40</td>\n",
       "      <td>80000</td>\n",
       "      <td>103</td>\n",
       "      <td>IT</td>\n",
       "      <td>James</td>\n",
       "      <td>Director</td>\n",
       "    </tr>\n",
       "    <tr>\n",
       "      <th>2</th>\n",
       "      <td>3</td>\n",
       "      <td>Charlie Chep</td>\n",
       "      <td>35</td>\n",
       "      <td>70000</td>\n",
       "      <td>101</td>\n",
       "      <td>HR</td>\n",
       "      <td>John</td>\n",
       "      <td>Senior</td>\n",
       "    </tr>\n",
       "    <tr>\n",
       "      <th>1</th>\n",
       "      <td>2</td>\n",
       "      <td>Bob Maley</td>\n",
       "      <td>30</td>\n",
       "      <td>60000</td>\n",
       "      <td>102</td>\n",
       "      <td>Finance</td>\n",
       "      <td>Sarah</td>\n",
       "      <td>Senior</td>\n",
       "    </tr>\n",
       "    <tr>\n",
       "      <th>0</th>\n",
       "      <td>1</td>\n",
       "      <td>Alice Wonder</td>\n",
       "      <td>25</td>\n",
       "      <td>50000</td>\n",
       "      <td>101</td>\n",
       "      <td>HR</td>\n",
       "      <td>John</td>\n",
       "      <td>Officer</td>\n",
       "    </tr>\n",
       "    <tr>\n",
       "      <th>4</th>\n",
       "      <td>5</td>\n",
       "      <td>Eva Oliver</td>\n",
       "      <td>22</td>\n",
       "      <td>40000</td>\n",
       "      <td>102</td>\n",
       "      <td>Finance</td>\n",
       "      <td>Sarah</td>\n",
       "      <td>Officer</td>\n",
       "    </tr>\n",
       "  </tbody>\n",
       "</table>\n",
       "</div>"
      ],
      "text/plain": [
       "   รหัสลูกค้า    ชื่อลูกค้า  อายุ  เงินเดือน  รหัสแผนก ชื่อแผนก  \\\n",
       "3           4    David Back    40      80000       103       IT   \n",
       "2           3  Charlie Chep    35      70000       101       HR   \n",
       "1           2     Bob Maley    30      60000       102  Finance   \n",
       "0           1  Alice Wonder    25      50000       101       HR   \n",
       "4           5    Eva Oliver    22      40000       102  Finance   \n",
       "\n",
       "  ชื่อผู้จัดการที่ดูแล ระดับอาวุโส  \n",
       "3                James    Director  \n",
       "2                 John      Senior  \n",
       "1                Sarah      Senior  \n",
       "0                 John     Officer  \n",
       "4                Sarah     Officer  "
      ]
     },
     "execution_count": 225,
     "metadata": {},
     "output_type": "execute_result"
    }
   ],
   "source": [
    "#### BONUS ####\n",
    "\n",
    "# ฟังก์ชันเพื่อกำหนดระดับตำแหน่งตามเงินเดือน\n",
    "def categorize_salary(salary):\n",
    "    if salary > 70000:\n",
    "        return 'Director'\n",
    "    elif salary > 50000:\n",
    "        return 'Senior'\n",
    "    else:\n",
    "        return 'Officer'\n",
    "    \n",
    "\n",
    "df63 = df61.copy()\n",
    "df63['Level'] = df63['Salary'].apply(categorize_salary)\n",
    "df63 = df63[['Employee_ID','Name','Level']]\n",
    "\n",
    "\n",
    "\n",
    "## Merge ข้อมูล 3 Dataframe 2 ตัวแปร และทำการ เปลี่ยนชื่อคอลัมน์ พร้อม เรียงคนที่เงินเดือนเยอะสุด\n",
    "merged_df61_df62_df63 = pd.merge(pd.merge(df61, df62, on=['Department_ID'], how='left'),\n",
    "                           df63, on=['Employee_ID', 'Employee_ID'], how='left')\n",
    "\n",
    "merged_df61_df62_df63 = merged_df61_df62_df63.rename(columns = {'Employee_ID':'รหัสลูกค้า' , \n",
    "                                                                'Name_x':'ชื่อลูกค้า' , \n",
    "                                                                'Age' : 'อายุ' ,\n",
    "                                                                'Salary' : 'เงินเดือน' , \n",
    "                                                                'Department_ID' : 'รหัสแผนก' ,\n",
    "                                                                'Department_Name' : 'ชื่อแผนก',\n",
    "                                                                'Manager' : 'ชื่อผู้จัดการที่ดูแล',\n",
    "                                                                'Level' : 'ระดับอาวุโส'                    \n",
    "                                                                })\n",
    "merged_df61_df62_df63 = merged_df61_df62_df63.loc[:, merged_df61_df62_df63.columns != 'Name_y']\n",
    "merged_df61_df62_df63 = merged_df61_df62_df63.sort_values('เงินเดือน',ascending=False)\n",
    "merged_df61_df62_df63"
   ]
  },
  {
   "cell_type": "markdown",
   "metadata": {},
   "source": [
    "__________________________________________________________________________________________________________________________________________________________________________________"
   ]
  },
  {
   "cell_type": "markdown",
   "metadata": {},
   "source": [
    "#### 7.     Concat"
   ]
  },
  {
   "cell_type": "markdown",
   "metadata": {},
   "source": [
    "concat ใน Pandas เป็นฟังก์ชันที่ใช้สำหรับการรวม DataFrame หรือ Series หลาย ๆ อันเข้าด้วยกันในแนวตั้ง (vertical) หรือแนวนอน (horizontal) ซึ่งช่วยให้สามารถรวมข้อมูลจากหลายแหล่งได้อย่างง่ายดาย ฟังก์ชันนี้มีประโยชน์อย่างมากเมื่อต้องการรวมข้อมูลจากหลาย ๆ ไฟล์ หรือเมื่อมีข้อมูลที่ถูกแยกออกเป็นหลายส่วนและต้องการรวมเข้าด้วยกันเพื่อการวิเคราะห์"
   ]
  },
  {
   "attachments": {
    "image-2.png": {
     "image/png": "[encoded data removed]"
    }
   },
   "cell_type": "markdown",
   "metadata": {},
   "source": [
    "![image-2.png](attachment:image-2.png)"
   ]
  },
  {
   "cell_type": "code",
   "execution_count": 233,
   "metadata": {},
   "outputs": [],
   "source": [
    "# Example Dataframe\n",
    "\n",
    "df71 = pd.DataFrame({\n",
    "    'ID': [1, 2, 3],\n",
    "    'Name': ['Alice', 'Bob', 'Charlie'],\n",
    "    'Age': [25, 30, 35]\n",
    "})\n",
    "\n",
    "df72 = pd.DataFrame({\n",
    "    'ID': [4, 2, 3],\n",
    "    'Name': ['David', 'Eva', 'Frank'],\n",
    "    'Salary': [50000, 60000, 70000]  # คอลัมน์ 'Salary' ที่ไม่มีใน df1\n",
    "})"
   ]
  },
  {
   "cell_type": "code",
   "execution_count": 236,
   "metadata": {},
   "outputs": [
    {
     "data": {
      "text/html": [
       "<div>\n",
       "<style scoped>\n",
       "    .dataframe tbody tr th:only-of-type {\n",
       "        vertical-align: middle;\n",
       "    }\n",
       "\n",
       "    .dataframe tbody tr th {\n",
       "        vertical-align: top;\n",
       "    }\n",
       "\n",
       "    .dataframe thead th {\n",
       "        text-align: right;\n",
       "    }\n",
       "</style>\n",
       "<table border=\"1\" class=\"dataframe\">\n",
       "  <thead>\n",
       "    <tr style=\"text-align: right;\">\n",
       "      <th></th>\n",
       "      <th>ID</th>\n",
       "      <th>Name</th>\n",
       "      <th>Age</th>\n",
       "      <th>Salary</th>\n",
       "    </tr>\n",
       "  </thead>\n",
       "  <tbody>\n",
       "    <tr>\n",
       "      <th>0</th>\n",
       "      <td>1</td>\n",
       "      <td>Alice</td>\n",
       "      <td>25.0</td>\n",
       "      <td>NaN</td>\n",
       "    </tr>\n",
       "    <tr>\n",
       "      <th>1</th>\n",
       "      <td>2</td>\n",
       "      <td>Bob</td>\n",
       "      <td>30.0</td>\n",
       "      <td>NaN</td>\n",
       "    </tr>\n",
       "    <tr>\n",
       "      <th>2</th>\n",
       "      <td>3</td>\n",
       "      <td>Charlie</td>\n",
       "      <td>35.0</td>\n",
       "      <td>NaN</td>\n",
       "    </tr>\n",
       "    <tr>\n",
       "      <th>3</th>\n",
       "      <td>4</td>\n",
       "      <td>David</td>\n",
       "      <td>NaN</td>\n",
       "      <td>50000.0</td>\n",
       "    </tr>\n",
       "    <tr>\n",
       "      <th>4</th>\n",
       "      <td>2</td>\n",
       "      <td>Eva</td>\n",
       "      <td>NaN</td>\n",
       "      <td>60000.0</td>\n",
       "    </tr>\n",
       "    <tr>\n",
       "      <th>5</th>\n",
       "      <td>3</td>\n",
       "      <td>Frank</td>\n",
       "      <td>NaN</td>\n",
       "      <td>70000.0</td>\n",
       "    </tr>\n",
       "  </tbody>\n",
       "</table>\n",
       "</div>"
      ],
      "text/plain": [
       "   ID     Name   Age   Salary\n",
       "0   1    Alice  25.0      NaN\n",
       "1   2      Bob  30.0      NaN\n",
       "2   3  Charlie  35.0      NaN\n",
       "3   4    David   NaN  50000.0\n",
       "4   2      Eva   NaN  60000.0\n",
       "5   3    Frank   NaN  70000.0"
      ]
     },
     "execution_count": 236,
     "metadata": {},
     "output_type": "execute_result"
    }
   ],
   "source": [
    "# การรวม DataFrame ในแนวตั้ง\n",
    "df_concat_ver = pd.concat([df71, df72], ignore_index=True)\n",
    "df_concat_ver"
   ]
  },
  {
   "cell_type": "code",
   "execution_count": 235,
   "metadata": {},
   "outputs": [
    {
     "data": {
      "text/html": [
       "<div>\n",
       "<style scoped>\n",
       "    .dataframe tbody tr th:only-of-type {\n",
       "        vertical-align: middle;\n",
       "    }\n",
       "\n",
       "    .dataframe tbody tr th {\n",
       "        vertical-align: top;\n",
       "    }\n",
       "\n",
       "    .dataframe thead th {\n",
       "        text-align: right;\n",
       "    }\n",
       "</style>\n",
       "<table border=\"1\" class=\"dataframe\">\n",
       "  <thead>\n",
       "    <tr style=\"text-align: right;\">\n",
       "      <th></th>\n",
       "      <th>0</th>\n",
       "      <th>1</th>\n",
       "      <th>2</th>\n",
       "      <th>3</th>\n",
       "      <th>4</th>\n",
       "      <th>5</th>\n",
       "    </tr>\n",
       "  </thead>\n",
       "  <tbody>\n",
       "    <tr>\n",
       "      <th>0</th>\n",
       "      <td>1</td>\n",
       "      <td>Alice</td>\n",
       "      <td>25</td>\n",
       "      <td>4</td>\n",
       "      <td>David</td>\n",
       "      <td>50000</td>\n",
       "    </tr>\n",
       "    <tr>\n",
       "      <th>1</th>\n",
       "      <td>2</td>\n",
       "      <td>Bob</td>\n",
       "      <td>30</td>\n",
       "      <td>2</td>\n",
       "      <td>Eva</td>\n",
       "      <td>60000</td>\n",
       "    </tr>\n",
       "    <tr>\n",
       "      <th>2</th>\n",
       "      <td>3</td>\n",
       "      <td>Charlie</td>\n",
       "      <td>35</td>\n",
       "      <td>3</td>\n",
       "      <td>Frank</td>\n",
       "      <td>70000</td>\n",
       "    </tr>\n",
       "  </tbody>\n",
       "</table>\n",
       "</div>"
      ],
      "text/plain": [
       "   0        1   2  3      4      5\n",
       "0  1    Alice  25  4  David  50000\n",
       "1  2      Bob  30  2    Eva  60000\n",
       "2  3  Charlie  35  3  Frank  70000"
      ]
     },
     "execution_count": 235,
     "metadata": {},
     "output_type": "execute_result"
    }
   ],
   "source": [
    "# การรวม DataFrame ในแนวนอน\n",
    "df_concat_hor = pd.concat([df71, df72], axis=1,ignore_index=True)\n",
    "df_concat_hor"
   ]
  },
  {
   "cell_type": "markdown",
   "metadata": {},
   "source": [
    "__________________________________________________________________________________________________________________________________________________________________________________"
   ]
  },
  {
   "cell_type": "markdown",
   "metadata": {},
   "source": [
    "#### 8.     Grouping"
   ]
  },
  {
   "cell_type": "markdown",
   "metadata": {},
   "source": [
    "การทำ Grouping ใน Pandas คือกระบวนการจัดกลุ่มข้อมูลตามค่าของคอลัมน์หนึ่งหรือหลายคอลัมน์เพื่อให้สามารถทำการวิเคราะห์หรือสรุปข้อมูลตามกลุ่มนั้นได้ ซึ่งทำได้โดยใช้ฟังก์ชัน groupby() ของ Pandas แบ่งเป็น \n",
    "1. basic grouping โดยใช้ฟังก์ชัน unique()\n",
    "2. Aggregation Grouping คำนวณทางสถิติ เช่น ค่าเฉลี่ย, ผลรวม, จำนวน ฯลฯ ของแต่ละกลุ่ม\n",
    "3. Multiple Aggregation Functions Grouping ใช้หลายฟังก์ชัน aggregation พร้อมกันได้ด้วยการใช้ agg():"
   ]
  },
  {
   "cell_type": "code",
   "execution_count": 244,
   "metadata": {},
   "outputs": [
    {
     "data": {
      "text/html": [
       "<div>\n",
       "<style scoped>\n",
       "    .dataframe tbody tr th:only-of-type {\n",
       "        vertical-align: middle;\n",
       "    }\n",
       "\n",
       "    .dataframe tbody tr th {\n",
       "        vertical-align: top;\n",
       "    }\n",
       "\n",
       "    .dataframe thead th {\n",
       "        text-align: right;\n",
       "    }\n",
       "</style>\n",
       "<table border=\"1\" class=\"dataframe\">\n",
       "  <thead>\n",
       "    <tr style=\"text-align: right;\">\n",
       "      <th></th>\n",
       "      <th>รหัสลูกค้า</th>\n",
       "      <th>ชื่อลูกค้า</th>\n",
       "      <th>อายุ</th>\n",
       "      <th>เงินเดือน</th>\n",
       "      <th>รหัสแผนก</th>\n",
       "      <th>ชื่อแผนก</th>\n",
       "      <th>ชื่อผู้จัดการที่ดูแล</th>\n",
       "      <th>ระดับอาวุโส</th>\n",
       "    </tr>\n",
       "  </thead>\n",
       "  <tbody>\n",
       "    <tr>\n",
       "      <th>3</th>\n",
       "      <td>4</td>\n",
       "      <td>David Back</td>\n",
       "      <td>40</td>\n",
       "      <td>80000</td>\n",
       "      <td>103</td>\n",
       "      <td>IT</td>\n",
       "      <td>James</td>\n",
       "      <td>Director</td>\n",
       "    </tr>\n",
       "    <tr>\n",
       "      <th>2</th>\n",
       "      <td>3</td>\n",
       "      <td>Charlie Chep</td>\n",
       "      <td>35</td>\n",
       "      <td>70000</td>\n",
       "      <td>101</td>\n",
       "      <td>HR</td>\n",
       "      <td>John</td>\n",
       "      <td>Senior</td>\n",
       "    </tr>\n",
       "    <tr>\n",
       "      <th>1</th>\n",
       "      <td>2</td>\n",
       "      <td>Bob Maley</td>\n",
       "      <td>30</td>\n",
       "      <td>60000</td>\n",
       "      <td>102</td>\n",
       "      <td>Finance</td>\n",
       "      <td>Sarah</td>\n",
       "      <td>Senior</td>\n",
       "    </tr>\n",
       "    <tr>\n",
       "      <th>0</th>\n",
       "      <td>1</td>\n",
       "      <td>Alice Wonder</td>\n",
       "      <td>25</td>\n",
       "      <td>50000</td>\n",
       "      <td>101</td>\n",
       "      <td>HR</td>\n",
       "      <td>John</td>\n",
       "      <td>Officer</td>\n",
       "    </tr>\n",
       "    <tr>\n",
       "      <th>4</th>\n",
       "      <td>5</td>\n",
       "      <td>Eva Oliver</td>\n",
       "      <td>22</td>\n",
       "      <td>40000</td>\n",
       "      <td>102</td>\n",
       "      <td>Finance</td>\n",
       "      <td>Sarah</td>\n",
       "      <td>Officer</td>\n",
       "    </tr>\n",
       "  </tbody>\n",
       "</table>\n",
       "</div>"
      ],
      "text/plain": [
       "   รหัสลูกค้า    ชื่อลูกค้า  อายุ  เงินเดือน  รหัสแผนก ชื่อแผนก  \\\n",
       "3           4    David Back    40      80000       103       IT   \n",
       "2           3  Charlie Chep    35      70000       101       HR   \n",
       "1           2     Bob Maley    30      60000       102  Finance   \n",
       "0           1  Alice Wonder    25      50000       101       HR   \n",
       "4           5    Eva Oliver    22      40000       102  Finance   \n",
       "\n",
       "  ชื่อผู้จัดการที่ดูแล ระดับอาวุโส  \n",
       "3                James    Director  \n",
       "2                 John      Senior  \n",
       "1                Sarah      Senior  \n",
       "0                 John     Officer  \n",
       "4                Sarah     Officer  "
      ]
     },
     "execution_count": 244,
     "metadata": {},
     "output_type": "execute_result"
    }
   ],
   "source": [
    "# Example Data\n",
    "\n",
    "# ดึงข้อมูลจาก Chapter 6 BONUS\n",
    "df8 = merged_df61_df62_df63\n",
    "df8"
   ]
  },
  {
   "cell_type": "code",
   "execution_count": 252,
   "metadata": {},
   "outputs": [
    {
     "data": {
      "text/plain": [
       "array(['IT', 'HR', 'Finance'], dtype=object)"
      ]
     },
     "execution_count": 252,
     "metadata": {},
     "output_type": "execute_result"
    }
   ],
   "source": [
    "# 8.1 basic grouping\n",
    "unique_department = df8['ชื่อแผนก'].unique()\n",
    "unique_department"
   ]
  },
  {
   "cell_type": "code",
   "execution_count": 254,
   "metadata": {},
   "outputs": [
    {
     "data": {
      "text/plain": [
       "ชื่อแผนก\n",
       "Finance    50000\n",
       "HR         60000\n",
       "IT         80000\n",
       "Name: เงินเดือน, dtype: int64"
      ]
     },
     "execution_count": 254,
     "metadata": {},
     "output_type": "execute_result"
    }
   ],
   "source": [
    "# 8.2 Aggregation Grouping\n",
    "group_department = df8.groupby('ชื่อแผนก')\n",
    "average_salary = group_department['เงินเดือน'].mean()\n",
    "average_salary"
   ]
  },
  {
   "cell_type": "code",
   "execution_count": 265,
   "metadata": {},
   "outputs": [
    {
     "data": {
      "text/html": [
       "<div>\n",
       "<style scoped>\n",
       "    .dataframe tbody tr th:only-of-type {\n",
       "        vertical-align: middle;\n",
       "    }\n",
       "\n",
       "    .dataframe tbody tr th {\n",
       "        vertical-align: top;\n",
       "    }\n",
       "\n",
       "    .dataframe thead tr th {\n",
       "        text-align: left;\n",
       "    }\n",
       "\n",
       "    .dataframe thead tr:last-of-type th {\n",
       "        text-align: right;\n",
       "    }\n",
       "</style>\n",
       "<table border=\"1\" class=\"dataframe\">\n",
       "  <thead>\n",
       "    <tr>\n",
       "      <th></th>\n",
       "      <th>ชื่อลูกค้า</th>\n",
       "      <th>เงินเดือน</th>\n",
       "      <th>อายุ</th>\n",
       "      <th>ชื่อพนักงาน</th>\n",
       "    </tr>\n",
       "    <tr>\n",
       "      <th></th>\n",
       "      <th>count</th>\n",
       "      <th>sum</th>\n",
       "      <th>max</th>\n",
       "      <th></th>\n",
       "    </tr>\n",
       "    <tr>\n",
       "      <th>ชื่อผู้จัดการที่ดูแล</th>\n",
       "      <th></th>\n",
       "      <th></th>\n",
       "      <th></th>\n",
       "      <th></th>\n",
       "    </tr>\n",
       "  </thead>\n",
       "  <tbody>\n",
       "    <tr>\n",
       "      <th>James</th>\n",
       "      <td>1</td>\n",
       "      <td>80000</td>\n",
       "      <td>40</td>\n",
       "      <td>[David Back]</td>\n",
       "    </tr>\n",
       "    <tr>\n",
       "      <th>John</th>\n",
       "      <td>2</td>\n",
       "      <td>120000</td>\n",
       "      <td>35</td>\n",
       "      <td>[Charlie Chep, Alice Wonder]</td>\n",
       "    </tr>\n",
       "    <tr>\n",
       "      <th>Sarah</th>\n",
       "      <td>2</td>\n",
       "      <td>100000</td>\n",
       "      <td>30</td>\n",
       "      <td>[Bob Maley, Eva Oliver]</td>\n",
       "    </tr>\n",
       "  </tbody>\n",
       "</table>\n",
       "</div>"
      ],
      "text/plain": [
       "                     ชื่อลูกค้า เงินเดือน อายุ                   ชื่อพนักงาน\n",
       "                          count       sum  max                              \n",
       "ชื่อผู้จัดการที่ดูแล                                                        \n",
       "James                         1     80000   40                  [David Back]\n",
       "John                          2    120000   35  [Charlie Chep, Alice Wonder]\n",
       "Sarah                         2    100000   30       [Bob Maley, Eva Oliver]"
      ]
     },
     "execution_count": 265,
     "metadata": {},
     "output_type": "execute_result"
    }
   ],
   "source": [
    "# 8.3 Multiple Aggregation Functions Grouping\n",
    "\n",
    "## ต้องการอยากทราบว่า ผู้จัดการแต่ละคนดูแล พนักงานกี่ท่าน ผลรวมของเงินเดือนเหล่านั้น เท่าไร แต่อายุใครมากที่สุด\n",
    "group_manager = df8.groupby('ชื่อผู้จัดการที่ดูแล')\n",
    "agg_result = group_manager.agg({\n",
    "                        'ชื่อลูกค้า' : 'count',\n",
    "                        'เงินเดือน': ['sum'],\n",
    "                        'อายุ': 'max',\n",
    "                        })\n",
    "agg_result['ชื่อพนักงาน'] = group_manager['ชื่อลูกค้า'].apply(list).values\n",
    "agg_result"
   ]
  },
  {
   "cell_type": "markdown",
   "metadata": {},
   "source": [
    "__________________________________________________________________________________________________________________________________________________________________________________"
   ]
  },
  {
   "cell_type": "markdown",
   "metadata": {},
   "source": [
    "#### 9.     Time series"
   ]
  },
  {
   "cell_type": "markdown",
   "metadata": {},
   "source": [
    "การจัดการข้อมูลที่มีลำดับเวลาเป็นแกนหลัก โดยทั่วไป Time Series คือชุดข้อมูลที่ถูกจัดเก็บหรือบันทึกไว้ตามเวลาหรือช่วงเวลา เช่น ราคาหุ้นที่ถูกบันทึกทุกวัน ยอดขายสินค้าที่ถูกบันทึกทุกเดือน หรืออุณหภูมิที่ถูกบันทึกทุกชั่วโมง"
   ]
  },
  {
   "cell_type": "markdown",
   "metadata": {},
   "source": [
    "คุณสมบัติหลักของข้อมูล Time Series:\n",
    "1. ลำดับเวลา: ข้อมูล Time Series มีลำดับเวลาชัดเจน ซึ่งทำให้เราสามารถวิเคราะห์แนวโน้ม (Trend), ฤดูกาล (Seasonality), และการเปลี่ยนแปลงแบบสุ่ม (Random fluctuations) ได้\n",
    "2. Index เวลา: ใน Pandas, Time Series มักจะมี DatetimeIndex เป็นตัวแทนของเวลาในแต่ละข้อมูล เช่น วันที่, เดือน, หรือปี"
   ]
  },
  {
   "cell_type": "markdown",
   "metadata": {},
   "source": [
    "##### 9.1 การจัดการข้อมูล วัน-เดือน-ปี     "
   ]
  },
  {
   "cell_type": "code",
   "execution_count": 544,
   "metadata": {},
   "outputs": [
    {
     "data": {
      "text/html": [
       "<div>\n",
       "<style scoped>\n",
       "    .dataframe tbody tr th:only-of-type {\n",
       "        vertical-align: middle;\n",
       "    }\n",
       "\n",
       "    .dataframe tbody tr th {\n",
       "        vertical-align: top;\n",
       "    }\n",
       "\n",
       "    .dataframe thead th {\n",
       "        text-align: right;\n",
       "    }\n",
       "</style>\n",
       "<table border=\"1\" class=\"dataframe\">\n",
       "  <thead>\n",
       "    <tr style=\"text-align: right;\">\n",
       "      <th></th>\n",
       "      <th>Date</th>\n",
       "      <th>Temperature</th>\n",
       "    </tr>\n",
       "  </thead>\n",
       "  <tbody>\n",
       "    <tr>\n",
       "      <th>0</th>\n",
       "      <td>2024-01-01</td>\n",
       "      <td>43.457014</td>\n",
       "    </tr>\n",
       "    <tr>\n",
       "      <th>1</th>\n",
       "      <td>2024-01-02</td>\n",
       "      <td>15.527879</td>\n",
       "    </tr>\n",
       "    <tr>\n",
       "      <th>2</th>\n",
       "      <td>2024-01-03</td>\n",
       "      <td>39.262096</td>\n",
       "    </tr>\n",
       "    <tr>\n",
       "      <th>3</th>\n",
       "      <td>2024-01-04</td>\n",
       "      <td>28.414425</td>\n",
       "    </tr>\n",
       "    <tr>\n",
       "      <th>4</th>\n",
       "      <td>2024-01-05</td>\n",
       "      <td>27.141669</td>\n",
       "    </tr>\n",
       "  </tbody>\n",
       "</table>\n",
       "</div>"
      ],
      "text/plain": [
       "        Date  Temperature\n",
       "0 2024-01-01    43.457014\n",
       "1 2024-01-02    15.527879\n",
       "2 2024-01-03    39.262096\n",
       "3 2024-01-04    28.414425\n",
       "4 2024-01-05    27.141669"
      ]
     },
     "execution_count": 544,
     "metadata": {},
     "output_type": "execute_result"
    }
   ],
   "source": [
    "# Example Dataframe สำหรับการจัดการข้อมูล แบบ \"Date\" \n",
    "\n",
    "# สร้างช่วงเวลา ภายในปี 2024 จะได้ทั้งหมด 366 record\n",
    "date_range = pd.date_range(start='2024-01-01', end='2024-01-31', freq='D')\n",
    "\n",
    "# สร้าง Dictionary ข้อมูลอุณหภูมิสุ่ม แยกเป็น 4 สถานี 4 ช่วงเวลา\n",
    "temperature_data = {\n",
    "    'Date': date_range,\n",
    "    'Temperature': np.random.normal(loc=25, scale=10, size=len(date_range))  # อุณหภูมิเฉลี่ย 20 องศา\n",
    "}\n",
    "\n",
    "# สร้าง DataFrame\n",
    "df91 = pd.DataFrame(temperature_data)\n",
    "df91.head()"
   ]
  },
  {
   "cell_type": "code",
   "execution_count": 546,
   "metadata": {},
   "outputs": [
    {
     "data": {
      "text/html": [
       "<div>\n",
       "<style scoped>\n",
       "    .dataframe tbody tr th:only-of-type {\n",
       "        vertical-align: middle;\n",
       "    }\n",
       "\n",
       "    .dataframe tbody tr th {\n",
       "        vertical-align: top;\n",
       "    }\n",
       "\n",
       "    .dataframe thead th {\n",
       "        text-align: right;\n",
       "    }\n",
       "</style>\n",
       "<table border=\"1\" class=\"dataframe\">\n",
       "  <thead>\n",
       "    <tr style=\"text-align: right;\">\n",
       "      <th></th>\n",
       "      <th>Date</th>\n",
       "      <th>Temperature</th>\n",
       "      <th>Date_thai</th>\n",
       "    </tr>\n",
       "  </thead>\n",
       "  <tbody>\n",
       "    <tr>\n",
       "      <th>0</th>\n",
       "      <td>2024-01-01</td>\n",
       "      <td>43.457014</td>\n",
       "      <td>2567-01-01</td>\n",
       "    </tr>\n",
       "    <tr>\n",
       "      <th>1</th>\n",
       "      <td>2024-01-02</td>\n",
       "      <td>15.527879</td>\n",
       "      <td>2567-01-02</td>\n",
       "    </tr>\n",
       "    <tr>\n",
       "      <th>2</th>\n",
       "      <td>2024-01-03</td>\n",
       "      <td>39.262096</td>\n",
       "      <td>2567-01-03</td>\n",
       "    </tr>\n",
       "    <tr>\n",
       "      <th>3</th>\n",
       "      <td>2024-01-04</td>\n",
       "      <td>28.414425</td>\n",
       "      <td>2567-01-04</td>\n",
       "    </tr>\n",
       "    <tr>\n",
       "      <th>4</th>\n",
       "      <td>2024-01-05</td>\n",
       "      <td>27.141669</td>\n",
       "      <td>2567-01-05</td>\n",
       "    </tr>\n",
       "  </tbody>\n",
       "</table>\n",
       "</div>"
      ],
      "text/plain": [
       "        Date  Temperature   Date_thai\n",
       "0 2024-01-01    43.457014  2567-01-01\n",
       "1 2024-01-02    15.527879  2567-01-02\n",
       "2 2024-01-03    39.262096  2567-01-03\n",
       "3 2024-01-04    28.414425  2567-01-04\n",
       "4 2024-01-05    27.141669  2567-01-05"
      ]
     },
     "execution_count": 546,
     "metadata": {},
     "output_type": "execute_result"
    }
   ],
   "source": [
    "# 9.1.1 การแปลง จาก ปี ค.ศ เป็น พ.ศ\n",
    "\n",
    "# set datatype\n",
    "df_date_a = df91.copy()\n",
    "df_date_a['Date']   = pd.to_datetime(df_date_a['Date'])\n",
    "\n",
    "# ใช้ lambda ในการ แปลงจาก ค.ศ เป็น พ.ศ\n",
    "df_date_a['Date_thai'] = df_date_a['Date'].apply(lambda x: f\"{x.year + 543}-{x.month:02d}-{x.day:02d}\")\n",
    "\n",
    "df_date_a.head()"
   ]
  },
  {
   "cell_type": "code",
   "execution_count": 547,
   "metadata": {},
   "outputs": [
    {
     "data": {
      "text/html": [
       "<div>\n",
       "<style scoped>\n",
       "    .dataframe tbody tr th:only-of-type {\n",
       "        vertical-align: middle;\n",
       "    }\n",
       "\n",
       "    .dataframe tbody tr th {\n",
       "        vertical-align: top;\n",
       "    }\n",
       "\n",
       "    .dataframe thead th {\n",
       "        text-align: right;\n",
       "    }\n",
       "</style>\n",
       "<table border=\"1\" class=\"dataframe\">\n",
       "  <thead>\n",
       "    <tr style=\"text-align: right;\">\n",
       "      <th></th>\n",
       "      <th>Date</th>\n",
       "      <th>Temperature</th>\n",
       "      <th>Formatted Date</th>\n",
       "    </tr>\n",
       "  </thead>\n",
       "  <tbody>\n",
       "    <tr>\n",
       "      <th>0</th>\n",
       "      <td>2024-01-01</td>\n",
       "      <td>43.457014</td>\n",
       "      <td>01/01/2024</td>\n",
       "    </tr>\n",
       "    <tr>\n",
       "      <th>1</th>\n",
       "      <td>2024-01-02</td>\n",
       "      <td>15.527879</td>\n",
       "      <td>02/01/2024</td>\n",
       "    </tr>\n",
       "    <tr>\n",
       "      <th>2</th>\n",
       "      <td>2024-01-03</td>\n",
       "      <td>39.262096</td>\n",
       "      <td>03/01/2024</td>\n",
       "    </tr>\n",
       "    <tr>\n",
       "      <th>3</th>\n",
       "      <td>2024-01-04</td>\n",
       "      <td>28.414425</td>\n",
       "      <td>04/01/2024</td>\n",
       "    </tr>\n",
       "    <tr>\n",
       "      <th>4</th>\n",
       "      <td>2024-01-05</td>\n",
       "      <td>27.141669</td>\n",
       "      <td>05/01/2024</td>\n",
       "    </tr>\n",
       "  </tbody>\n",
       "</table>\n",
       "</div>"
      ],
      "text/plain": [
       "        Date  Temperature Formatted Date\n",
       "0 2024-01-01    43.457014     01/01/2024\n",
       "1 2024-01-02    15.527879     02/01/2024\n",
       "2 2024-01-03    39.262096     03/01/2024\n",
       "3 2024-01-04    28.414425     04/01/2024\n",
       "4 2024-01-05    27.141669     05/01/2024"
      ]
     },
     "execution_count": 547,
     "metadata": {},
     "output_type": "execute_result"
    }
   ],
   "source": [
    "# 9.1.2 การปรับ format วันที่ จาก YYYY-MM-DD ไปเป็น DD/MM/YYYY\n",
    "\n",
    "# set datatype\n",
    "df_date_b = df91.copy()\n",
    "df_date_b['Date']   = pd.to_datetime(df_date_b['Date'])\n",
    "\n",
    "df_date_b['Formatted Date'] = df_date_b['Date'].dt.strftime('%d/%m/%Y')\n",
    "df_date_b.head()"
   ]
  },
  {
   "cell_type": "code",
   "execution_count": 548,
   "metadata": {},
   "outputs": [
    {
     "data": {
      "text/html": [
       "<div>\n",
       "<style scoped>\n",
       "    .dataframe tbody tr th:only-of-type {\n",
       "        vertical-align: middle;\n",
       "    }\n",
       "\n",
       "    .dataframe tbody tr th {\n",
       "        vertical-align: top;\n",
       "    }\n",
       "\n",
       "    .dataframe thead th {\n",
       "        text-align: right;\n",
       "    }\n",
       "</style>\n",
       "<table border=\"1\" class=\"dataframe\">\n",
       "  <thead>\n",
       "    <tr style=\"text-align: right;\">\n",
       "      <th></th>\n",
       "      <th>Date</th>\n",
       "      <th>Temperature</th>\n",
       "      <th>Date 10 Days</th>\n",
       "      <th>Date 2 Months</th>\n",
       "      <th>Date 1 Year</th>\n",
       "    </tr>\n",
       "  </thead>\n",
       "  <tbody>\n",
       "    <tr>\n",
       "      <th>0</th>\n",
       "      <td>2024-01-01</td>\n",
       "      <td>43.457014</td>\n",
       "      <td>2024-01-11</td>\n",
       "      <td>2024-03-01</td>\n",
       "      <td>2025-01-01</td>\n",
       "    </tr>\n",
       "    <tr>\n",
       "      <th>1</th>\n",
       "      <td>2024-01-02</td>\n",
       "      <td>15.527879</td>\n",
       "      <td>2024-01-12</td>\n",
       "      <td>2024-03-02</td>\n",
       "      <td>2025-01-02</td>\n",
       "    </tr>\n",
       "    <tr>\n",
       "      <th>2</th>\n",
       "      <td>2024-01-03</td>\n",
       "      <td>39.262096</td>\n",
       "      <td>2024-01-13</td>\n",
       "      <td>2024-03-03</td>\n",
       "      <td>2025-01-03</td>\n",
       "    </tr>\n",
       "    <tr>\n",
       "      <th>3</th>\n",
       "      <td>2024-01-04</td>\n",
       "      <td>28.414425</td>\n",
       "      <td>2024-01-14</td>\n",
       "      <td>2024-03-04</td>\n",
       "      <td>2025-01-04</td>\n",
       "    </tr>\n",
       "    <tr>\n",
       "      <th>4</th>\n",
       "      <td>2024-01-05</td>\n",
       "      <td>27.141669</td>\n",
       "      <td>2024-01-15</td>\n",
       "      <td>2024-03-05</td>\n",
       "      <td>2025-01-05</td>\n",
       "    </tr>\n",
       "  </tbody>\n",
       "</table>\n",
       "</div>"
      ],
      "text/plain": [
       "        Date  Temperature Date 10 Days Date 2 Months Date 1 Year\n",
       "0 2024-01-01    43.457014   2024-01-11    2024-03-01  2025-01-01\n",
       "1 2024-01-02    15.527879   2024-01-12    2024-03-02  2025-01-02\n",
       "2 2024-01-03    39.262096   2024-01-13    2024-03-03  2025-01-03\n",
       "3 2024-01-04    28.414425   2024-01-14    2024-03-04  2025-01-04\n",
       "4 2024-01-05    27.141669   2024-01-15    2024-03-05  2025-01-05"
      ]
     },
     "execution_count": 548,
     "metadata": {},
     "output_type": "execute_result"
    }
   ],
   "source": [
    "# 9.1.3 การ บวก-ลบวัน\n",
    "\n",
    "# set datatype\n",
    "df_date_c = df91.copy()\n",
    "df_date_c['Date']   = pd.to_datetime(df_date_c['Date'])\n",
    "\n",
    "\n",
    "# บวก หรือ ลบ 10 วัน\n",
    "df_date_c['Date 10 Days'] = df_date_c['Date'] + pd.DateOffset(days=10)\n",
    "\n",
    "# บวก หรือ ลบ 2 เดือน\n",
    "df_date_c['Date 2 Months'] = df_date_c['Date'] + pd.DateOffset(months=2)\n",
    "\n",
    "# บวก หรือ ลบ 1 ปี\n",
    "df_date_c['Date 1 Year'] = df_date_c['Date'] + pd.DateOffset(years=1)\n",
    "\n",
    "df_date_c.head()"
   ]
  },
  {
   "cell_type": "code",
   "execution_count": 549,
   "metadata": {},
   "outputs": [
    {
     "data": {
      "text/html": [
       "<div>\n",
       "<style scoped>\n",
       "    .dataframe tbody tr th:only-of-type {\n",
       "        vertical-align: middle;\n",
       "    }\n",
       "\n",
       "    .dataframe tbody tr th {\n",
       "        vertical-align: top;\n",
       "    }\n",
       "\n",
       "    .dataframe thead th {\n",
       "        text-align: right;\n",
       "    }\n",
       "</style>\n",
       "<table border=\"1\" class=\"dataframe\">\n",
       "  <thead>\n",
       "    <tr style=\"text-align: right;\">\n",
       "      <th></th>\n",
       "      <th>Date</th>\n",
       "      <th>Temperature</th>\n",
       "      <th>Date 10 Days</th>\n",
       "      <th>Date 2 Months</th>\n",
       "      <th>Date 1 Year</th>\n",
       "      <th>Diff Date between 10 Days</th>\n",
       "      <th>Diff Date between 2 Months</th>\n",
       "      <th>Diff Date between 1 Year</th>\n",
       "    </tr>\n",
       "  </thead>\n",
       "  <tbody>\n",
       "    <tr>\n",
       "      <th>0</th>\n",
       "      <td>2024-01-01</td>\n",
       "      <td>43.457014</td>\n",
       "      <td>2024-01-11</td>\n",
       "      <td>2024-03-01</td>\n",
       "      <td>2025-01-01</td>\n",
       "      <td>10 days</td>\n",
       "      <td>60 days</td>\n",
       "      <td>366 days</td>\n",
       "    </tr>\n",
       "    <tr>\n",
       "      <th>1</th>\n",
       "      <td>2024-01-02</td>\n",
       "      <td>15.527879</td>\n",
       "      <td>2024-01-12</td>\n",
       "      <td>2024-03-02</td>\n",
       "      <td>2025-01-02</td>\n",
       "      <td>10 days</td>\n",
       "      <td>60 days</td>\n",
       "      <td>366 days</td>\n",
       "    </tr>\n",
       "    <tr>\n",
       "      <th>2</th>\n",
       "      <td>2024-01-03</td>\n",
       "      <td>39.262096</td>\n",
       "      <td>2024-01-13</td>\n",
       "      <td>2024-03-03</td>\n",
       "      <td>2025-01-03</td>\n",
       "      <td>10 days</td>\n",
       "      <td>60 days</td>\n",
       "      <td>366 days</td>\n",
       "    </tr>\n",
       "    <tr>\n",
       "      <th>3</th>\n",
       "      <td>2024-01-04</td>\n",
       "      <td>28.414425</td>\n",
       "      <td>2024-01-14</td>\n",
       "      <td>2024-03-04</td>\n",
       "      <td>2025-01-04</td>\n",
       "      <td>10 days</td>\n",
       "      <td>60 days</td>\n",
       "      <td>366 days</td>\n",
       "    </tr>\n",
       "    <tr>\n",
       "      <th>4</th>\n",
       "      <td>2024-01-05</td>\n",
       "      <td>27.141669</td>\n",
       "      <td>2024-01-15</td>\n",
       "      <td>2024-03-05</td>\n",
       "      <td>2025-01-05</td>\n",
       "      <td>10 days</td>\n",
       "      <td>60 days</td>\n",
       "      <td>366 days</td>\n",
       "    </tr>\n",
       "  </tbody>\n",
       "</table>\n",
       "</div>"
      ],
      "text/plain": [
       "        Date  Temperature Date 10 Days Date 2 Months Date 1 Year  \\\n",
       "0 2024-01-01    43.457014   2024-01-11    2024-03-01  2025-01-01   \n",
       "1 2024-01-02    15.527879   2024-01-12    2024-03-02  2025-01-02   \n",
       "2 2024-01-03    39.262096   2024-01-13    2024-03-03  2025-01-03   \n",
       "3 2024-01-04    28.414425   2024-01-14    2024-03-04  2025-01-04   \n",
       "4 2024-01-05    27.141669   2024-01-15    2024-03-05  2025-01-05   \n",
       "\n",
       "  Diff Date between 10 Days Diff Date between 2 Months  \\\n",
       "0                   10 days                    60 days   \n",
       "1                   10 days                    60 days   \n",
       "2                   10 days                    60 days   \n",
       "3                   10 days                    60 days   \n",
       "4                   10 days                    60 days   \n",
       "\n",
       "  Diff Date between 1 Year  \n",
       "0                 366 days  \n",
       "1                 366 days  \n",
       "2                 366 days  \n",
       "3                 366 days  \n",
       "4                 366 days  "
      ]
     },
     "execution_count": 549,
     "metadata": {},
     "output_type": "execute_result"
    }
   ],
   "source": [
    "# 9.1.4 การหาระยะห่างของ Date จาก End_date - Start_date  จาก ข้อ 9.1.3\n",
    "\n",
    "df_date_c['Diff Date between 10 Days'] = df_date_c['Date 10 Days'] - df_date_c['Date']\n",
    "df_date_c['Diff Date between 2 Months'] = df_date_c['Date 2 Months'] - df_date_c['Date']\n",
    "df_date_c['Diff Date between 1 Year'] = df_date_c['Date 1 Year'] - df_date_c['Date']\n",
    "df_date_c.head()\n",
    "\n",
    "\n"
   ]
  },
  {
   "cell_type": "markdown",
   "metadata": {},
   "source": [
    "##### 9.2 การจัดการข้อมูล แบบเวลา"
   ]
  },
  {
   "cell_type": "code",
   "execution_count": 558,
   "metadata": {},
   "outputs": [
    {
     "data": {
      "text/html": [
       "<div>\n",
       "<style scoped>\n",
       "    .dataframe tbody tr th:only-of-type {\n",
       "        vertical-align: middle;\n",
       "    }\n",
       "\n",
       "    .dataframe tbody tr th {\n",
       "        vertical-align: top;\n",
       "    }\n",
       "\n",
       "    .dataframe thead th {\n",
       "        text-align: right;\n",
       "    }\n",
       "</style>\n",
       "<table border=\"1\" class=\"dataframe\">\n",
       "  <thead>\n",
       "    <tr style=\"text-align: right;\">\n",
       "      <th></th>\n",
       "      <th>Event</th>\n",
       "      <th>Start Time</th>\n",
       "      <th>End Time</th>\n",
       "    </tr>\n",
       "  </thead>\n",
       "  <tbody>\n",
       "    <tr>\n",
       "      <th>0</th>\n",
       "      <td>Event A</td>\n",
       "      <td>01/08/2567 08:00:00</td>\n",
       "      <td>01/08/2567 12:00:00</td>\n",
       "    </tr>\n",
       "    <tr>\n",
       "      <th>1</th>\n",
       "      <td>Event B</td>\n",
       "      <td>02/08/2567 10:15:00</td>\n",
       "      <td>02/08/2567 12:45:00</td>\n",
       "    </tr>\n",
       "    <tr>\n",
       "      <th>2</th>\n",
       "      <td>Event C</td>\n",
       "      <td>03/08/2567 14:30:00</td>\n",
       "      <td>03/08/2567 17:00:00</td>\n",
       "    </tr>\n",
       "    <tr>\n",
       "      <th>3</th>\n",
       "      <td>Event D</td>\n",
       "      <td>04/08/2567 09:00:00</td>\n",
       "      <td>04/08/2567 11:00:00</td>\n",
       "    </tr>\n",
       "  </tbody>\n",
       "</table>\n",
       "</div>"
      ],
      "text/plain": [
       "     Event           Start Time             End Time\n",
       "0  Event A  01/08/2567 08:00:00  01/08/2567 12:00:00\n",
       "1  Event B  02/08/2567 10:15:00  02/08/2567 12:45:00\n",
       "2  Event C  03/08/2567 14:30:00  03/08/2567 17:00:00\n",
       "3  Event D  04/08/2567 09:00:00  04/08/2567 11:00:00"
      ]
     },
     "execution_count": 558,
     "metadata": {},
     "output_type": "execute_result"
    }
   ],
   "source": [
    "# Example Dataframe สำหรับการจัดการข้อมูล แบบ \"Timestamp\" \n",
    "\n",
    "event_time = {\n",
    "    'Event': ['Event A', 'Event B', 'Event C', 'Event D'],\n",
    "    'Start Time': ['01/08/2567 08:00:00', '02/08/2567 10:15:00', '03/08/2567 14:30:00', '04/08/2567 09:00:00'],\n",
    "    'End Time'  : ['01/08/2567 12:00:00', '02/08/2567 12:45:00', '03/08/2567 17:00:00', '04/08/2567 11:00:00']\n",
    "}\n",
    "df92 = pd.DataFrame(event_time)\n",
    "df92"
   ]
  },
  {
   "cell_type": "code",
   "execution_count": 601,
   "metadata": {},
   "outputs": [
    {
     "data": {
      "text/html": [
       "<div>\n",
       "<style scoped>\n",
       "    .dataframe tbody tr th:only-of-type {\n",
       "        vertical-align: middle;\n",
       "    }\n",
       "\n",
       "    .dataframe tbody tr th {\n",
       "        vertical-align: top;\n",
       "    }\n",
       "\n",
       "    .dataframe thead th {\n",
       "        text-align: right;\n",
       "    }\n",
       "</style>\n",
       "<table border=\"1\" class=\"dataframe\">\n",
       "  <thead>\n",
       "    <tr style=\"text-align: right;\">\n",
       "      <th></th>\n",
       "      <th>Event</th>\n",
       "      <th>Start Time Use</th>\n",
       "      <th>End Time Use</th>\n",
       "    </tr>\n",
       "  </thead>\n",
       "  <tbody>\n",
       "    <tr>\n",
       "      <th>0</th>\n",
       "      <td>Event A</td>\n",
       "      <td>2024-08-01 08:00:00</td>\n",
       "      <td>2024-08-01 12:00:00</td>\n",
       "    </tr>\n",
       "    <tr>\n",
       "      <th>1</th>\n",
       "      <td>Event B</td>\n",
       "      <td>2024-08-02 10:15:00</td>\n",
       "      <td>2024-08-02 12:45:00</td>\n",
       "    </tr>\n",
       "    <tr>\n",
       "      <th>2</th>\n",
       "      <td>Event C</td>\n",
       "      <td>2024-08-03 14:30:00</td>\n",
       "      <td>2024-08-03 17:00:00</td>\n",
       "    </tr>\n",
       "    <tr>\n",
       "      <th>3</th>\n",
       "      <td>Event D</td>\n",
       "      <td>2024-08-04 09:00:00</td>\n",
       "      <td>2024-08-04 11:00:00</td>\n",
       "    </tr>\n",
       "  </tbody>\n",
       "</table>\n",
       "</div>"
      ],
      "text/plain": [
       "     Event      Start Time Use        End Time Use\n",
       "0  Event A 2024-08-01 08:00:00 2024-08-01 12:00:00\n",
       "1  Event B 2024-08-02 10:15:00 2024-08-02 12:45:00\n",
       "2  Event C 2024-08-03 14:30:00 2024-08-03 17:00:00\n",
       "3  Event D 2024-08-04 09:00:00 2024-08-04 11:00:00"
      ]
     },
     "execution_count": 601,
     "metadata": {},
     "output_type": "execute_result"
    }
   ],
   "source": [
    "# 9.2.1 การจัด Format ให้ได้ มาตราฐานทั่วไป\n",
    "\n",
    "# set datatype\n",
    "df_event_time = df92.copy()\n",
    "\n",
    "\n",
    "# ฟังก์ชันแปลงปีพุทธศักราชเป็นคริสต์ศักราช โดยนำ String Medthod กับ Function มาช่วย\n",
    "def convert_thai_to_eng(date_str):\n",
    "    date_part, time_part = date_str.split(' ')\n",
    "    day, month, year = map(int, date_part.split('/'))\n",
    "    year -= 543\n",
    "    gregorian_date_str = f\"{year:04d}-{month:02d}-{day:02d} {time_part}\"\n",
    "    return pd.to_datetime(gregorian_date_str, format='%Y-%m-%d %H:%M:%S')\n",
    "\n",
    "# แปลงวันที่ใน DataFrame\n",
    "df_event_time['Start Time Use'] = df_event_time['Start Time'].apply(convert_thai_to_eng)\n",
    "df_event_time['End Time Use'] = df_event_time['End Time'].apply(convert_thai_to_eng)\n",
    "\n",
    "df_event_time = df_event_time[['Event','Start Time Use','End Time Use']]\n",
    "\n",
    "df_event_time"
   ]
  },
  {
   "cell_type": "code",
   "execution_count": 602,
   "metadata": {},
   "outputs": [
    {
     "data": {
      "text/html": [
       "<div>\n",
       "<style scoped>\n",
       "    .dataframe tbody tr th:only-of-type {\n",
       "        vertical-align: middle;\n",
       "    }\n",
       "\n",
       "    .dataframe tbody tr th {\n",
       "        vertical-align: top;\n",
       "    }\n",
       "\n",
       "    .dataframe thead th {\n",
       "        text-align: right;\n",
       "    }\n",
       "</style>\n",
       "<table border=\"1\" class=\"dataframe\">\n",
       "  <thead>\n",
       "    <tr style=\"text-align: right;\">\n",
       "      <th></th>\n",
       "      <th>Event</th>\n",
       "      <th>Start Time Use</th>\n",
       "      <th>End Time Use</th>\n",
       "      <th>Start Plus 2 Hours</th>\n",
       "      <th>Start Minus 30 Minutes</th>\n",
       "    </tr>\n",
       "  </thead>\n",
       "  <tbody>\n",
       "    <tr>\n",
       "      <th>0</th>\n",
       "      <td>Event A</td>\n",
       "      <td>2024-08-01 08:00:00</td>\n",
       "      <td>2024-08-01 12:00:00</td>\n",
       "      <td>2024-08-01 10:00:00</td>\n",
       "      <td>2024-08-01 08:30:00</td>\n",
       "    </tr>\n",
       "    <tr>\n",
       "      <th>1</th>\n",
       "      <td>Event B</td>\n",
       "      <td>2024-08-02 10:15:00</td>\n",
       "      <td>2024-08-02 12:45:00</td>\n",
       "      <td>2024-08-02 12:15:00</td>\n",
       "      <td>2024-08-02 10:45:00</td>\n",
       "    </tr>\n",
       "    <tr>\n",
       "      <th>2</th>\n",
       "      <td>Event C</td>\n",
       "      <td>2024-08-03 14:30:00</td>\n",
       "      <td>2024-08-03 17:00:00</td>\n",
       "      <td>2024-08-03 16:30:00</td>\n",
       "      <td>2024-08-03 15:00:00</td>\n",
       "    </tr>\n",
       "    <tr>\n",
       "      <th>3</th>\n",
       "      <td>Event D</td>\n",
       "      <td>2024-08-04 09:00:00</td>\n",
       "      <td>2024-08-04 11:00:00</td>\n",
       "      <td>2024-08-04 11:00:00</td>\n",
       "      <td>2024-08-04 09:30:00</td>\n",
       "    </tr>\n",
       "  </tbody>\n",
       "</table>\n",
       "</div>"
      ],
      "text/plain": [
       "     Event      Start Time Use        End Time Use  Start Plus 2 Hours  \\\n",
       "0  Event A 2024-08-01 08:00:00 2024-08-01 12:00:00 2024-08-01 10:00:00   \n",
       "1  Event B 2024-08-02 10:15:00 2024-08-02 12:45:00 2024-08-02 12:15:00   \n",
       "2  Event C 2024-08-03 14:30:00 2024-08-03 17:00:00 2024-08-03 16:30:00   \n",
       "3  Event D 2024-08-04 09:00:00 2024-08-04 11:00:00 2024-08-04 11:00:00   \n",
       "\n",
       "  Start Minus 30 Minutes  \n",
       "0    2024-08-01 08:30:00  \n",
       "1    2024-08-02 10:45:00  \n",
       "2    2024-08-03 15:00:00  \n",
       "3    2024-08-04 09:30:00  "
      ]
     },
     "execution_count": 602,
     "metadata": {},
     "output_type": "execute_result"
    }
   ],
   "source": [
    "# 9.2.2 การ บวก ลบ ช่วงเวลา\n",
    "df_event_time['Start Plus 2 Hours'] = df_event_time['Start Time Use'] + pd.Timedelta(hours=2)\n",
    "df_event_time['Start Minus 30 Minutes'] = df_event_time['Start Time Use'] + pd.Timedelta(minutes=30)\n",
    "df_event_time"
   ]
  },
  {
   "cell_type": "code",
   "execution_count": 605,
   "metadata": {},
   "outputs": [
    {
     "data": {
      "text/html": [
       "<div>\n",
       "<style scoped>\n",
       "    .dataframe tbody tr th:only-of-type {\n",
       "        vertical-align: middle;\n",
       "    }\n",
       "\n",
       "    .dataframe tbody tr th {\n",
       "        vertical-align: top;\n",
       "    }\n",
       "\n",
       "    .dataframe thead th {\n",
       "        text-align: right;\n",
       "    }\n",
       "</style>\n",
       "<table border=\"1\" class=\"dataframe\">\n",
       "  <thead>\n",
       "    <tr style=\"text-align: right;\">\n",
       "      <th></th>\n",
       "      <th>Event</th>\n",
       "      <th>Start Time Use</th>\n",
       "      <th>End Time Use</th>\n",
       "      <th>Start Plus 2 Hours</th>\n",
       "      <th>Start Minus 30 Minutes</th>\n",
       "      <th>Duration</th>\n",
       "      <th>Duration Time</th>\n",
       "    </tr>\n",
       "  </thead>\n",
       "  <tbody>\n",
       "    <tr>\n",
       "      <th>0</th>\n",
       "      <td>Event A</td>\n",
       "      <td>2024-08-01 08:00:00</td>\n",
       "      <td>2024-08-01 12:00:00</td>\n",
       "      <td>2024-08-01 10:00:00</td>\n",
       "      <td>2024-08-01 08:30:00</td>\n",
       "      <td>0 days 02:00:00</td>\n",
       "      <td>02:00:00</td>\n",
       "    </tr>\n",
       "    <tr>\n",
       "      <th>1</th>\n",
       "      <td>Event B</td>\n",
       "      <td>2024-08-02 10:15:00</td>\n",
       "      <td>2024-08-02 12:45:00</td>\n",
       "      <td>2024-08-02 12:15:00</td>\n",
       "      <td>2024-08-02 10:45:00</td>\n",
       "      <td>0 days 00:30:00</td>\n",
       "      <td>00:30:00</td>\n",
       "    </tr>\n",
       "    <tr>\n",
       "      <th>2</th>\n",
       "      <td>Event C</td>\n",
       "      <td>2024-08-03 14:30:00</td>\n",
       "      <td>2024-08-03 17:00:00</td>\n",
       "      <td>2024-08-03 16:30:00</td>\n",
       "      <td>2024-08-03 15:00:00</td>\n",
       "      <td>0 days 00:30:00</td>\n",
       "      <td>00:30:00</td>\n",
       "    </tr>\n",
       "    <tr>\n",
       "      <th>3</th>\n",
       "      <td>Event D</td>\n",
       "      <td>2024-08-04 09:00:00</td>\n",
       "      <td>2024-08-04 11:00:00</td>\n",
       "      <td>2024-08-04 11:00:00</td>\n",
       "      <td>2024-08-04 09:30:00</td>\n",
       "      <td>0 days 00:00:00</td>\n",
       "      <td>00:00:00</td>\n",
       "    </tr>\n",
       "  </tbody>\n",
       "</table>\n",
       "</div>"
      ],
      "text/plain": [
       "     Event      Start Time Use        End Time Use  Start Plus 2 Hours  \\\n",
       "0  Event A 2024-08-01 08:00:00 2024-08-01 12:00:00 2024-08-01 10:00:00   \n",
       "1  Event B 2024-08-02 10:15:00 2024-08-02 12:45:00 2024-08-02 12:15:00   \n",
       "2  Event C 2024-08-03 14:30:00 2024-08-03 17:00:00 2024-08-03 16:30:00   \n",
       "3  Event D 2024-08-04 09:00:00 2024-08-04 11:00:00 2024-08-04 11:00:00   \n",
       "\n",
       "  Start Minus 30 Minutes        Duration Duration Time  \n",
       "0    2024-08-01 08:30:00 0 days 02:00:00      02:00:00  \n",
       "1    2024-08-02 10:45:00 0 days 00:30:00      00:30:00  \n",
       "2    2024-08-03 15:00:00 0 days 00:30:00      00:30:00  \n",
       "3    2024-08-04 09:30:00 0 days 00:00:00      00:00:00  "
      ]
     },
     "execution_count": 605,
     "metadata": {},
     "output_type": "execute_result"
    }
   ],
   "source": [
    "# 9.2.3 การคำนวณช่วงเวลา Duration \n",
    "\n",
    "df_event_time['Duration'] =  df_event_time['End Time Use'] - df_event_time['Start Plus 2 Hours']\n",
    "\n",
    "# แปลง Duration เป็นเวลาแบบ HH:MM:SS\n",
    "df_event_time['Duration Time'] = df_event_time['Duration'].apply(lambda x: str(x).split()[2] if 'days' in str(x) else str(x))\n",
    "\n",
    "\n",
    "df_event_time"
   ]
  },
  {
   "cell_type": "code",
   "execution_count": 606,
   "metadata": {},
   "outputs": [
    {
     "data": {
      "text/html": [
       "<div>\n",
       "<style scoped>\n",
       "    .dataframe tbody tr th:only-of-type {\n",
       "        vertical-align: middle;\n",
       "    }\n",
       "\n",
       "    .dataframe tbody tr th {\n",
       "        vertical-align: top;\n",
       "    }\n",
       "\n",
       "    .dataframe thead th {\n",
       "        text-align: right;\n",
       "    }\n",
       "</style>\n",
       "<table border=\"1\" class=\"dataframe\">\n",
       "  <thead>\n",
       "    <tr style=\"text-align: right;\">\n",
       "      <th></th>\n",
       "      <th>Event</th>\n",
       "      <th>Start Time Use</th>\n",
       "      <th>End Time Use</th>\n",
       "      <th>Start Plus 2 Hours</th>\n",
       "      <th>Start Minus 30 Minutes</th>\n",
       "      <th>Duration</th>\n",
       "      <th>Duration Time</th>\n",
       "      <th>Duration Hours</th>\n",
       "      <th>Duration Minutes</th>\n",
       "      <th>Duration Seconds</th>\n",
       "    </tr>\n",
       "  </thead>\n",
       "  <tbody>\n",
       "    <tr>\n",
       "      <th>0</th>\n",
       "      <td>Event A</td>\n",
       "      <td>2024-08-01 08:00:00</td>\n",
       "      <td>2024-08-01 12:00:00</td>\n",
       "      <td>2024-08-01 10:00:00</td>\n",
       "      <td>2024-08-01 08:30:00</td>\n",
       "      <td>0 days 02:00:00</td>\n",
       "      <td>02:00:00</td>\n",
       "      <td>2.0</td>\n",
       "      <td>120.0</td>\n",
       "      <td>7200.0</td>\n",
       "    </tr>\n",
       "    <tr>\n",
       "      <th>1</th>\n",
       "      <td>Event B</td>\n",
       "      <td>2024-08-02 10:15:00</td>\n",
       "      <td>2024-08-02 12:45:00</td>\n",
       "      <td>2024-08-02 12:15:00</td>\n",
       "      <td>2024-08-02 10:45:00</td>\n",
       "      <td>0 days 00:30:00</td>\n",
       "      <td>00:30:00</td>\n",
       "      <td>0.5</td>\n",
       "      <td>30.0</td>\n",
       "      <td>1800.0</td>\n",
       "    </tr>\n",
       "    <tr>\n",
       "      <th>2</th>\n",
       "      <td>Event C</td>\n",
       "      <td>2024-08-03 14:30:00</td>\n",
       "      <td>2024-08-03 17:00:00</td>\n",
       "      <td>2024-08-03 16:30:00</td>\n",
       "      <td>2024-08-03 15:00:00</td>\n",
       "      <td>0 days 00:30:00</td>\n",
       "      <td>00:30:00</td>\n",
       "      <td>0.5</td>\n",
       "      <td>30.0</td>\n",
       "      <td>1800.0</td>\n",
       "    </tr>\n",
       "    <tr>\n",
       "      <th>3</th>\n",
       "      <td>Event D</td>\n",
       "      <td>2024-08-04 09:00:00</td>\n",
       "      <td>2024-08-04 11:00:00</td>\n",
       "      <td>2024-08-04 11:00:00</td>\n",
       "      <td>2024-08-04 09:30:00</td>\n",
       "      <td>0 days 00:00:00</td>\n",
       "      <td>00:00:00</td>\n",
       "      <td>0.0</td>\n",
       "      <td>0.0</td>\n",
       "      <td>0.0</td>\n",
       "    </tr>\n",
       "  </tbody>\n",
       "</table>\n",
       "</div>"
      ],
      "text/plain": [
       "     Event      Start Time Use        End Time Use  Start Plus 2 Hours  \\\n",
       "0  Event A 2024-08-01 08:00:00 2024-08-01 12:00:00 2024-08-01 10:00:00   \n",
       "1  Event B 2024-08-02 10:15:00 2024-08-02 12:45:00 2024-08-02 12:15:00   \n",
       "2  Event C 2024-08-03 14:30:00 2024-08-03 17:00:00 2024-08-03 16:30:00   \n",
       "3  Event D 2024-08-04 09:00:00 2024-08-04 11:00:00 2024-08-04 11:00:00   \n",
       "\n",
       "  Start Minus 30 Minutes        Duration Duration Time  Duration Hours  \\\n",
       "0    2024-08-01 08:30:00 0 days 02:00:00      02:00:00             2.0   \n",
       "1    2024-08-02 10:45:00 0 days 00:30:00      00:30:00             0.5   \n",
       "2    2024-08-03 15:00:00 0 days 00:30:00      00:30:00             0.5   \n",
       "3    2024-08-04 09:30:00 0 days 00:00:00      00:00:00             0.0   \n",
       "\n",
       "   Duration Minutes  Duration Seconds  \n",
       "0             120.0            7200.0  \n",
       "1              30.0            1800.0  \n",
       "2              30.0            1800.0  \n",
       "3               0.0               0.0  "
      ]
     },
     "execution_count": 606,
     "metadata": {},
     "output_type": "execute_result"
    }
   ],
   "source": [
    "# 9.2.4 แปลงจากวันเป็นเวลา Date to Timestamp\n",
    "\n",
    "# นับรายชั่วโมง\n",
    "df_event_time['Duration Hours'] = df_event_time['Duration'].dt.total_seconds() / 3600\n",
    "\n",
    "# นับรายนาที\n",
    "df_event_time['Duration Minutes'] = df_event_time['Duration'].dt.total_seconds() / 60\n",
    "\n",
    "# นับรายวินาที\n",
    "df_event_time['Duration Seconds'] = df_event_time['Duration'].dt.total_seconds()\n",
    "\n",
    "\n",
    "df_event_time"
   ]
  },
  {
   "cell_type": "markdown",
   "metadata": {},
   "source": [
    "__________________________________________________________________________________________________________________________________________________________________________________"
   ]
  },
  {
   "cell_type": "markdown",
   "metadata": {},
   "source": [
    "#### 10.     Ploting"
   ]
  },
  {
   "cell_type": "markdown",
   "metadata": {},
   "source": [
    "การทำ plotting หรือการสร้างกราฟใน Pandas เป็นเครื่องมือที่ช่วยในการวิเคราะห์และแสดงข้อมูลในรูปแบบกราฟต่างๆ ซึ่งทำให้เข้าใจข้อมูลได้ง่ายขึ้น ยกตัวอย่างการ plot แบบง่าย ดังนี้"
   ]
  },
  {
   "cell_type": "code",
   "execution_count": 150,
   "metadata": {},
   "outputs": [],
   "source": [
    "# Example Dataframe สำหรับการ \"Ploting\"\n",
    "np.random.seed(0)\n",
    "df10 = pd.DataFrame({\n",
    "    'Date': pd.date_range(start='2024-01-01', periods=15, freq='D'),\n",
    "    'Category': np.random.choice(['A', 'B', 'C', 'D'], size=15),\n",
    "    'Value': np.random.randint(10, 100, size=15),\n",
    "    'Count': np.random.randint(1, 50, size=15),\n",
    "    'Size': np.random.randint(100, 2000, size=15)\n",
    "})"
   ]
  },
  {
   "cell_type": "markdown",
   "metadata": {},
   "source": [
    "10.1 Line Plot:\n",
    "\n",
    "- แสดงข้อมูลในรูปแบบเส้นที่เชื่อมต่อระหว่างจุดต่างๆ\n",
    "- ใช้เมื่อมีข้อมูลที่มีลำดับเวลา (time series) หรือการเปลี่ยนแปลงตามลำดับ\n",
    "- ใช้ df.plot(kind='line')"
   ]
  },
  {
   "cell_type": "code",
   "execution_count": 155,
   "metadata": {},
   "outputs": [
    {
     "data": {
      "text/plain": [
       "<AxesSubplot:title={'center':'Line Plot'}, xlabel='Date'>"
      ]
     },
     "execution_count": 155,
     "metadata": {},
     "output_type": "execute_result"
    },
    {
     "data": {
      "image/png": "[encoded data removed]",
      "text/plain": [
       "<Figure size 432x288 with 1 Axes>"
      ]
     },
     "metadata": {
      "needs_background": "light"
     },
     "output_type": "display_data"
    }
   ],
   "source": [
    "df_line = df10.copy()\n",
    "\n",
    "df_line.plot(x='Date', y='Value', kind='line', title='Line Plot')"
   ]
  },
  {
   "cell_type": "markdown",
   "metadata": {},
   "source": [
    "10.2 Bar Plot:\n",
    "\n",
    "- แสดงข้อมูลในรูปแบบของแท่งที่มีความสูงแตกต่างกัน\n",
    "- ใช้เพื่อเปรียบเทียบค่าระหว่างหมวดหมู่\n",
    "- ใช้ df.plot(kind='bar')"
   ]
  },
  {
   "cell_type": "code",
   "execution_count": 160,
   "metadata": {},
   "outputs": [
    {
     "data": {
      "text/plain": [
       "<AxesSubplot:title={'center':'Bar Plot'}, xlabel='Category'>"
      ]
     },
     "execution_count": 160,
     "metadata": {},
     "output_type": "execute_result"
    },
    {
     "data": {
      "image/png": "[encoded data removed]",
      "text/plain": [
       "<Figure size 432x288 with 1 Axes>"
      ]
     },
     "metadata": {
      "needs_background": "light"
     },
     "output_type": "display_data"
    }
   ],
   "source": [
    "df_bar = df10.copy()\n",
    "\n",
    "df_bar = df_bar.groupby('Category')['Value'].sum()\n",
    "\n",
    "df_bar.plot(x='Category', y='Value', kind='bar', title='Bar Plot')\n"
   ]
  },
  {
   "cell_type": "markdown",
   "metadata": {},
   "source": [
    "10.3 Horizontal Bar Plot:\n",
    "\n",
    "- คล้ายกับ Bar Plot แต่แท่งจะอยู่ในแนวนอน\n",
    "- ใช้ df.plot(kind='barh')"
   ]
  },
  {
   "cell_type": "code",
   "execution_count": 161,
   "metadata": {},
   "outputs": [
    {
     "data": {
      "text/plain": [
       "<AxesSubplot:title={'center':'Horizontal Bar Plot'}, ylabel='Category'>"
      ]
     },
     "execution_count": 161,
     "metadata": {},
     "output_type": "execute_result"
    },
    {
     "data": {
      "image/png": "[encoded data removed]",
      "text/plain": [
       "<Figure size 432x288 with 1 Axes>"
      ]
     },
     "metadata": {
      "needs_background": "light"
     },
     "output_type": "display_data"
    }
   ],
   "source": [
    "df_barh = df10.copy()\n",
    "\n",
    "df_barh.groupby('Category')['Value'].sum().plot(kind='barh', title='Horizontal Bar Plot')\n"
   ]
  },
  {
   "cell_type": "markdown",
   "metadata": {},
   "source": [
    "10.4 Histogram:\n",
    "\n",
    "- แสดงการแจกแจงของข้อมูลโดยใช้แท่ง (bins) เพื่อแสดงความถี่\n",
    "- ใช้เพื่อวิเคราะห์การกระจายของข้อมูล\n",
    "- ใช้ df.plot(kind='hist')"
   ]
  },
  {
   "cell_type": "code",
   "execution_count": 164,
   "metadata": {},
   "outputs": [
    {
     "data": {
      "text/plain": [
       "<AxesSubplot:title={'center':'Histogram'}, ylabel='Frequency'>"
      ]
     },
     "execution_count": 164,
     "metadata": {},
     "output_type": "execute_result"
    },
    {
     "data": {
      "image/png": "[encoded data removed]",
      "text/plain": [
       "<Figure size 432x288 with 1 Axes>"
      ]
     },
     "metadata": {
      "needs_background": "light"
     },
     "output_type": "display_data"
    }
   ],
   "source": [
    "df_hist = df10.copy()\n",
    "\n",
    "df_hist['Value'].plot(kind='hist', bins=5, title='Histogram')\n"
   ]
  },
  {
   "cell_type": "markdown",
   "metadata": {},
   "source": [
    "10.5 Box Plot:\n",
    "\n",
    "- แสดงสถิติพื้นฐานของข้อมูล เช่น median, quartiles, และ outliers\n",
    "- ใช้เพื่อวิเคราะห์ความกระจายและค่าผิดปกติของข้อมูล\n",
    "- ใช้ df.plot(kind='box')"
   ]
  },
  {
   "cell_type": "code",
   "execution_count": 169,
   "metadata": {},
   "outputs": [
    {
     "data": {
      "text/plain": [
       "<AxesSubplot:title={'center':'Box Plot'}>"
      ]
     },
     "execution_count": 169,
     "metadata": {},
     "output_type": "execute_result"
    },
    {
     "data": {
      "image/png": "[encoded data removed]",
      "text/plain": [
       "<Figure size 432x288 with 1 Axes>"
      ]
     },
     "metadata": {
      "needs_background": "light"
     },
     "output_type": "display_data"
    }
   ],
   "source": [
    "df_box = df10.copy()\n",
    "\n",
    "df_box[['Value', 'Count']].plot(kind='box', title='Box Plot')\n"
   ]
  },
  {
   "cell_type": "markdown",
   "metadata": {},
   "source": [
    "10.6 Area Plot:\n",
    "\n",
    "- คล้ายกับ Line Plot แต่พื้นที่ใต้เส้นจะถูกเติมเต็มด้วยสี\n",
    "- ใช้เพื่อแสดงการเปลี่ยนแปลงของข้อมูลในช่วงเวลาหรือหมวดหมู่\n",
    "- ใช้ df.plot(kind='area')"
   ]
  },
  {
   "cell_type": "code",
   "execution_count": 170,
   "metadata": {},
   "outputs": [
    {
     "data": {
      "text/plain": [
       "<AxesSubplot:title={'center':'Area Plot'}, xlabel='Date'>"
      ]
     },
     "execution_count": 170,
     "metadata": {},
     "output_type": "execute_result"
    },
    {
     "data": {
      "image/png": "[encoded data removed]",
      "text/plain": [
       "<Figure size 432x288 with 1 Axes>"
      ]
     },
     "metadata": {
      "needs_background": "light"
     },
     "output_type": "display_data"
    }
   ],
   "source": [
    "df_area = df10.copy()\n",
    "\n",
    "df_area.set_index('Date')['Value'].plot(kind='area', title='Area Plot')\n"
   ]
  },
  {
   "cell_type": "markdown",
   "metadata": {},
   "source": [
    "10.7 Scatter Plot:\n",
    "\n",
    "- แสดงความสัมพันธ์ระหว่างสองตัวแปรโดยใช้จุด\n",
    "- ใช้เพื่อค้นหาความสัมพันธ์หรือแนวโน้มระหว่างข้อมูล\n",
    "- ใช้ df.plot(kind='scatter', x='column1', y='column2')"
   ]
  },
  {
   "cell_type": "code",
   "execution_count": 172,
   "metadata": {},
   "outputs": [
    {
     "data": {
      "text/plain": [
       "<AxesSubplot:title={'center':'Scatter Plot'}, xlabel='Value', ylabel='Count'>"
      ]
     },
     "execution_count": 172,
     "metadata": {},
     "output_type": "execute_result"
    },
    {
     "data": {
      "image/png": "[encoded data removed]",
      "text/plain": [
       "<Figure size 432x288 with 1 Axes>"
      ]
     },
     "metadata": {
      "needs_background": "light"
     },
     "output_type": "display_data"
    }
   ],
   "source": [
    "df_scatter = df10.copy()\n",
    "\n",
    "df_scatter.plot(kind='scatter', x='Value', y='Count', title='Scatter Plot')\n"
   ]
  },
  {
   "cell_type": "markdown",
   "metadata": {},
   "source": [
    "10.8 Pie Chart:\n",
    "\n",
    "- แสดงส่วนแบ่งของข้อมูลในรูปแบบวงกลม\n",
    "- ใช้เพื่อดูส่วนแบ่งและการเปรียบเทียบส่วนต่างๆ ของข้อมูล\n",
    "- ใช้ df.plot(kind='pie', y='column')"
   ]
  },
  {
   "cell_type": "code",
   "execution_count": 180,
   "metadata": {},
   "outputs": [
    {
     "data": {
      "text/plain": [
       "<AxesSubplot:title={'center':'Pie Chart'}, ylabel='Value'>"
      ]
     },
     "execution_count": 180,
     "metadata": {},
     "output_type": "execute_result"
    },
    {
     "data": {
      "image/png": "[encoded data removed]",
      "text/plain": [
       "<Figure size 432x288 with 1 Axes>"
      ]
     },
     "metadata": {},
     "output_type": "display_data"
    }
   ],
   "source": [
    "df_pie = df10.copy()\n",
    "\n",
    "df_pie.groupby('Category')['Value'].sum().plot(kind='pie', title='Pie Chart', autopct='%1.1f%%')\n"
   ]
  },
  {
   "cell_type": "markdown",
   "metadata": {},
   "source": [
    "__________________________________________________________________________________________________________________________________________________________________________________"
   ]
  },
  {
   "cell_type": "markdown",
   "metadata": {},
   "source": [
    "#### 11.     Read File"
   ]
  },
  {
   "cell_type": "markdown",
   "metadata": {},
   "source": [
    "การใช้ pandas สำหรับการอ่านไฟล์ (read_file) เป็นกระบวนการที่ทำให้เราสามารถนำเข้าข้อมูลจากแหล่งต่างๆ มาทำงานใน DataFrame ของ pandas ซึ่งเป็นโครงสร้างข้อมูลที่ใช้สำหรับการจัดการและวิเคราะห์ข้อมูลใน Python โดยมีรูปแบบทั่วไปสำหรับการ Read_file ดังนี้\n",
    "1. อ่านไฟล์ CSV \n",
    "2. อ่านไฟล์ Excel\n",
    "3. อ่านไฟล์ JSON\n",
    "4. อ่าน GIS file ** ***Bonus***"
   ]
  },
  {
   "cell_type": "markdown",
   "metadata": {},
   "source": [
    "##### 11.1 อ่านไฟล์ CSV \n",
    "ไฟล์ CSV (Comma-Separated Values) เป็นรูปแบบไฟล์ที่ใช้จัดเก็บข้อมูลในรูปแบบตาราง โดยมีลักษณะดังนี้:\n",
    "- แถว (Rows): แต่ละแถวแสดงข้อมูลหนึ่งบันทึก\n",
    "- คอลัมน์ (Columns): ข้อมูลในแต่ละแถวแบ่งออกเป็นคอลัมน์ โดยใช้คอมม่า (,) หรือ delimiter อื่นๆ\n",
    "- หัวข้อคอลัมน์ (Header Row): แถวแรกอาจมีชื่อคอลัมน์\n",
    "- ค่าข้อความ: ใช้เครื่องหมายคำพูดห่อหุ้มเมื่อมีคอมม่าในข้อมูล เช่น \"Los Angeles, CA\"\n",
    "- ค่าตัวเลข: ไม่ต้องใช้เครื่องหมายคำพูด\n",
    "- encoding : ประเทศไทยนิยมใช้ UTF-8 เนื่องจากรองรับหลายภาษา เป็นมาตราฐานสากล รองรับสัญลักษณ์พิเศษได้เยอะ ใช้พื้นที่น้อย"
   ]
  },
  {
   "cell_type": "markdown",
   "metadata": {},
   "source": [
    "> ข้อมูลจุดตัดทางรถไฟ จาก Opendata กรมขนส่งทางราง ที่มา : https://drt.gdcatalog.go.th/dataset/drt2566_04"
   ]
  },
  {
   "cell_type": "code",
   "execution_count": 4,
   "metadata": {},
   "outputs": [
    {
     "data": {
      "text/html": [
       "<div>\n",
       "<style scoped>\n",
       "    .dataframe tbody tr th:only-of-type {\n",
       "        vertical-align: middle;\n",
       "    }\n",
       "\n",
       "    .dataframe tbody tr th {\n",
       "        vertical-align: top;\n",
       "    }\n",
       "\n",
       "    .dataframe thead th {\n",
       "        text-align: right;\n",
       "    }\n",
       "</style>\n",
       "<table border=\"1\" class=\"dataframe\">\n",
       "  <thead>\n",
       "    <tr style=\"text-align: right;\">\n",
       "      <th></th>\n",
       "      <th>id</th>\n",
       "      <th>sta</th>\n",
       "      <th>crossing_type_1</th>\n",
       "      <th>no_track</th>\n",
       "      <th>km_1</th>\n",
       "      <th>telegraph_1</th>\n",
       "      <th>km2</th>\n",
       "      <th>telegraph_2</th>\n",
       "      <th>road</th>\n",
       "      <th>no_road</th>\n",
       "      <th>...</th>\n",
       "      <th>equip_3</th>\n",
       "      <th>equip_4</th>\n",
       "      <th>equip_5</th>\n",
       "      <th>equip_6</th>\n",
       "      <th>equip_7</th>\n",
       "      <th>equip_8</th>\n",
       "      <th>equip_9</th>\n",
       "      <th>crossing_type_2</th>\n",
       "      <th>TM</th>\n",
       "      <th>Note</th>\n",
       "    </tr>\n",
       "  </thead>\n",
       "  <tbody>\n",
       "    <tr>\n",
       "      <th>0</th>\n",
       "      <td>1</td>\n",
       "      <td>11-0001+187</td>\n",
       "      <td>Over Pass</td>\n",
       "      <td>3</td>\n",
       "      <td>1</td>\n",
       "      <td>2</td>\n",
       "      <td>1</td>\n",
       "      <td>3</td>\n",
       "      <td>ถ.พระราม 1</td>\n",
       "      <td>NaN</td>\n",
       "      <td>...</td>\n",
       "      <td>0.0</td>\n",
       "      <td>0.0</td>\n",
       "      <td>0.0</td>\n",
       "      <td>0.0</td>\n",
       "      <td>0.0</td>\n",
       "      <td>0.0</td>\n",
       "      <td>0.0</td>\n",
       "      <td>Over Pass</td>\n",
       "      <td>NaN</td>\n",
       "      <td>NaN</td>\n",
       "    </tr>\n",
       "    <tr>\n",
       "      <th>1</th>\n",
       "      <td>2</td>\n",
       "      <td>11-0002+160</td>\n",
       "      <td>ยกเลิก</td>\n",
       "      <td>3</td>\n",
       "      <td>2</td>\n",
       "      <td>2</td>\n",
       "      <td>2</td>\n",
       "      <td>3</td>\n",
       "      <td>ถ.ยมราช</td>\n",
       "      <td>NaN</td>\n",
       "      <td>...</td>\n",
       "      <td>0.0</td>\n",
       "      <td>0.0</td>\n",
       "      <td>0.0</td>\n",
       "      <td>0.0</td>\n",
       "      <td>0.0</td>\n",
       "      <td>0.0</td>\n",
       "      <td>0.0</td>\n",
       "      <td>ยกเลิก</td>\n",
       "      <td>NaN</td>\n",
       "      <td>NaN</td>\n",
       "    </tr>\n",
       "    <tr>\n",
       "      <th>2</th>\n",
       "      <td>3</td>\n",
       "      <td>11-0002+170</td>\n",
       "      <td>ก.0</td>\n",
       "      <td>3</td>\n",
       "      <td>2</td>\n",
       "      <td>3</td>\n",
       "      <td>2</td>\n",
       "      <td>4</td>\n",
       "      <td>ถ.ยมราช</td>\n",
       "      <td>NaN</td>\n",
       "      <td>...</td>\n",
       "      <td>1.0</td>\n",
       "      <td>1.0</td>\n",
       "      <td>1.0</td>\n",
       "      <td>1.0</td>\n",
       "      <td>0.0</td>\n",
       "      <td>0.0</td>\n",
       "      <td>0.0</td>\n",
       "      <td>ก.0</td>\n",
       "      <td>6,482,853</td>\n",
       "      <td>NaN</td>\n",
       "    </tr>\n",
       "    <tr>\n",
       "      <th>3</th>\n",
       "      <td>4</td>\n",
       "      <td>11-0002+867</td>\n",
       "      <td>ก.0</td>\n",
       "      <td>3</td>\n",
       "      <td>2</td>\n",
       "      <td>15</td>\n",
       "      <td>2</td>\n",
       "      <td>16</td>\n",
       "      <td>ถ.ศรีอยุธยา</td>\n",
       "      <td>NaN</td>\n",
       "      <td>...</td>\n",
       "      <td>0.0</td>\n",
       "      <td>1.0</td>\n",
       "      <td>1.0</td>\n",
       "      <td>1.0</td>\n",
       "      <td>0.0</td>\n",
       "      <td>0.0</td>\n",
       "      <td>0.0</td>\n",
       "      <td>ก.0</td>\n",
       "      <td>4,404,608</td>\n",
       "      <td>NaN</td>\n",
       "    </tr>\n",
       "    <tr>\n",
       "      <th>4</th>\n",
       "      <td>5</td>\n",
       "      <td>11-0003+459</td>\n",
       "      <td>ทางลักผ่าน</td>\n",
       "      <td>3</td>\n",
       "      <td>3</td>\n",
       "      <td>9</td>\n",
       "      <td>3</td>\n",
       "      <td>10</td>\n",
       "      <td>ถ.หลังโรงพยาบาลรามาธิบดี</td>\n",
       "      <td>NaN</td>\n",
       "      <td>...</td>\n",
       "      <td>0.0</td>\n",
       "      <td>0.0</td>\n",
       "      <td>0.0</td>\n",
       "      <td>0.0</td>\n",
       "      <td>0.0</td>\n",
       "      <td>0.0</td>\n",
       "      <td>0.0</td>\n",
       "      <td>ทางลักผ่าน</td>\n",
       "      <td>NaN</td>\n",
       "      <td>NaN</td>\n",
       "    </tr>\n",
       "  </tbody>\n",
       "</table>\n",
       "<p>5 rows × 96 columns</p>\n",
       "</div>"
      ],
      "text/plain": [
       "   id          sta crossing_type_1  no_track  km_1  telegraph_1  km2  \\\n",
       "0   1  11-0001+187       Over Pass         3     1            2    1   \n",
       "1   2  11-0002+160          ยกเลิก         3     2            2    2   \n",
       "2   3  11-0002+170             ก.0         3     2            3    2   \n",
       "3   4  11-0002+867             ก.0         3     2           15    2   \n",
       "4   5  11-0003+459      ทางลักผ่าน         3     3            9    3   \n",
       "\n",
       "   telegraph_2                      road no_road  ... equip_3  equip_4  \\\n",
       "0            3                ถ.พระราม 1     NaN  ...     0.0      0.0   \n",
       "1            3                   ถ.ยมราช     NaN  ...     0.0      0.0   \n",
       "2            4                   ถ.ยมราช     NaN  ...     1.0      1.0   \n",
       "3           16               ถ.ศรีอยุธยา     NaN  ...     0.0      1.0   \n",
       "4           10  ถ.หลังโรงพยาบาลรามาธิบดี     NaN  ...     0.0      0.0   \n",
       "\n",
       "   equip_5  equip_6 equip_7 equip_8  equip_9  crossing_type_2         TM  Note  \n",
       "0      0.0      0.0     0.0     0.0      0.0        Over Pass        NaN   NaN  \n",
       "1      0.0      0.0     0.0     0.0      0.0           ยกเลิก        NaN   NaN  \n",
       "2      1.0      1.0     0.0     0.0      0.0              ก.0  6,482,853   NaN  \n",
       "3      1.0      1.0     0.0     0.0      0.0              ก.0  4,404,608   NaN  \n",
       "4      0.0      0.0     0.0     0.0      0.0       ทางลักผ่าน        NaN   NaN  \n",
       "\n",
       "[5 rows x 96 columns]"
      ]
     },
     "execution_count": 4,
     "metadata": {},
     "output_type": "execute_result"
    }
   ],
   "source": [
    "# URL ของไฟล์ CSV : ข้อมูลจุดตัดทางรถไฟ จาก Opendata กรมขนส่งทางราง\n",
    "url111 = 'https://drt.gdcatalog.go.th/dataset/8a6b2e9c-bc42-40f4-8f76-cdbb9ddc7ea7/resource/01b609ab-b91c-401a-a776-8b2d0753caf3/download/drt2566-updated.csv'\n",
    "\n",
    "# อ่านไฟล์ CSV จาก URL\n",
    "df111 = pd.read_csv(url101, encoding='utf-8')\n",
    "\n",
    "# รายละเอียดข้อมูลทั้งหมด\n",
    "df111.head()"
   ]
  },
  {
   "cell_type": "markdown",
   "metadata": {},
   "source": [
    "##### 11.2 อ่านไฟล์ excel \n",
    "ไฟล์ Excel (.xlsx) เป็นรูปแบบไฟล์ที่ใช้ในการจัดเก็บข้อมูลในตารางแบบสเปรดชีต โดยมีลักษณะดังนี้:\n",
    "- แผ่นงาน (Sheets): ประกอบด้วยแผ่นงานหลายแผ่นภายในไฟล์เดียว\n",
    "- เซลล์ (Cells): ข้อมูลจะถูกจัดเก็บในเซลล์ที่จัดเรียงในแถวและคอลัมน์\n",
    "- ฟอร์มูล่า (Formulas): สนับสนุนการคำนวณด้วยสูตรและฟังก์ชัน\n",
    "- รูปแบบ (Formatting): สามารถปรับแต่งรูปแบบเซลล์ เช่น ตัวอักษร, สี, และกรอบ\n",
    "- engine='openpyxl': ใช้ engine openpyxl สำหรับไฟล์ .xlsx. ถ้าเป็นไฟล์ .xls, คุณอาจต้องใช้ engine='xlrd'"
   ]
  },
  {
   "cell_type": "markdown",
   "metadata": {},
   "source": [
    "> ข้อมูลอุบัติเหตุบนโครงข่ายรถไฟ จาก Opendata การทางรถไฟแห่งประเทศไทย ที่มา : https://gdc.railway.co.th/dataset/after28"
   ]
  },
  {
   "cell_type": "code",
   "execution_count": 131,
   "metadata": {},
   "outputs": [
    {
     "data": {
      "text/html": [
       "<div>\n",
       "<style scoped>\n",
       "    .dataframe tbody tr th:only-of-type {\n",
       "        vertical-align: middle;\n",
       "    }\n",
       "\n",
       "    .dataframe tbody tr th {\n",
       "        vertical-align: top;\n",
       "    }\n",
       "\n",
       "    .dataframe thead th {\n",
       "        text-align: right;\n",
       "    }\n",
       "</style>\n",
       "<table border=\"1\" class=\"dataframe\">\n",
       "  <thead>\n",
       "    <tr style=\"text-align: right;\">\n",
       "      <th></th>\n",
       "      <th>ลำดับ</th>\n",
       "      <th>ขบวน</th>\n",
       "      <th>วันที่</th>\n",
       "      <th>เวลา</th>\n",
       "      <th>สทล.</th>\n",
       "      <th>สถานที่เกิดเหตุ</th>\n",
       "      <th>รายละเอียด</th>\n",
       "      <th>บาดเจ็บ</th>\n",
       "      <th>เสียชีวิต</th>\n",
       "      <th>จังหวัด</th>\n",
       "    </tr>\n",
       "  </thead>\n",
       "  <tbody>\n",
       "    <tr>\n",
       "      <th>0</th>\n",
       "      <td>1</td>\n",
       "      <td>44</td>\n",
       "      <td>01/01/2565</td>\n",
       "      <td>03:58</td>\n",
       "      <td>NaN</td>\n",
       "      <td>หนองหิน - ประจวบฯ</td>\n",
       "      <td>ขบวนรถชนสุนัข เป็นเหตุให้ รถ กซข.ป. 2544 คันที...</td>\n",
       "      <td>0</td>\n",
       "      <td>0</td>\n",
       "      <td>ประจวบคีรีขันธ์</td>\n",
       "    </tr>\n",
       "    <tr>\n",
       "      <th>1</th>\n",
       "      <td>2</td>\n",
       "      <td>71</td>\n",
       "      <td>01/01/2565</td>\n",
       "      <td>05:52</td>\n",
       "      <td>448/10</td>\n",
       "      <td>กะโดนค้อ - ศีขรภูมิ</td>\n",
       "      <td>ขบวนรถชนกระบือ 1 ตัว ไม่พบเจ้าของ ขบวนรถถอยกลั...</td>\n",
       "      <td>0</td>\n",
       "      <td>0</td>\n",
       "      <td>สุรินทร์</td>\n",
       "    </tr>\n",
       "    <tr>\n",
       "      <th>2</th>\n",
       "      <td>3</td>\n",
       "      <td>518</td>\n",
       "      <td>01/01/2565</td>\n",
       "      <td>11:25</td>\n",
       "      <td>564/7</td>\n",
       "      <td>หนองตะไก้ - หนองขอนกว้าง</td>\n",
       "      <td>รถจักรยานยนต์ ไม่ติดแผ่นป้ายทะเบียน ชนคานกั้นถ...</td>\n",
       "      <td>0</td>\n",
       "      <td>1</td>\n",
       "      <td>อุดรธานี</td>\n",
       "    </tr>\n",
       "    <tr>\n",
       "      <th>3</th>\n",
       "      <td>4</td>\n",
       "      <td>352</td>\n",
       "      <td>02/01/2565</td>\n",
       "      <td>05:33</td>\n",
       "      <td>64/13</td>\n",
       "      <td>บ้านโป่ง - ชท.หนองปลาดุก</td>\n",
       "      <td>ขบวนรถชนคนเป็นชาย ไม่พบหลักฐานแสดงตน อายุประมา...</td>\n",
       "      <td>0</td>\n",
       "      <td>1</td>\n",
       "      <td>ราชบุรี</td>\n",
       "    </tr>\n",
       "    <tr>\n",
       "      <th>4</th>\n",
       "      <td>5</td>\n",
       "      <td>171</td>\n",
       "      <td>02/01/2565</td>\n",
       "      <td>11:00</td>\n",
       "      <td>ย่าน</td>\n",
       "      <td>รือเสาะ</td>\n",
       "      <td>ขณะทำขบวนรถเข้าทางหลีก  รถ บนท.ป.1073 คันที่ 1...</td>\n",
       "      <td>0</td>\n",
       "      <td>0</td>\n",
       "      <td>นราธิวาส</td>\n",
       "    </tr>\n",
       "  </tbody>\n",
       "</table>\n",
       "</div>"
      ],
      "text/plain": [
       "   ลำดับ ขบวน      วันที่   เวลา    สทล.           สถานที่เกิดเหตุ  \\\n",
       "0      1   44  01/01/2565  03:58     NaN         หนองหิน - ประจวบฯ   \n",
       "1      2   71  01/01/2565  05:52  448/10       กะโดนค้อ - ศีขรภูมิ   \n",
       "2      3  518  01/01/2565  11:25   564/7  หนองตะไก้ - หนองขอนกว้าง   \n",
       "3      4  352  02/01/2565  05:33   64/13  บ้านโป่ง - ชท.หนองปลาดุก   \n",
       "4      5  171  02/01/2565  11:00    ย่าน                   รือเสาะ   \n",
       "\n",
       "                                          รายละเอียด  บาดเจ็บ  เสียชีวิต  \\\n",
       "0  ขบวนรถชนสุนัข เป็นเหตุให้ รถ กซข.ป. 2544 คันที...        0          0   \n",
       "1  ขบวนรถชนกระบือ 1 ตัว ไม่พบเจ้าของ ขบวนรถถอยกลั...        0          0   \n",
       "2  รถจักรยานยนต์ ไม่ติดแผ่นป้ายทะเบียน ชนคานกั้นถ...        0          1   \n",
       "3  ขบวนรถชนคนเป็นชาย ไม่พบหลักฐานแสดงตน อายุประมา...        0          1   \n",
       "4  ขณะทำขบวนรถเข้าทางหลีก  รถ บนท.ป.1073 คันที่ 1...        0          0   \n",
       "\n",
       "           จังหวัด  \n",
       "0  ประจวบคีรีขันธ์  \n",
       "1         สุรินทร์  \n",
       "2         อุดรธานี  \n",
       "3          ราชบุรี  \n",
       "4         นราธิวาส  "
      ]
     },
     "execution_count": 131,
     "metadata": {},
     "output_type": "execute_result"
    }
   ],
   "source": [
    " # URL ของไฟล์ Excel : ข้อมูลอุบัติเหตุบนโครงข่ายรถไฟ จาก Opendata การทางรถไฟแห่งประเทศไทย\n",
    "url112 = 'https://gdc.railway.co.th/dataset/17b28430-a9fc-4c80-9616-a7dad23b76b1/resource/18f4b3af-d750-4756-aeb6-e0e4422ce438/download/after28.xlsx'\n",
    "\n",
    "# อ่านไฟล์ Excel จาก URL\n",
    "df112 = pd.read_excel(url112, sheet_name='Reorder Attributes', engine='openpyxl')\n",
    "\n",
    "# รายละเอียดข้อมูลทั้งหมด\n",
    "df112.head()"
   ]
  },
  {
   "cell_type": "markdown",
   "metadata": {},
   "source": [
    "##### 11.3 อ่านไฟล์ JSON \n",
    "ไฟล์ JSON (JavaScript Object Notation) มีลักษณะดังนี้:\n",
    "- โครงสร้างแบบคู่คีย์-ค่า: ข้อมูลจะถูกจัดเก็บในรูปแบบของคู่คีย์-ค่า (key-value pairs)\n",
    "- รูปแบบ: สามารถมีค่าหลายประเภท เช่น string, number, boolean, array, หรือ object\n",
    "- รองรับข้อมูลที่ซ้อนกัน: อนุญาตให้มีการซ้อนข้อมูล เช่น objects ซ้อนกันภายใน arrays\n",
    "- การจัดรูปแบบ: ใช้เครื่องหมาย {} สำหรับ objects และ [] สำหรับ arrays\n",
    "- ตัวอย่าง ดังนี้\n",
    "\n",
    "\n",
    "\n"
   ]
  },
  {
   "cell_type": "markdown",
   "metadata": {},
   "source": [
    "```\n",
    "{\n",
    "  \"name\": \"John\",\n",
    "  \"age\": 30,\n",
    "  \"is_student\": false,\n",
    "  \"courses\": [\"Math\", \"Science\"],\n",
    "  \"address\": {\n",
    "    \"street\": \"123 Main St\",\n",
    "    \"city\": \"Anytown\"\n",
    "  }\n",
    "}\n",
    "```"
   ]
  },
  {
   "cell_type": "markdown",
   "metadata": {},
   "source": [
    "> ข้อมูลอุทกภัยและแจ้งเตือนอุทกภัยและประเมินความเสียหาย จาก Opendata กระทรวงคมนาคม ที่มา : https://dataportal.drr.go.th/dataset/fms2_flood"
   ]
  },
  {
   "cell_type": "code",
   "execution_count": 7,
   "metadata": {},
   "outputs": [
    {
     "data": {
      "text/html": [
       "<div>\n",
       "<style scoped>\n",
       "    .dataframe tbody tr th:only-of-type {\n",
       "        vertical-align: middle;\n",
       "    }\n",
       "\n",
       "    .dataframe tbody tr th {\n",
       "        vertical-align: top;\n",
       "    }\n",
       "\n",
       "    .dataframe thead th {\n",
       "        text-align: right;\n",
       "    }\n",
       "</style>\n",
       "<table border=\"1\" class=\"dataframe\">\n",
       "  <thead>\n",
       "    <tr style=\"text-align: right;\">\n",
       "      <th></th>\n",
       "      <th>FLOOD</th>\n",
       "    </tr>\n",
       "  </thead>\n",
       "  <tbody>\n",
       "    <tr>\n",
       "      <th>0</th>\n",
       "      <td>{'ID': 1549, 'FLOOD_ID': 31306, 'TITLE': 'น้ำท...</td>\n",
       "    </tr>\n",
       "    <tr>\n",
       "      <th>1</th>\n",
       "      <td>{'ID': 1550, 'FLOOD_ID': 31309, 'TITLE': 'น้ำท...</td>\n",
       "    </tr>\n",
       "    <tr>\n",
       "      <th>2</th>\n",
       "      <td>{'ID': 1551, 'FLOOD_ID': 31311, 'TITLE': 'น้ำท...</td>\n",
       "    </tr>\n",
       "    <tr>\n",
       "      <th>3</th>\n",
       "      <td>{'ID': 1552, 'FLOOD_ID': 31310, 'TITLE': 'น้ำท...</td>\n",
       "    </tr>\n",
       "    <tr>\n",
       "      <th>4</th>\n",
       "      <td>{'ID': 1553, 'FLOOD_ID': 31307, 'TITLE': 'น้ำท...</td>\n",
       "    </tr>\n",
       "  </tbody>\n",
       "</table>\n",
       "</div>"
      ],
      "text/plain": [
       "                                               FLOOD\n",
       "0  {'ID': 1549, 'FLOOD_ID': 31306, 'TITLE': 'น้ำท...\n",
       "1  {'ID': 1550, 'FLOOD_ID': 31309, 'TITLE': 'น้ำท...\n",
       "2  {'ID': 1551, 'FLOOD_ID': 31311, 'TITLE': 'น้ำท...\n",
       "3  {'ID': 1552, 'FLOOD_ID': 31310, 'TITLE': 'น้ำท...\n",
       "4  {'ID': 1553, 'FLOOD_ID': 31307, 'TITLE': 'น้ำท..."
      ]
     },
     "execution_count": 7,
     "metadata": {},
     "output_type": "execute_result"
    }
   ],
   "source": [
    "import requests\n",
    "\n",
    "# URL ของไฟล์ Json : ข้อมูลอุทกภัยและแจ้งเตือนอุทกภัยและประเมินความเสียหาย จาก Opendata กระทรวงคมนาคม\n",
    "url113 = 'http://dataportal.drr.go.th/dataset/187480f0-45e9-433f-9964-909cab4f5289/resource/a87bcef5-c3c6-4c0b-b86b-5fc2f1934277/download/flood.json'\n",
    "response = requests.get(url113)\n",
    "# Check if the request was successful\n",
    "if response.status_code == 200:\n",
    "    # Parse the JSON content\n",
    "    data113 = response.json()\n",
    "else:\n",
    "    print(\"Failed to fetch the JSON data.\")\n",
    "\n",
    "# อ่านไฟล์ JSON จาก URL\n",
    "df113 = pd.DataFrame(data113)\n",
    "\n",
    "# รายละเอียดข้อมูลทั้งหมด\n",
    "df113.head()"
   ]
  },
  {
   "cell_type": "markdown",
   "metadata": {},
   "source": [
    "> ข้อมูลอุทกภัยและแจ้งเตือนอุทกภัยและประเมินความเสียหาย จาก Opendata กระทรวงคมนาคม ที่มา : https://dataportal.drr.go.th/dataset/fms2_flood"
   ]
  },
  {
   "cell_type": "markdown",
   "metadata": {},
   "source": [
    "##### 11.4 *Bonus* อ่าน GIS File \n",
    "GIS (Geographic Information System) files เก็บข้อมูลทางภูมิศาสตร์และข้อมูลที่เกี่ยวข้องในรูปแบบที่สามารถนำมาวิเคราะห์และแสดงผลในระบบ GIS ได้ โดยทั่วไปจะเก็บในรูปแบบของ ```the_geom``` ประกอบด้วยรูปแบบ ดังนี้\n",
    "\n"
   ]
  },
  {
   "cell_type": "markdown",
   "metadata": {},
   "source": [
    "- Well-Known Text (WKT) : \n",
    "  - รูปแบบ: ข้อความ (string) ที่ใช้สำหรับแสดงข้อมูลทางภูมิศาสตร์ในรูปแบบที่อ่านได้ง่าย\n",
    "  - ตัวอย่าง: POINT(30 10), LINESTRING(30 10, 10 30, 40 40), POLYGON((30 10, 40 40, 20 40, 10 20, 30 10))\n",
    "\n",
    "\n",
    "- Well-Known Binary (WKB)\n",
    "  - รูปแบบ: ข้อมูลไบนารีที่ใช้สำหรับแสดงข้อมูลทางภูมิศาสตร์ในรูปแบบที่เป็นมาตรฐานและประหยัดพื้นที่ในการจัดเก็บ\n",
    "  - ตัวอย่าง: 0102000020E6100000D20000001CDDA5CD6B7E594011E (ในรูปแบบไบนารี)\n",
    "\n",
    "- GeoJSON \n",
    "  - รูปแบบ: รูปแบบ JSON ที่ใช้สำหรับแสดงข้อมูลทางภูมิศาสตร์ในรูปแบบที่สามารถอ่านได้ง่าย\n",
    "  - ตัวอย่าง \n",
    "    ```\n",
    "    {\n",
    "      \"type\": \"Feature\",\n",
    "      \"geometry\": {\n",
    "        \"type\": \"Point\",\n",
    "        \"coordinates\": [30, 10]\n",
    "      },\n",
    "      \"properties\": {\n",
    "        \"name\": \"Sample Point\"\n",
    "      }\n",
    "    }  \n",
    "    ```\n",
    "- KML (Keyhole Markup Language) \n",
    "  - รูปแบบ: XML-based format ที่ใช้ในการจัดเก็บข้อมูลทางภูมิศาสตร์ซึ่งใช้โดย Google Earth\n",
    "  - ตัวอย่าง\n",
    "    ```\n",
    "    <Placemark>\n",
    "      <Point>\n",
    "        <coordinates>30,10</coordinates>\n",
    "      </Point>\n",
    "    </Placemark>\n",
    "    ```\n",
    "- ESRI\n",
    "  - รูปแบบ: รูปแบบไฟล์ที่ประกอบด้วยหลายไฟล์ เช่น .shp, .shx, .dbf, และอื่นๆ ซึ่งใช้สำหรับจัดเก็บข้อมูลทางภูมิศาสตร์ โดยสามารถ แปลงในรูปแบบ JSON หรือ geoJSON ตาม Supported Query Formats ได้\n",
    "  - ตัวอย่าง: ข้อมูลจะถูกเก็บในไฟล์ .shp แต่ฟิลด์ the_geom จะอยู่ในรูปแบบของไบนารี (Well-Known Binary (WKB))"
   ]
  },
  {
   "cell_type": "markdown",
   "metadata": {},
   "source": [
    "> เส้นทางรถไฟในประเทศไทย (ปรับปรุงล่าสุด 18 มิถุนายน ค.ศ. 2021) จาก OpenDevelopmentแม่น้ำโขง ที่มา : https://data.opendevelopmentmekong.net/th/dataset/thailand-railway-network"
   ]
  },
  {
   "cell_type": "code",
   "execution_count": 3,
   "metadata": {},
   "outputs": [
    {
     "data": {
      "image/png": "[encoded data removed]",
      "text/plain": [
       "<Figure size 720x720 with 1 Axes>"
      ]
     },
     "metadata": {
      "needs_background": "light"
     },
     "output_type": "display_data"
    }
   ],
   "source": [
    "#11.4_1 Well-Known Binary (WKB)\n",
    "\n",
    "\n",
    "################# ขั้นตอนที่ 1 Load ข้อมูลมาใส่ Dataframe\n",
    "\n",
    "# URL ของ GIS File อยู่ในรูปแบบ Well-Known Binary (WKB) : เส้นทางรถไฟในประเทศไทย (ปรับปรุงล่าสุด 18 มิถุนายน ค.ศ. 2021) จาก OpenDevelopmentแม่น้ำโขง\n",
    "url114_1 = \"https://data.opendevelopmentmekong.net/th/datastore/dump/1bac90a0-846b-4934-8cd3-dd3e7387bc77\"\n",
    "\n",
    "# อ่านไฟล์ CSV จาก URL และแปลงเป็น Dataframe\n",
    "df114_1 = pd.read_csv(url114_1, encoding='utf-8')\n",
    "\n",
    "################# ขั้นตอนที่ 2 ปรับโครงสร้างข้อมูล จาก Well-Known Binary เป็น geometry\n",
    "\n",
    "import geopandas as gpd\n",
    "from shapely import wkb\n",
    "import binascii\n",
    "\n",
    "# Function to convert WKB to shapely geometry\n",
    "def wkb_to_geometry(wkb_hex):\n",
    "    # Convert from hex to binary\n",
    "    wkb_bin = binascii.unhexlify(wkb_hex)\n",
    "    return wkb.loads(wkb_bin)\n",
    "\n",
    "# Convert 'the_geom' column from WKB to geometries\n",
    "df114_1['geometry'] = df114_1['the_geom'].apply(wkb_to_geometry)\n",
    "\n",
    "# Create a GeoDataFrame\n",
    "gdf114_1 = gpd.GeoDataFrame(df114_1, geometry='geometry')\n",
    "\n",
    "# Set the CRS (Coordinate Reference System)\n",
    "gdf114_1.set_crs(epsg=4326, inplace=True)  # Assuming the data is in WGS84\n",
    "\n",
    "\n",
    "################# ขั้นตอนที่ 3 แสดงตัวอย่างข้อมูล\n",
    "\n",
    "import matplotlib.pyplot as plt\n",
    "\n",
    "# Plot the GeoDataFrame\n",
    "gdf114_1.plot(figsize=(10, 10), edgecolor='k')\n",
    "\n",
    "# Set the title and show the plot\n",
    "plt.title('Railway Routes in Thailand')\n",
    "plt.xlabel('Longitude')\n",
    "plt.ylabel('Latitude')\n",
    "plt.show()"
   ]
  },
  {
   "cell_type": "markdown",
   "metadata": {},
   "source": [
    "> พื้นที่มีโอกาสเกิดแผ่นดินถล่ม จาก OpenData สำนักงานสถิติแห่งชาติ ที่มา : https://gdcatalog.go.th/dataset/gdpublish-landslide_susceptibility"
   ]
  },
  {
   "cell_type": "code",
   "execution_count": 8,
   "metadata": {},
   "outputs": [
    {
     "data": {
      "image/png": "[encoded data removed]",
      "text/plain": [
       "<Figure size 720x720 with 1 Axes>"
      ]
     },
     "metadata": {
      "needs_background": "light"
     },
     "output_type": "display_data"
    }
   ],
   "source": [
    "import requests\n",
    "import pandas as pd\n",
    "import geopandas as gpd\n",
    "import matplotlib.pyplot as plt\n",
    "from shapely.geometry import LineString, Polygon\n",
    "\n",
    "#11.4_2 ESRI\n",
    "\n",
    "################# ขั้นตอนที่ 1 Load ข้อมูลมาใส่ Dataframe\n",
    "\n",
    "# URL ของ GIS File อยู่ในรูปแบบ ESRI mapService : พื้นที่มีโอกาสเกิดแผ่นดินถล่ม จาก Thai-GDC โดย สำนักงานสถิติแห่งชาติ\n",
    "url114_2 = \"https://gisportal.dmr.go.th/arcgis/rest/services/HAZARD/LANDSLIDE_SUSCEPTIBILITY/MapServer/0/query\"\n",
    "\n",
    "# กำหนดพารามิเตอร์สำหรับการ query\n",
    "params = {\n",
    "    'where': '1=1',  # ดึงข้อมูลทั้งหมด\n",
    "    'outFields': '*',  # ดึงทุกฟิลด์\n",
    "    'f': 'json',  # ระบุว่าเราต้องการข้อมูลเป็น JSON\n",
    "    'resultRecordCount': 2000,  # จำนวนแถวที่ต้องการดึงแต่ละครั้ง\n",
    "    'resultOffset': 0,  # ชุดข้อมูลเริ่มต้น\n",
    "}\n",
    "\n",
    "# ฟังก์ชันดึงข้อมูลทั้งหมดจาก ArcGIS REST API\n",
    "def fetch_all_data(url, params):\n",
    "    data = []\n",
    "    offset = 0\n",
    "    while True:\n",
    "        params['resultOffset'] = offset  # ปรับ resultOffset สำหรับแต่ละการดึงข้อมูล\n",
    "        \n",
    "        # ส่ง request ไปยัง API\n",
    "        response = requests.get(url, params=params)\n",
    "        response_json = response.json()\n",
    "        \n",
    "        # ตรวจสอบว่ามีฟีเจอร์ในผลลัพธ์หรือไม่\n",
    "        if 'features' in response_json and response_json['features']:\n",
    "            data.extend(response_json['features'])  # เพิ่มข้อมูลใหม่ที่ดึงมา\n",
    "            offset += params['resultRecordCount']  # เพิ่ม offset เพื่อดึงข้อมูลชุดถัดไป\n",
    "        else:\n",
    "            break  # ถ้าไม่มีฟีเจอร์ในผลลัพธ์ ให้หยุดการดึงข้อมูล\n",
    "    return data\n",
    "\n",
    "# ดึงข้อมูลจากบริการ ArcGIS REST API\n",
    "data114_2 = fetch_all_data(url114_2, params.copy())\n",
    "\n",
    "\n",
    "\n",
    "################# ขั้นตอนที่ 2 แปลงเป็น Geodataframe\n",
    "\n",
    "# ฟังก์ชันแปลงเป็น GeoDataFrame\n",
    "def convert_to_geodataframe(geometry_type, features):\n",
    "    geometries = []\n",
    "    attributes = []\n",
    "    \n",
    "    for feature in features:\n",
    "        geom = feature.get('geometry')\n",
    "        attr = feature.get('attributes')\n",
    "        if geom:  # ตรวจสอบว่ามี geometry หรือไม่\n",
    "            if geometry_type == \"esriGeometryPoint\":\n",
    "                coords = geom.get('x'), geom.get('y')\n",
    "                geometries.append(Point(coords))\n",
    "            elif geometry_type == \"esriGeometryPolyline\":\n",
    "                coords = geom.get('paths', [])[0]\n",
    "                geometries.append(LineString(coords))\n",
    "            elif geometry_type == \"esriGeometryPolygon\":\n",
    "                coords = geom.get('rings', [])[0]\n",
    "                geometries.append(Polygon(coords))\n",
    "            attributes.append(attr)  # เก็บ attributes\n",
    "    \n",
    "    if geometries and attributes:\n",
    "        # สร้าง DataFrame จาก attributes และ GeoDataFrame จาก geometries\n",
    "        df_attributes = pd.DataFrame(attributes)\n",
    "        gdf = gpd.GeoDataFrame(df_attributes, geometry=geometries)\n",
    "    else:\n",
    "        print(\"No geometries or attributes found.\")\n",
    "        gdf = None\n",
    "    \n",
    "    return gdf\n",
    "\n",
    "\n",
    "# แปลงข้อมูลเป็น GeoDataFrame และตั้งค่า EPSG setting geometryType , features  >> Create a GeoDataFrame >> Set the CRS (Coordinate Reference System)\n",
    "gdf114_2 = convert_to_geodataframe(\"esriGeometryPolygon\", data114_2).set_crs(epsg=32647, inplace=True)\n",
    "\n",
    "################# ขั้นตอนที่ 3 แสดงตัวอย่างข้อมูล\n",
    "\n",
    "import matplotlib.pyplot as plt\n",
    "\n",
    "# Plot the GeoDataFrame\n",
    "gdf114_2.plot(figsize=(10, 10), edgecolor='k')\n",
    "\n",
    "# Set the title and show the plot\n",
    "plt.title('Landslide in Thailand')\n",
    "plt.xlabel('Longitude')\n",
    "plt.ylabel('Latitude')\n",
    "plt.show()"
   ]
  },
  {
   "cell_type": "code",
   "execution_count": 203,
   "metadata": {},
   "outputs": [
    {
     "data": {
      "image/png": "[encoded data removed]",
      "text/plain": [
       "<Figure size 720x720 with 1 Axes>"
      ]
     },
     "metadata": {
      "needs_background": "light"
     },
     "output_type": "display_data"
    }
   ],
   "source": [
    "#11.4_3 JSON to GeoJSON to Gemometery\n",
    "\n",
    "import pandas as pd\n",
    "import geopandas as gpd\n",
    "from shapely.geometry import Point\n",
    "\n",
    "################# ขั้นตอนที่ 1 Load ข้อมูลมาใส่ Dataframe ขั้นตอนนี้อ้างอิงจาก ข้อ 11.3\n",
    "\n",
    "# URL ของไฟล์ Json : ข้อมูลอุทกภัยและแจ้งเตือนอุทกภัยและประเมินความเสียหาย จาก Opendata กระทรวงคมนาคม\n",
    "url114_3 = 'http://dataportal.drr.go.th/dataset/187480f0-45e9-433f-9964-909cab4f5289/resource/a87bcef5-c3c6-4c0b-b86b-5fc2f1934277/download/flood.json'\n",
    "response = requests.get(url114_3)\n",
    "# Check if the request was successful\n",
    "if response.status_code == 200:\n",
    "    # Parse the JSON content\n",
    "    data114_3 = response.json()\n",
    "else:\n",
    "    print(\"Failed to fetch the JSON data.\")\n",
    "\n",
    "# อ่านไฟล์ JSON จาก URL\n",
    "df114_3 = pd.DataFrame(data114_3)\n",
    "\n",
    "\n",
    "################# ขั้นตอนที่ 2 ปรับโครงสร้างข้อมูล โดยการแยกคอลัมน์ FLOOD เป็นคอลัมน์ย่อย และแปลงเป็น geometry\n",
    "df114_3 = df114_3['FLOOD'].apply(pd.Series)\n",
    "\n",
    "df114_3['geometry'] = df114_3.apply(lambda row: Point(row['LONGITUDE'], row['LATITUDE']), axis=1)\n",
    "\n",
    "# Create a GeoDataFrame\n",
    "gdf114_3 = gpd.GeoDataFrame(df114_3, geometry='geometry')\n",
    "\n",
    "# Set the CRS (Coordinate Reference System)\n",
    "gdf114_3.set_crs(epsg=4326, inplace=True)  # Assuming the data is in WGS84\n",
    "\n",
    "################# ขั้นตอนที่ 3 แสดงตัวอย่างข้อมูล\n",
    "\n",
    "import matplotlib.pyplot as plt\n",
    "\n",
    "# Plot the GeoDataFrame\n",
    "gdf114_3.plot(figsize=(10, 10), edgecolor='k')\n",
    "\n",
    "# Set the title and show the plot\n",
    "plt.title('Flood Rural Road in Thailand')\n",
    "plt.xlabel('Longitude')\n",
    "plt.ylabel('Latitude')\n",
    "plt.show()\n"
   ]
  },
  {
   "cell_type": "markdown",
   "metadata": {},
   "source": [
    "##### สรุป Dataframe ที่รวบรวมมาได้ "
   ]
  },
  {
   "cell_type": "markdown",
   "metadata": {},
   "source": [
    "\n",
    "1. df111 = ข้อมูลจุดตัดทางรถไฟ จาก Opendata กรมขนส่งทางราง ที่มา : https://drt.gdcatalog.go.th/dataset/drt2566_04\n",
    "2. df112 = ข้อมูลอุบัติเหตุบนโครงข่ายรถไฟ จาก Opendata การทางรถไฟแห่งประเทศไทย ที่มา : https://gdc.railway.co.th/dataset/after28\n",
    "3. df113 = ข้อมูลอุทกภัยและแจ้งเตือนอุทกภัยและประเมินความเสียหาย จาก Opendata กระทรวงคมนาคม ที่มา : https://dataportal.drr.go.th/dataset/fms2_flood\n",
    "\n",
    "------------------------------------------------------------------------------------------\n",
    "\n",
    "4. gdf114_1 = เส้นทางรถไฟในประเทศไทย (ปรับปรุงล่าสุด 18 มิถุนายน ค.ศ. 2021) จาก OpenDevelopmentแม่น้ำโขง ที่มา : https://data.opendevelopmentmekong.net/th/dataset/thailand-railway-network\n",
    "5. gdf114_2 = พื้นที่มีโอกาสเกิดแผ่นดินถล่ม จาก OpenData สำนักงานสถิติแห่งชาติ ที่มา : https://gdcatalog.go.th/dataset/gdpublish-landslide_susceptibility\n",
    "6. gdf114_3 = ข้อมูลอุทกภัยและแจ้งเตือนอุทกภัยและประเมินความเสียหาย จาก Opendata กระทรวงคมนาคม ที่มา : https://dataportal.drr.go.th/dataset/fms2_flood"
   ]
  }
 ],
 "metadata": {
  "kernelspec": {
   "display_name": "simon",
   "language": "python",
   "name": "python3"
  },
  "language_info": {
   "codemirror_mode": {
    "name": "ipython",
    "version": 3
   },
   "file_extension": ".py",
   "mimetype": "text/x-python",
   "name": "python",
   "nbconvert_exporter": "python",
   "pygments_lexer": "ipython3",
   "version": "3.9.5"
  }
 },
 "nbformat": 4,
 "nbformat_minor": 2
}
