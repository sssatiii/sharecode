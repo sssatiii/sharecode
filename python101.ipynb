{
 "cells": [
  {
   "cell_type": "markdown",
   "metadata": {},
   "source": [
    "# Basic Python for Python 101"
   ]
  },
  {
   "cell_type": "markdown",
   "metadata": {},
   "source": [
    "#### 1 Print Statement"
   ]
  },
  {
   "cell_type": "code",
   "execution_count": 3,
   "metadata": {},
   "outputs": [
    {
     "name": "stdout",
     "output_type": "stream",
     "text": [
      "Hello World\n",
      "Hello\n",
      "World\n",
      "Hello-World\n"
     ]
    }
   ],
   "source": [
    "# Print Statement\n",
    "print(\"Hello World\")\n",
    "\n",
    "# Print enters a newline after the string printed\n",
    "print(\"Hello\")\n",
    "print(\"World\")\n",
    "\n",
    "# To add space at the end not newline\n",
    "print(\"Hello\", end=\"-\")\n",
    "print(\"World\")"
   ]
  },
  {
   "cell_type": "markdown",
   "metadata": {},
   "source": [
    "__________________________________________________________________________________________________________________________________________________________________________________"
   ]
  },
  {
   "cell_type": "markdown",
   "metadata": {},
   "source": [
    "\n",
    "Comment can be used for documentation or explanation of code. Multiline comment is not supported though in python but multiline strings are used in that case."
   ]
  },
  {
   "cell_type": "code",
   "execution_count": 1,
   "metadata": {},
   "outputs": [
    {
     "name": "stdout",
     "output_type": "stream",
     "text": [
      "hello world\n"
     ]
    }
   ],
   "source": [
    "# This a comment\n",
    "\n",
    "'''\n",
    "This is a multi\n",
    "line comment\n",
    "'''\n"
   ]
  },
  {
   "cell_type": "markdown",
   "metadata": {},
   "source": [
    "__________________________________________________________________________________________________________________________________________________________________________________"
   ]
  },
  {
   "cell_type": "markdown",
   "metadata": {},
   "source": [
    "#### 2 Operators"
   ]
  },
  {
   "cell_type": "markdown",
   "metadata": {},
   "source": [
    "##### 1.2.1 Arithmetic Operators\n",
    "\n"
   ]
  },
  {
   "cell_type": "markdown",
   "metadata": {},
   "source": [
    "Python supports 7 arithmetic operations\n",
    "- +(การบวก)\n",
    "- -(การลบ)\n",
    "- *(การคูณ)\n",
    "- /(การหาร)\n",
    "- //(การหารไม่แสดงเศษ)\n",
    "- %(การหารแสดงเศษ)\n",
    "- **(การยกกำลัง)"
   ]
  },
  {
   "cell_type": "code",
   "execution_count": 19,
   "metadata": {},
   "outputs": [
    {
     "name": "stdout",
     "output_type": "stream",
     "text": [
      "11\n",
      "3\n",
      "42\n",
      "3.888888888888889\n",
      "3\n",
      "8\n",
      "390625\n"
     ]
    }
   ],
   "source": [
    "# Addition\n",
    "print( 5 + 6)\n",
    "\n",
    "# Subtraction\n",
    "print( 10 - 7)\n",
    "\n",
    "# Multiplication\n",
    "print( 6 * 7)\n",
    "\n",
    "# Division\n",
    "print( 35 / 9)\n",
    "\n",
    "# Integer Division\n",
    "print ( 35 // 9)\n",
    "\n",
    "# Modulus\n",
    "print( 35 % 9)\n",
    "\n",
    "# Exponential\n",
    "print( 5 ** 8)"
   ]
  },
  {
   "cell_type": "markdown",
   "metadata": {},
   "source": [
    "__________________________________________________________________________________________________________________________________________________________________________________"
   ]
  },
  {
   "cell_type": "markdown",
   "metadata": {},
   "source": [
    "##### 1.2.2 Relational Operators\n"
   ]
  },
  {
   "cell_type": "markdown",
   "metadata": {},
   "source": [
    "There are 6 relational operators\n",
    "- == (เท่ากับ) \t\n",
    "- != (ไม่เท่ากับ) \t\n",
    "- \\> (มากกว่า) \t\n",
    "- \\< (น้อยกว่า) \t\n",
    "- \\>= (มากกว่าเท่ากับ)\t\n",
    "- <=  (น้อยกว่าเท่ากับ) \t"
   ]
  },
  {
   "cell_type": "code",
   "execution_count": 20,
   "metadata": {},
   "outputs": [
    {
     "name": "stdout",
     "output_type": "stream",
     "text": [
      "True\n",
      "False\n",
      "False\n",
      "True\n",
      "False\n",
      "True\n"
     ]
    }
   ],
   "source": [
    "# greater than\n",
    "print(45 > 34)\n",
    "\n",
    "# less than\n",
    "print(45 < 34)\n",
    "\n",
    "# equal\n",
    "print(45 == 34)\n",
    "\n",
    "# not equal\n",
    "print(45 != 34)\n",
    "\n",
    "# less than or equal to\n",
    "print(45 <= 34)\n",
    "\n",
    "# greater than or equal to\n",
    "print(45 >= 34)\n"
   ]
  },
  {
   "cell_type": "markdown",
   "metadata": {},
   "source": [
    "__________________________________________________________________________________________________________________________________________________________________________________"
   ]
  },
  {
   "cell_type": "markdown",
   "metadata": {},
   "source": [
    "##### 1.2.3 Logical Operations\n",
    "\t"
   ]
  },
  {
   "cell_type": "markdown",
   "metadata": {},
   "source": [
    "มีการดำเนินการเชิงตรรกะ 3 ส่วนใหญ่\n",
    "- AND Operator (and): คืนค่า True ถ้าตัวถูกดำเนินการทั้งสองเป็นจริง\n",
    "- OR Operator (or): ส่งกลับค่า True หากมีตัวถูกดำเนินการอย่างน้อยหนึ่งตัวเป็น True\n",
    "- NOT Operator (not): คืนค่า True ถ้าตัวถูกดำเนินการเป็นเท็จ และในทางกลับกัน"
   ]
  },
  {
   "cell_type": "code",
   "execution_count": 21,
   "metadata": {},
   "outputs": [
    {
     "name": "stdout",
     "output_type": "stream",
     "text": [
      "False\n",
      "True\n",
      "False\n",
      "True\n"
     ]
    }
   ],
   "source": [
    "a = True\n",
    "b = False\n",
    "\n",
    "# AND operation\n",
    "print(a and b)  # Output: False\n",
    "\n",
    "# OR operation\n",
    "print(a or b)  # Output: True\n",
    "\n",
    "# NOT operation\n",
    "print(not a)  # Output: False\n",
    "print(not b)  # Output: True\n"
   ]
  },
  {
   "cell_type": "markdown",
   "metadata": {},
   "source": [
    "__________________________________________________________________________________________________________________________________________________________________________________"
   ]
  },
  {
   "cell_type": "markdown",
   "metadata": {},
   "source": [
    "#### 3 Variables\n"
   ]
  },
  {
   "cell_type": "markdown",
   "metadata": {},
   "source": [
    "##### กฎการตั้งชื่อ\n",
    "1.    ชื่อตัวแปรต้องขึ้นต้นด้วยตัวอักษรหรือขีดล่าง\n",
    "2.    ชื่อตัวแปรไม่สามารถขึ้นต้นด้วยตัวเลขได้\n",
    "3.    ชื่อตัวแปรมีได้เฉพาะอักขระตัวอักษรและตัวเลขและขีดล่าง (A-z, 0-9 และ _ )\n",
    "4.    ชื่อตัวแปรต้องตรงตามตัวพิมพ์ใหญ่-เล็ก (อายุ อายุ และ AGE เป็นตัวแปรที่แตกต่างกัน 3 ตัว)"
   ]
  },
  {
   "cell_type": "code",
   "execution_count": 1,
   "metadata": {},
   "outputs": [
    {
     "name": "stdout",
     "output_type": "stream",
     "text": [
      "780\n",
      "780\n"
     ]
    }
   ],
   "source": [
    "# Assignment \n",
    "a = 12\n",
    "b = 65\n",
    "c = a * b\n",
    "print( a * b)\n",
    "print(c)"
   ]
  },
  {
   "cell_type": "code",
   "execution_count": 23,
   "metadata": {},
   "outputs": [
    {
     "name": "stdout",
     "output_type": "stream",
     "text": [
      "123\n"
     ]
    }
   ],
   "source": [
    "adl_123= 123\n",
    "print( adl_123)"
   ]
  },
  {
   "cell_type": "code",
   "execution_count": 24,
   "metadata": {},
   "outputs": [
    {
     "ename": "SyntaxError",
     "evalue": "invalid syntax (Temp/ipykernel_19608/1929015376.py, line 2)",
     "output_type": "error",
     "traceback": [
      "\u001b[1;36m  File \u001b[1;32m\"C:\\Users\\Mizak\\AppData\\Local\\Temp/ipykernel_19608/1929015376.py\"\u001b[1;36m, line \u001b[1;32m2\u001b[0m\n\u001b[1;33m    @a=5\u001b[0m\n\u001b[1;37m      ^\u001b[0m\n\u001b[1;31mSyntaxError\u001b[0m\u001b[1;31m:\u001b[0m invalid syntax\n"
     ]
    }
   ],
   "source": [
    "# no special character\n",
    "@a=5"
   ]
  },
  {
   "cell_type": "markdown",
   "metadata": {},
   "source": [
    "__________________________________________________________________________________________________________________________________________________________________________________"
   ]
  },
  {
   "cell_type": "markdown",
   "metadata": {},
   "source": [
    "#### 4 Data types\n"
   ]
  },
  {
   "cell_type": "markdown",
   "metadata": {},
   "source": [
    "- Text Type: str\n",
    "- Numeric Types: int, float, complex\n",
    "- Sequence Types: list, tuple, range\n",
    "- Mapping Type: dict\n",
    "- Set Types: set\n",
    "- Boolean Type: bool\n",
    "\n",
    "[หมายเหตุ: Python รองรับการพิมพ์อัตโนมัติและไม่ได้บอกเป็นนัยว่าผู้ใช้ระบุประเภทข้อมูลของตัวแปรในระหว่างการประกาศ ประเภทของตัวแปรสามารถตรวจสอบได้โดยใช้ type() ]"
   ]
  },
  {
   "cell_type": "code",
   "execution_count": null,
   "metadata": {},
   "outputs": [
    {
     "name": "stdout",
     "output_type": "stream",
     "text": [
      "<class 'int'>\n",
      "<class 'str'>\n",
      "<class 'int'>\n",
      "<class 'float'>\n",
      "<class 'complex'>\n",
      "<class 'list'>\n",
      "<class 'tuple'>\n",
      "<class 'range'>\n",
      "<class 'dict'>\n",
      "<class 'set'>\n",
      "<class 'frozenset'>\n",
      "<class 'bool'>\n",
      "<class 'bytes'>\n",
      "<class 'bytearray'>\n",
      "<class 'memoryview'>\n"
     ]
    }
   ],
   "source": [
    "x = 5\n",
    "print(type(x)) #<class 'int'>\n",
    "\n",
    "x = \"Hello World\"\n",
    "print(type(x)) #<class 'str'>\n",
    "\n",
    "x = 20\n",
    "print(type(x)) #<class 'int'>\n",
    "\n",
    "x = 20.5 \t\n",
    "print(type(x)) \t#<class 'float'>\n",
    "\n",
    "x = 1j \t\n",
    "print(type(x)) \t#<class 'complex'>\n",
    "\n",
    "x = [\"apple\", \"banana\", \"cherry\"] \t\n",
    "print(type(x)) \t#<class 'list'>\n",
    "\n",
    "x = (\"apple\", \"banana\", \"cherry\") \t\n",
    "print(type(x)) \t#<class 'tuple'>\n",
    "\n",
    "x = range(6) \t\n",
    "print(type(x)) \t#<class 'range'>\n",
    "\n",
    "x = {\"name\" : \"John\", \"age\" : 36} \t\n",
    "print(type(x)) \t#<class 'dict'>\n",
    "\n",
    "x = {\"apple\", \"banana\", \"cherry\"} \t\n",
    "print(type(x)) \t#<class 'set'>\n",
    "\n",
    "x = frozenset({\"apple\", \"banana\", \"cherry\"}) \t\n",
    "print(type(x)) \t#<class 'frozenset'>\n",
    "\n",
    "x = True \n",
    "print(type(x)) \t#<class 'bool'>\n",
    "\n",
    "x = b\"Hello\" \t\n",
    "print(type(x)) \t#<class 'bytes'>\n",
    "\n",
    "x = bytearray(5) \t\n",
    "print(type(x)) \t#<class 'bytearray'>\n",
    "\n",
    "x = memoryview(bytes(5))\n",
    "print(type(x)) #<class 'memoryview'>\n",
    "\n",
    "\n"
   ]
  },
  {
   "cell_type": "markdown",
   "metadata": {},
   "source": [
    "โครงสร้างใช้สำหรับเก็บข้อมูล ใน python\n"
   ]
  },
  {
   "cell_type": "markdown",
   "metadata": {},
   "source": [
    "- List (ลิสต์)\n",
    "ความหมาย: List เป็นโครงสร้างข้อมูลที่ใช้เก็บกลุ่มของค่าหลาย ๆ ค่าภายในเครื่องหมายสี่เหลี่ยม [ ] โดยที่ค่าต่าง ๆ ภายในลิสต์สามารถมีชนิดข้อมูลที่แตกต่างกันได้"
   ]
  },
  {
   "cell_type": "code",
   "execution_count": 3,
   "metadata": {},
   "outputs": [],
   "source": [
    "my_list = [1, 2, 3, \"Hello\", True]\n",
    "my_list[0] = 10  # แก้ไขค่าในลิสต์"
   ]
  },
  {
   "cell_type": "markdown",
   "metadata": {},
   "source": [
    "- Tuple (ทูเพิล) ความหมาย: Tuple เป็นโครงสร้างข้อมูลที่คล้ายกับ List แต่ใช้เครื่องหมายวงเล็บปิด ( ) แทน และไม่สามารถแก้ไขค่าภายในได้ (Immutable)"
   ]
  },
  {
   "cell_type": "code",
   "execution_count": null,
   "metadata": {},
   "outputs": [],
   "source": [
    "my_tuple = (1, 2, 3, \"Hello\", True)\n",
    "# my_tuple[0] = 10  # จะเกิดข้อผิดพลาดเพราะทูเพิลไม่สามารถแก้ไขได้"
   ]
  },
  {
   "cell_type": "markdown",
   "metadata": {},
   "source": [
    "- Dictionary (ดิกชันนารี)\n",
    "ความหมาย: Dictionary เป็นโครงสร้างข้อมูลที่เก็บข้อมูลในรูปแบบของคู่ Key-Value โดยที่ Key ต้องเป็นค่าที่ไม่ซ้ำกัน และสามารถเข้าถึงค่าได้โดยใช้ Key แทนดัชนี"
   ]
  },
  {
   "cell_type": "code",
   "execution_count": null,
   "metadata": {},
   "outputs": [],
   "source": [
    "my_dict = {\"name\": \"John\", \"age\": 25, \"city\": \"Bangkok\"}\n",
    "my_dict[\"age\"] = 26  # แก้ไขค่าในดิกชันนารี"
   ]
  },
  {
   "cell_type": "markdown",
   "metadata": {},
   "source": [
    "- Set (เซต)\n",
    "ความหมาย: เป็นโครงสร้างข้อมูลที่ใช้เก็บค่าหลายๆ ค่าในรูปแบบของชุด (set) ไม่มีการจัดลำดับ ไม่สามารถมีค่าซ้ำ สามารถเปลี่ยนแปลงได้"
   ]
  },
  {
   "cell_type": "code",
   "execution_count": 53,
   "metadata": {},
   "outputs": [
    {
     "data": {
      "text/plain": [
       "{(1, 2), 1, 2.5, 'hello', 'เพิ่ม'}"
      ]
     },
     "execution_count": 53,
     "metadata": {},
     "output_type": "execute_result"
    }
   ],
   "source": [
    "my_set = {1, 2.5, 'hello', (1, 2)}\n",
    "my_set.add('เพิ่ม')"
   ]
  },
  {
   "cell_type": "markdown",
   "metadata": {},
   "source": [
    "- Range (เรนจ์)\n",
    "ความหมาย: Range เป็นโครงสร้างข้อมูลที่ใช้สำหรับสร้างลำดับของตัวเลขตามช่วงที่กำหนด โดยทั่วไปใช้ใน for loop"
   ]
  },
  {
   "cell_type": "code",
   "execution_count": null,
   "metadata": {},
   "outputs": [],
   "source": [
    "my_range = range(1, 10, 2)  # เริ่มจาก 1 ไปถึง 9 โดยเพิ่มทีละ 2\n",
    "for i in my_range:\n",
    "    print(i)"
   ]
  },
  {
   "cell_type": "markdown",
   "metadata": {},
   "source": [
    "__________________________________________________________________________________________________________________________________________________________________________________"
   ]
  },
  {
   "cell_type": "markdown",
   "metadata": {},
   "source": [
    "#### 5 Conditional Statements"
   ]
  },
  {
   "cell_type": "markdown",
   "metadata": {},
   "source": [
    "1.5.1 Simply these are if, if-else and if-elif-else or combination of if-many elif-else"
   ]
  },
  {
   "cell_type": "code",
   "execution_count": null,
   "metadata": {},
   "outputs": [],
   "source": [
    "x=4\n",
    "\n",
    "if(x%2==0):\n",
    "    print(\"Even\")\n",
    "else:\n",
    "    print(\"Odd\")"
   ]
  },
  {
   "cell_type": "code",
   "execution_count": null,
   "metadata": {},
   "outputs": [],
   "source": [
    "y=90\n",
    "\n",
    "if(y>90):\n",
    "    print(\"Grade A\")\n",
    "elif(y>60):\n",
    "    print(\"Grade B\")\n",
    "else:\n",
    "    print(\"Grade F\")"
   ]
  },
  {
   "cell_type": "markdown",
   "metadata": {},
   "source": [
    "1.5.2 Looping Conditions"
   ]
  },
  {
   "cell_type": "code",
   "execution_count": null,
   "metadata": {},
   "outputs": [],
   "source": [
    "#Example 1: Basic Loop rang\n",
    "\n",
    "for i in range(11,50):\n",
    "    print(i)"
   ]
  },
  {
   "cell_type": "code",
   "execution_count": 13,
   "metadata": {},
   "outputs": [
    {
     "name": "stdout",
     "output_type": "stream",
     "text": [
      "1 * 1 = 1\n",
      "1 * 2 = 2\n",
      "2 * 1 = 2\n",
      "2 * 2 = 4\n"
     ]
    }
   ],
   "source": [
    "#Example 2: Nested Loops with Conditions\n",
    "\n",
    "for i in range(1,3):\n",
    "    for j in range(1,3):\n",
    "        product = i * j\n",
    "        print(f\"{i} * {j} = {product}\")\n",
    "        # if product < 20:\n",
    "        #     print(f\"{i} * {j} = {product}\")\n"
   ]
  },
  {
   "cell_type": "code",
   "execution_count": null,
   "metadata": {},
   "outputs": [],
   "source": [
    "#Example 3: Loops with Conditions continue and breaks\n",
    "\n",
    "numbers = [1, 2, 3, 4, 5, 6, 7, 8, 9, 10]\n",
    "\n",
    "for num in numbers:\n",
    "    if num == 5:\n",
    "        continue\n",
    "    elif num > 7:\n",
    "        break\n",
    "    print(num)"
   ]
  },
  {
   "cell_type": "code",
   "execution_count": 1,
   "metadata": {},
   "outputs": [
    {
     "name": "stdout",
     "output_type": "stream",
     "text": [
      "2 is even\n",
      "4 is even\n",
      "6 is even\n",
      "8 is even\n",
      "10 is even\n"
     ]
    }
   ],
   "source": [
    "#Example 4: Loop in List and Conditions\n",
    "\n",
    "numbers = [1, 2, 3, 4, 5, 6, 7, 8, 9, 10]\n",
    "\n",
    "for num in numbers:\n",
    "    if num % 2 == 0:\n",
    "        print(f\"{num} is even\")"
   ]
  },
  {
   "cell_type": "code",
   "execution_count": 21,
   "metadata": {},
   "outputs": [
    {
     "name": "stdout",
     "output_type": "stream",
     "text": [
      "2 is even\n",
      "4 is even\n",
      "6 is even\n",
      "8 is even\n",
      "10 is even\n"
     ]
    }
   ],
   "source": [
    "#Example 5: Loop in List and Conditions lambda\n",
    "\n",
    "numbers = [1, 2, 3, 4, 5, 6, 7, 8, 9, 10]\n",
    "\n",
    "# ใช้ lambda function กับ map เพื่อสร้างข้อความสำหรับเลขคู่\n",
    "num_even = list(map(lambda x: f\"{x} is even\" if x % 2 == 0 else None,numbers))\n",
    "\n",
    "for num in num_even:\n",
    "    if num is not None:\n",
    "        print(num)"
   ]
  },
  {
   "cell_type": "code",
   "execution_count": null,
   "metadata": {},
   "outputs": [],
   "source": [
    "#Example 6: Loop in tuple and Conditions\n",
    "\n",
    "points = ((1, 2), (3, 4), (5, 6))\n",
    "\n",
    "# Loop through the outer tuple\n",
    "for point in points:\n",
    "    # Loop through each element in the inner tuple\n",
    "    for coordinate in point:\n",
    "        print(coordinate)\n"
   ]
  },
  {
   "cell_type": "code",
   "execution_count": 16,
   "metadata": {},
   "outputs": [
    {
     "name": "stdout",
     "output_type": "stream",
     "text": [
      "Alice passed with a grade of 85\n",
      "Charlie passed with a grade of 92\n"
     ]
    }
   ],
   "source": [
    "#Example 7: Looping Over a Dictionary with Conditions\n",
    "\n",
    "grades = {'Alice': 85, 'Bob': 78, 'Charlie': 92, 'David': 60}\n",
    "\n",
    "for student, grade in grades.items():\n",
    "    if grade > 80:\n",
    "        print(f\"{student} passed with a grade of {grade}\")\n"
   ]
  },
  {
   "cell_type": "markdown",
   "metadata": {},
   "source": [
    "__________________________________________________________________________________________________________________________________________________________________________________"
   ]
  },
  {
   "cell_type": "markdown",
   "metadata": {},
   "source": [
    "#### 6 Functions\n"
   ]
  },
  {
   "cell_type": "markdown",
   "metadata": {},
   "source": [
    "คำสั่งที่ถูกรวมเข้าด้วยกันและสามารถเรียกใช้งานซ้ำ ๆ ได้ โดยมีจุดประสงค์เพื่อทำงานที่เฉพาะเจาะจง ฟังก์ชันช่วยให้โค้ดมีการจัดการที่ง่ายขึ้น, ลดความซ้ำซ้อน, และสามารถนำกลับมาใช้ใหม่ได้"
   ]
  },
  {
   "cell_type": "markdown",
   "metadata": {},
   "source": [
    "```\n",
    "def function_name(params=default_value(optional)):\n",
    "  function_definition\n",
    "```"
   ]
  },
  {
   "cell_type": "code",
   "execution_count": null,
   "metadata": {},
   "outputs": [],
   "source": [
    "#Example 1: Finding the square of n\n",
    "def square(i):\n",
    "  return i*i\n",
    "\n",
    "print(square(5))  "
   ]
  },
  {
   "cell_type": "code",
   "execution_count": 14,
   "metadata": {},
   "outputs": [
    {
     "name": "stdout",
     "output_type": "stream",
     "text": [
      "Hello, John!\n",
      "Hello, Alice!\n"
     ]
    }
   ],
   "source": [
    "#Example 2: Function Greet\n",
    "\n",
    "## มี return\n",
    "def greet(name):\n",
    "    \"\"\"ฟังก์ชันสำหรับทักทายผู้ใช้\"\"\"\n",
    "    greeting = f\"Hello, {name}!\"  # สร้างข้อความทักทาย\n",
    "    return greeting  # ส่งค่าข้อความทักทายกลับไป\n",
    "\n",
    "# การเรียกใช้งานฟังก์ชัน\n",
    "\n",
    "\n",
    "message = greet(\"John\")\n",
    "print(message) \n",
    "\n",
    "\n",
    "## ไม่มี reture\n",
    "def print_greet(name):\n",
    "    \"\"\"ฟังก์ชันสำหรับพิมพ์ข้อความทักทาย\"\"\"\n",
    "    print(f\"Hello, {name}!\")\n",
    "    \n",
    "print_greet(\"Alice\")  "
   ]
  },
  {
   "cell_type": "code",
   "execution_count": null,
   "metadata": {},
   "outputs": [],
   "source": [
    "#Example 3 : more parameter\n",
    "\n",
    "def add_numbers(a, b):\n",
    "    \"\"\"ฟังก์ชันสำหรับบวกเลขสองจำนวน\"\"\"\n",
    "    return a + b\n",
    "\n",
    "result = add_numbers(5, 3)\n",
    "print(result) \n"
   ]
  },
  {
   "cell_type": "code",
   "execution_count": null,
   "metadata": {},
   "outputs": [],
   "source": [
    "#Example 4 : more return\n",
    "elist = [10,50,30,12,6,8,100]\n",
    "def efunc(b):\n",
    "    highest = max(b)\n",
    "    lowest = min(b)\n",
    "    first = b[0]\n",
    "    last = b[-1]\n",
    "    return highest,lowest,first,last\n",
    "\n",
    "efunc(elist)"
   ]
  },
  {
   "cell_type": "markdown",
   "metadata": {},
   "source": [
    "#### 7 Example Basic Project\n"
   ]
  },
  {
   "cell_type": "code",
   "execution_count": null,
   "metadata": {},
   "outputs": [],
   "source": [
    "'''\n",
    "##### 1.7.1 โปรแกรมแปลงข้อความเป็นตัวพิมพ์ใหญ่/พิมพ์เล็ก (Text Case Converter) #####\n",
    "คำอธิบาย: โปรแกรมนี้จะรับข้อความจากผู้ใช้และเปลี่ยนข้อความนั้นเป็นตัวพิมพ์ใหญ่หรือตัวพิมพ์เล็ก\n",
    "'''\n",
    "\n",
    "text = input(\"Enter a text: \")\n",
    "\n",
    "print(\"1. Convert to uppercase\")\n",
    "print(\"2. Convert to lowercase\")\n",
    "\n",
    "choice = input(\"Enter choice (1/2): \")\n",
    "\n",
    "if choice == '1':\n",
    "    print(text.upper())\n",
    "elif choice == '2':\n",
    "    print(text.lower())\n",
    "else:\n",
    "    print(\"Invalid input\")"
   ]
  },
  {
   "cell_type": "code",
   "execution_count": 51,
   "metadata": {},
   "outputs": [
    {
     "name": "stdout",
     "output_type": "stream",
     "text": [
      "Too high!\n",
      "Too high!\n",
      "Too high!\n",
      "Too low!\n",
      "Congratulations! You guessed it right.\n"
     ]
    }
   ],
   "source": [
    "'''\n",
    "##### 1.7.2 โปรแกรมเกมทายเลข (Number Guessing Game) #####\n",
    "คำอธิบาย: โปรแกรมนี้จะสุ่มตัวเลข และให้ผู้ใช้ทายจนกว่าจะถูก\n",
    "'''\n",
    "\n",
    "import random\n",
    "\n",
    "number_to_guess = random.randint(1, 10)\n",
    "attempts = 10  # กำหนดจำนวนครั้งที่ให้ทาย\n",
    "\n",
    "for _ in range(attempts):\n",
    "    guess = int(input(\"Guess the number (between 1 and 10): \"))\n",
    "    \n",
    "    if guess < number_to_guess:\n",
    "        print(\"Too low!\")\n",
    "    elif guess > number_to_guess:\n",
    "        print(\"Too high!\")\n",
    "    else:\n",
    "        print(\"Congratulations! You guessed it right.\")\n",
    "        break\n",
    "else:\n",
    "    print(f\"Sorry, the correct number was {number_to_guess}.\")\n"
   ]
  },
  {
   "cell_type": "code",
   "execution_count": 34,
   "metadata": {},
   "outputs": [
    {
     "name": "stdout",
     "output_type": "stream",
     "text": [
      "['A', 'B', 'C', 'D']\n",
      "Random word: B\n"
     ]
    }
   ],
   "source": [
    "'''\n",
    "##### 1.7.3 โปรแกรมสุ่มคำศัพท์ (Random Word Generator) #####\n",
    "คำอธิบาย: โปรแกรมนี้จะรับลิสต์ของคำศัพท์จากผู้ใช้และสุ่มเลือกคำศัพท์หนึ่งคำ\n",
    "'''\n",
    "import random\n",
    "\n",
    "def random_word(words):\n",
    "    return random.choice(words)\n",
    "\n",
    "words = input(\"ป้อนคำโดยคั่นด้วยช่องว่าง: \").split()\n",
    "print(f\"Random word: {random_word(words)}\")\n"
   ]
  },
  {
   "cell_type": "code",
   "execution_count": 31,
   "metadata": {},
   "outputs": [
    {
     "name": "stdout",
     "output_type": "stream",
     "text": [
      "Select operation:\n",
      "1. Add\n",
      "2. Subtract\n",
      "3. Multiply\n",
      "4. Divide\n",
      "2.0 / 1.0 = 2.0\n"
     ]
    }
   ],
   "source": [
    "''' \n",
    "##### 1.7.4 โปรแกรมเครื่องคิดเลข (Basic Calculator) ##### \n",
    "คำอธิบาย: โปรแกรมนี้จะให้ผู้ใช้เลือกการคำนวณพื้นฐาน เช่น บวก ลบ คูณ หาร จากนั้นรับค่าอินพุตสองค่าและแสดงผลลัพธ์\n",
    "'''\n",
    "\n",
    "def add(x, y):\n",
    "    return x + y\n",
    "\n",
    "def subtract(x, y):\n",
    "    return x - y\n",
    "\n",
    "def multiply(x, y):\n",
    "    return x * y\n",
    "\n",
    "def divide(x, y):\n",
    "    if y != 0:\n",
    "        return x / y\n",
    "    else:\n",
    "        return \"Error: Cannot divide by zero\"\n",
    "\n",
    "print(\"Select operation:\")\n",
    "print(\"1. Add\")\n",
    "print(\"2. Subtract\")\n",
    "print(\"3. Multiply\")\n",
    "print(\"4. Divide\")\n",
    "\n",
    "choice = input(\"Enter choice (1/2/3/4): \")\n",
    "\n",
    "num1 = float(input(\"Enter first number: \"))\n",
    "num2 = float(input(\"Enter second number: \"))\n",
    "\n",
    "if choice == '1':\n",
    "    print(f\"{num1} + {num2} = {add(num1, num2)}\")\n",
    "elif choice == '2':\n",
    "    print(f\"{num1} - {num2} = {subtract(num1, num2)}\")\n",
    "elif choice == '3':\n",
    "    print(f\"{num1} * {num2} = {multiply(num1, num2)}\")\n",
    "elif choice == '4':\n",
    "    print(f\"{num1} / {num2} = {divide(num1, num2)}\")\n",
    "else:\n",
    "    print(\"Invalid input\")\n"
   ]
  },
  {
   "cell_type": "code",
   "execution_count": 16,
   "metadata": {},
   "outputs": [
    {
     "name": "stdout",
     "output_type": "stream",
     "text": [
      "Your BMI is: 0.00\n",
      "You are underweight.\n"
     ]
    }
   ],
   "source": [
    "''' \n",
    "##### 1.7.5 โปรแกรมคำนวณดัชนีมวลกาย (BMI Calculator) ##### \n",
    "คำอธิบาย: โปรแกรมนี้จะคำนวณดัชนีมวลกาย (BMI) จากน้ำหนักและส่วนสูงที่ผู้ใช้ป้อน\n",
    "'''\n",
    "\n",
    "def calculate_bmi(weight, height):\n",
    "    return weight / (height ** 2)\n",
    "\n",
    "weight = float(input(\"Enter your weight in kg: \"))\n",
    "height = float(input(\"Enter your height in meters: \"))\n",
    "\n",
    "bmi = calculate_bmi(weight, height)\n",
    "print(f\"Your BMI is: {bmi:.2f}\")\n",
    "\n",
    "if bmi < 18.5:\n",
    "    print(\"You are underweight.\")\n",
    "elif 18.5 <= bmi < 24.9:\n",
    "    print(\"You have a normal weight.\")\n",
    "elif 25 <= bmi < 29.9:\n",
    "    print(\"You are overweight.\")\n",
    "else:\n",
    "    print(\"You are obese.\")\n"
   ]
  },
  {
   "cell_type": "code",
   "execution_count": null,
   "metadata": {},
   "outputs": [],
   "source": [
    "''' \n",
    "##### 1.7.6 โปรแกรมนับจำนวนวัน (Days Counter) ##### \n",
    "คำอธิบาย: โปรแกรมนี้จะคำนวณจำนวนวันระหว่างสองวันที่ผู้ใช้ป้อน\n",
    "'''\n",
    "\n",
    "from datetime import datetime\n",
    "\n",
    "def days_between_dates(date1, date2):\n",
    "    date_format = \"%Y-%m-%d\"\n",
    "    d1 = datetime.strptime(date1, date_format)\n",
    "    d2 = datetime.strptime(date2, date_format)\n",
    "    return abs((d2 - d1).days)\n",
    "\n",
    "date1 = input(\"Enter the first date (YYYY-MM-DD): \")\n",
    "date2 = input(\"Enter the second date (YYYY-MM-DD): \")\n",
    "\n",
    "print(f\"The number of days between {date1} and {date2} is: {days_between_dates(date1, date2)} days\")\n"
   ]
  },
  {
   "cell_type": "code",
   "execution_count": 49,
   "metadata": {},
   "outputs": [
    {
     "name": "stdout",
     "output_type": "stream",
     "text": [
      "Your password is: Very Strong\n"
     ]
    }
   ],
   "source": [
    "''' \n",
    "##### 1.7.7 โปรแกรมเช็ครหัสผ่าน (Password Strength Checker) ##### \n",
    "คำอธิบาย: โปรแกรมนี้จะรับรหัสผ่านจากผู้ใช้และตรวจสอบความแข็งแกร่งของรหัสผ่านนั้นตามเงื่อนไขที่กำหนด\n",
    "'''\n",
    "\n",
    "\n",
    "def check_password_strength(password):\n",
    "    if password.isdigit() and len(password) <= 8:\n",
    "        return \"Very Weak\"\n",
    "    elif password.isdigit() and 8 < len(password) < 12:\n",
    "        return \"Weak\"\n",
    "    elif any(char.isalpha() for char in password) and any(char.isdigit() for char in password) and len(password) <= 8:\n",
    "        return \"Normal\"\n",
    "    elif any(char.isalpha() for char in password) and any(char.isdigit() for char in password) and 8 <= len(password) < 12:\n",
    "        return \"Medium\"\n",
    "    elif (password.isalpha() or password.isdigit()) and len(password) >= 12:\n",
    "        return \"Strong\"\n",
    "    elif any(char.isalpha() for char in password) and any(char.isdigit() for char in password) and len(password) >= 12:\n",
    "        return \"Very Strong\"\n",
    "    else:\n",
    "        return \"ไม่สามารถตั้งรหัสนี้ได้\"\n",
    "\n",
    "password = input(\"Enter your password: \")\n",
    "print(f\"Your password is: {check_password_strength(password)}\")\n",
    "\n"
   ]
  },
  {
   "cell_type": "code",
   "execution_count": 52,
   "metadata": {},
   "outputs": [
    {
     "name": "stdout",
     "output_type": "stream",
     "text": [
      "112 in words is: One Hundred Twelve\n"
     ]
    }
   ],
   "source": [
    "''' \n",
    "##### 1.7.8 โปรแกรมแปลงตัวเลขเป็นคำ (Number to Words Converter) ##### \n",
    "คำอธิบาย: โปรแกรมนี้จะรับตัวเลขจากผู้ใช้และแปลงเป็นคำภาษาอังกฤษ เช่น 123 เป็น \"One Hundred Twenty-Three\"\n",
    "'''\n",
    "\n",
    "def convert_to_words(num):\n",
    "    under_20 = ['Zero', 'One', 'Two', 'Three', 'Four', 'Five', 'Six', 'Seven', 'Eight', 'Nine', 'Ten',\n",
    "                'Eleven', 'Twelve', 'Thirteen', 'Fourteen', 'Fifteen', 'Sixteen', 'Seventeen', 'Eighteen', 'Nineteen']\n",
    "    tens = ['Twenty', 'Thirty', 'Forty', 'Fifty', 'Sixty', 'Seventy', 'Eighty', 'Ninety']\n",
    "    above_100 = {100: 'Hundred', 1000: 'Thousand'}\n",
    "\n",
    "    if num < 20:\n",
    "        return under_20[num]\n",
    "    if num < 100:\n",
    "        return tens[(num // 10) - 2] + ('' if num % 10 == 0 else ' ' + under_20[num % 10])\n",
    "    # To handle numbers above 100\n",
    "    max_key = max([key for key in above_100.keys() if key <= num])\n",
    "    return convert_to_words(num // max_key) + ' ' + above_100[max_key] + ('' if num % max_key == 0 else ' ' + convert_to_words(num % max_key))\n",
    "\n",
    "number = int(input(\"Enter a number: \"))\n",
    "print(f\"{number} in words is: {convert_to_words(number)}\")\n"
   ]
  }
 ],
 "metadata": {
  "kernelspec": {
   "display_name": "simon",
   "language": "python",
   "name": "python3"
  },
  "language_info": {
   "codemirror_mode": {
    "name": "ipython",
    "version": 3
   },
   "file_extension": ".py",
   "mimetype": "text/x-python",
   "name": "python",
   "nbconvert_exporter": "python",
   "pygments_lexer": "ipython3",
   "version": "3.9.5"
  }
 },
 "nbformat": 4,
 "nbformat_minor": 2
}
