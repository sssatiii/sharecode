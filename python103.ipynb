{
 "cells": [
  {
   "cell_type": "markdown",
   "metadata": {},
   "source": [
    "# Introduction GeoPandas for Python 103\n"
   ]
  },
  {
   "cell_type": "markdown",
   "metadata": {},
   "source": [
    "GeoPandas เป็นไลบรารีใน Python ที่ออกแบบมาเพื่อทำงานกับข้อมูลเชิงพื้นที่ (geospatial data) ได้อย่างสะดวกและมีประสิทธิภาพ โดยมีความสามารถในการจัดการข้อมูลทางภูมิศาสตร์ในรูปแบบของ GeoDataFrame ซึ่งเป็นโครงสร้างข้อมูลที่คล้ายกับ DataFrame ของ Pandas แต่เพิ่มความสามารถในการจัดการข้อมูลเชิงพื้นที่เข้าไป เช่น ข้อมูลพิกัด จุด, เส้น, และพื้นที่ เป็นต้น"
   ]
  },
  {
   "cell_type": "markdown",
   "metadata": {},
   "source": [
    "pip install geopandas"
   ]
  },
  {
   "cell_type": "code",
   "execution_count": 8,
   "metadata": {},
   "outputs": [],
   "source": [
    "import numpy as np\n",
    "import pandas as pd\n",
    "import geopandas as gpd"
   ]
  },
  {
   "cell_type": "markdown",
   "metadata": {},
   "source": [
    "__________________________________________________________________________________________________________________________________________________________________________________"
   ]
  },
  {
   "cell_type": "markdown",
   "metadata": {},
   "source": [
    "#### 1. Go To Geomentry"
   ]
  },
  {
   "cell_type": "markdown",
   "metadata": {},
   "source": [
    "การเก็บข้อมูลแบบ geometry ในฐานข้อมูลหรือไฟล์ข้อมูลเชิงพื้นที่ (GIS) เกี่ยวข้องกับการจัดเก็บข้อมูลที่เกี่ยวกับรูปทรงทางภูมิศาสตร์ เช่น จุด เส้น และหลายเหลี่ยม รูปแบบการเก็บข้อมูลสามารถแตกต่างกันตามเทคโนโลยีและความต้องการของผู้ใช้  หัวใจสำคัญของการวิเคราะห์เชิงพื้นที่ คือการแปลงข้อมูลจากแหล่งข้อมูลต่าง ๆ ให้อยู่ในรูปแบบของ geometry สำหรับการใช้งาน Geopandas จากบทเรียนครั้งก่อน มีการอธิบายโครงสร้าง GIS file ซึ่งมีจะสามารถแปลงข้อมูล ได้ด้วยวิธีนี้ \n",
    "- Well-Known Text (WKT) \n",
    "- Well-Known Binary (WKB)  \n",
    "- GeoJSON\n",
    "- KML (Keyhole Markup Language) \n",
    "- ESRI "
   ]
  },
  {
   "cell_type": "markdown",
   "metadata": {},
   "source": [
    "##### 1.1 การแปลง Well-Known Text (WKT) "
   ]
  },
  {
   "cell_type": "markdown",
   "metadata": {},
   "source": [
    "- ใช้ฟังก์ชัน wkt.loads จากไลบรารี shapely เพื่อแปลงข้อมูล WKT เป็นรูปแบบ geometry\n",
    "- คอลัมน์ใหม่ geometry จะเก็บข้อมูลในรูปแบบ geometry ที่แปลงจาก WKT\n",
    "- ใช้ geopandas.GeoDataFrame เพื่อสร้าง GeoDataFrame จาก DataFrame เดิม"
   ]
  },
  {
   "cell_type": "code",
   "execution_count": 150,
   "metadata": {},
   "outputs": [],
   "source": [
    "# Example Dataframe WKT\n",
    "df11 = pd.DataFrame({\n",
    "    'ID': [1, 2, 3],\n",
    "    'WKT': [\n",
    "        'POINT (30 10)',\n",
    "        'LINESTRING (30 10, 10 30, 40 40)',\n",
    "        'POLYGON ((30 10, 40 40, 20 40, 10 20, 30 10))'\n",
    "    ]\n",
    "})"
   ]
  },
  {
   "cell_type": "code",
   "execution_count": 151,
   "metadata": {},
   "outputs": [
    {
     "data": {
      "text/html": [
       "<div>\n",
       "<style scoped>\n",
       "    .dataframe tbody tr th:only-of-type {\n",
       "        vertical-align: middle;\n",
       "    }\n",
       "\n",
       "    .dataframe tbody tr th {\n",
       "        vertical-align: top;\n",
       "    }\n",
       "\n",
       "    .dataframe thead th {\n",
       "        text-align: right;\n",
       "    }\n",
       "</style>\n",
       "<table border=\"1\" class=\"dataframe\">\n",
       "  <thead>\n",
       "    <tr style=\"text-align: right;\">\n",
       "      <th></th>\n",
       "      <th>ID</th>\n",
       "      <th>WKT</th>\n",
       "      <th>geometry</th>\n",
       "    </tr>\n",
       "  </thead>\n",
       "  <tbody>\n",
       "    <tr>\n",
       "      <th>0</th>\n",
       "      <td>1</td>\n",
       "      <td>POINT (30 10)</td>\n",
       "      <td>POINT (30.00000 10.00000)</td>\n",
       "    </tr>\n",
       "    <tr>\n",
       "      <th>1</th>\n",
       "      <td>2</td>\n",
       "      <td>LINESTRING (30 10, 10 30, 40 40)</td>\n",
       "      <td>LINESTRING (30.00000 10.00000, 10.00000 30.000...</td>\n",
       "    </tr>\n",
       "    <tr>\n",
       "      <th>2</th>\n",
       "      <td>3</td>\n",
       "      <td>POLYGON ((30 10, 40 40, 20 40, 10 20, 30 10))</td>\n",
       "      <td>POLYGON ((30.00000 10.00000, 40.00000 40.00000...</td>\n",
       "    </tr>\n",
       "  </tbody>\n",
       "</table>\n",
       "</div>"
      ],
      "text/plain": [
       "   ID                                            WKT  \\\n",
       "0   1                                  POINT (30 10)   \n",
       "1   2               LINESTRING (30 10, 10 30, 40 40)   \n",
       "2   3  POLYGON ((30 10, 40 40, 20 40, 10 20, 30 10))   \n",
       "\n",
       "                                            geometry  \n",
       "0                          POINT (30.00000 10.00000)  \n",
       "1  LINESTRING (30.00000 10.00000, 10.00000 30.000...  \n",
       "2  POLYGON ((30.00000 10.00000, 40.00000 40.00000...  "
      ]
     },
     "execution_count": 151,
     "metadata": {},
     "output_type": "execute_result"
    }
   ],
   "source": [
    "from shapely import wkt\n",
    "\n",
    "# แปลงคอลัมน์ WKT เป็น Geometry โดยใช้ Shapely\n",
    "\n",
    "df11['geometry'] = df11['WKT'].apply(wkt.loads)\n",
    "\n",
    "# Create a GeoDataFrame\n",
    "gdf11 = gpd.GeoDataFrame(df11, geometry='geometry')\n",
    "\n",
    "# Set the CRS (Coordinate Reference System)\n",
    "gdf11.set_crs(epsg=4326, inplace=True)  # Assuming the data is in WGS84"
   ]
  },
  {
   "cell_type": "markdown",
   "metadata": {},
   "source": [
    "##### 1.2 Well-Known Binary (WKB)  "
   ]
  },
  {
   "cell_type": "markdown",
   "metadata": {},
   "source": [
    "- กรณีข้อมูลเป็น string หรือ text ให้ใช้ libery binascii คำสั่ง binascii.unhexlify เพื่อแปลงให้เป็น ตัวเลขฐานสิบหก\n",
    "- ใช้ฟังก์ชัน wkb.loads จากไลบรารี shapely เพื่อแปลงข้อมูล WKB เป็นรูปแบบ geometry\n",
    "- สามารถใช้ฟังก์ชัน def wkb_to_geometry(wkb_hex): ในการแปลง text เป็น binary เป็น geometry \n",
    "- ใช้ geopandas.GeoDataFrame เพื่อสร้าง GeoDataFrame จาก DataFrame เดิม\n"
   ]
  },
  {
   "cell_type": "code",
   "execution_count": 57,
   "metadata": {},
   "outputs": [],
   "source": [
    "# Example Dataframe WKB\n",
    "df12 = pd.DataFrame({\n",
    "    'ID': [1, 2, 3],\n",
    "    'WKB': [\n",
    "        '0101000020E61000002C452958BA285940E7A19D7002612C40', \n",
    "        '0101000020E61000004442844DB7285940C1EB575E16612C40', \n",
    "        '0101000020E61000008BC40F8FB428594048B60F8425612C40'  \n",
    "    ]\n",
    "})\n"
   ]
  },
  {
   "cell_type": "code",
   "execution_count": 58,
   "metadata": {},
   "outputs": [
    {
     "data": {
      "text/html": [
       "<div>\n",
       "<style scoped>\n",
       "    .dataframe tbody tr th:only-of-type {\n",
       "        vertical-align: middle;\n",
       "    }\n",
       "\n",
       "    .dataframe tbody tr th {\n",
       "        vertical-align: top;\n",
       "    }\n",
       "\n",
       "    .dataframe thead th {\n",
       "        text-align: right;\n",
       "    }\n",
       "</style>\n",
       "<table border=\"1\" class=\"dataframe\">\n",
       "  <thead>\n",
       "    <tr style=\"text-align: right;\">\n",
       "      <th></th>\n",
       "      <th>ID</th>\n",
       "      <th>WKB</th>\n",
       "      <th>geometry</th>\n",
       "    </tr>\n",
       "  </thead>\n",
       "  <tbody>\n",
       "    <tr>\n",
       "      <th>0</th>\n",
       "      <td>1</td>\n",
       "      <td>0101000020E61000002C452958BA285940E7A19D700261...</td>\n",
       "      <td>POINT (100.63637 14.18947)</td>\n",
       "    </tr>\n",
       "    <tr>\n",
       "      <th>1</th>\n",
       "      <td>2</td>\n",
       "      <td>0101000020E61000004442844DB7285940C1EB575E1661...</td>\n",
       "      <td>POINT (100.63619 14.18962)</td>\n",
       "    </tr>\n",
       "    <tr>\n",
       "      <th>2</th>\n",
       "      <td>3</td>\n",
       "      <td>0101000020E61000008BC40F8FB428594048B60F842561...</td>\n",
       "      <td>POINT (100.63602 14.18974)</td>\n",
       "    </tr>\n",
       "  </tbody>\n",
       "</table>\n",
       "</div>"
      ],
      "text/plain": [
       "   ID                                                WKB  \\\n",
       "0   1  0101000020E61000002C452958BA285940E7A19D700261...   \n",
       "1   2  0101000020E61000004442844DB7285940C1EB575E1661...   \n",
       "2   3  0101000020E61000008BC40F8FB428594048B60F842561...   \n",
       "\n",
       "                     geometry  \n",
       "0  POINT (100.63637 14.18947)  \n",
       "1  POINT (100.63619 14.18962)  \n",
       "2  POINT (100.63602 14.18974)  "
      ]
     },
     "execution_count": 58,
     "metadata": {},
     "output_type": "execute_result"
    }
   ],
   "source": [
    "import binascii\n",
    "from shapely import wkb\n",
    "\n",
    "# Function to convert WKB to shapely geometry แปลงคอลัมน์ WKB เป็น จาก text เป็น binary ฐานสิบหก โดยใช้ libery binascii\n",
    "def wkb_to_geometry(wkb_hex):\n",
    "    # แปลงจาก hex เป็น binary\n",
    "    wkb_bin = binascii.unhexlify(wkb_hex)\n",
    "    return wkb.loads(wkb_bin)\n",
    "\n",
    "# แปลงคอลัมน์ 'WKB' จาก WKB เป็น Geometry\n",
    "df12['geometry'] = df12['WKB'].apply(wkb_to_geometry)\n",
    "\n",
    "# Create a GeoDataFrame\n",
    "gdf12 = gpd.GeoDataFrame(df12, geometry='geometry')\n",
    "\n",
    "# Set the CRS (Coordinate Reference System)\n",
    "gdf12.set_crs(epsg=4326, inplace=True)  # Assuming the data is in WGS84"
   ]
  },
  {
   "cell_type": "markdown",
   "metadata": {},
   "source": [
    "##### 1.3 GeoJSON"
   ]
  },
  {
   "cell_type": "markdown",
   "metadata": {},
   "source": [
    "- กรณีข้อมูลที่ส่งมาเป็นรูปแบบ GeoJSON โครงสร้างเหล่านี้จะมี องค์ประกอบ \"features\" ที่กำหนด Coodinate ไว้\n",
    "- หากโครงสร้างถูกต้องสามาใช้ GeoDataFrame.from_features() ในการแปลงเป็น geoDataframe ได้เลย\n",
    "- หากโครงสร้างไม่ถูกต้อง เช่น เป็น JSON ที่เก็บ (WKT,WKB) หรือ Lat Lon ต้องแปลงเหล่านั้นก่อน โดย Extract ด้วย pd.Series หรือ pd.json_normalize"
   ]
  },
  {
   "cell_type": "code",
   "execution_count": 153,
   "metadata": {},
   "outputs": [
    {
     "data": {
      "text/html": [
       "<div>\n",
       "<style scoped>\n",
       "    .dataframe tbody tr th:only-of-type {\n",
       "        vertical-align: middle;\n",
       "    }\n",
       "\n",
       "    .dataframe tbody tr th {\n",
       "        vertical-align: top;\n",
       "    }\n",
       "\n",
       "    .dataframe thead th {\n",
       "        text-align: right;\n",
       "    }\n",
       "</style>\n",
       "<table border=\"1\" class=\"dataframe\">\n",
       "  <thead>\n",
       "    <tr style=\"text-align: right;\">\n",
       "      <th></th>\n",
       "      <th>geometry</th>\n",
       "      <th>id</th>\n",
       "      <th>name</th>\n",
       "      <th>description</th>\n",
       "    </tr>\n",
       "  </thead>\n",
       "  <tbody>\n",
       "    <tr>\n",
       "      <th>0</th>\n",
       "      <td>POINT (-74.00600 40.71280)</td>\n",
       "      <td>1</td>\n",
       "      <td>New York City</td>\n",
       "      <td>The largest city in the United States.</td>\n",
       "    </tr>\n",
       "    <tr>\n",
       "      <th>1</th>\n",
       "      <td>LINESTRING (-74.00600 40.71280, -73.93520 40.7...</td>\n",
       "      <td>2</td>\n",
       "      <td>Path from NYC to nearby location</td>\n",
       "      <td>A line connecting two points.</td>\n",
       "    </tr>\n",
       "    <tr>\n",
       "      <th>2</th>\n",
       "      <td>POLYGON ((-74.00600 40.71280, -73.93520 40.730...</td>\n",
       "      <td>3</td>\n",
       "      <td>Sample Area</td>\n",
       "      <td>A polygon defining an area.</td>\n",
       "    </tr>\n",
       "    <tr>\n",
       "      <th>3</th>\n",
       "      <td>MULTIPOINT (-74.00600 40.71280, -73.93520 40.7...</td>\n",
       "      <td>4</td>\n",
       "      <td>Multiple Points</td>\n",
       "      <td>A collection of points.</td>\n",
       "    </tr>\n",
       "    <tr>\n",
       "      <th>4</th>\n",
       "      <td>MULTILINESTRING ((-74.00600 40.71280, -73.9352...</td>\n",
       "      <td>5</td>\n",
       "      <td>Multiple Lines</td>\n",
       "      <td>A collection of lines.</td>\n",
       "    </tr>\n",
       "    <tr>\n",
       "      <th>5</th>\n",
       "      <td>MULTIPOLYGON (((-74.00600 40.71280, -73.93520 ...</td>\n",
       "      <td>6</td>\n",
       "      <td>Multiple Polygons</td>\n",
       "      <td>A collection of polygons.</td>\n",
       "    </tr>\n",
       "  </tbody>\n",
       "</table>\n",
       "</div>"
      ],
      "text/plain": [
       "                                            geometry  id  \\\n",
       "0                         POINT (-74.00600 40.71280)   1   \n",
       "1  LINESTRING (-74.00600 40.71280, -73.93520 40.7...   2   \n",
       "2  POLYGON ((-74.00600 40.71280, -73.93520 40.730...   3   \n",
       "3  MULTIPOINT (-74.00600 40.71280, -73.93520 40.7...   4   \n",
       "4  MULTILINESTRING ((-74.00600 40.71280, -73.9352...   5   \n",
       "5  MULTIPOLYGON (((-74.00600 40.71280, -73.93520 ...   6   \n",
       "\n",
       "                               name                             description  \n",
       "0                     New York City  The largest city in the United States.  \n",
       "1  Path from NYC to nearby location           A line connecting two points.  \n",
       "2                       Sample Area             A polygon defining an area.  \n",
       "3                   Multiple Points                 A collection of points.  \n",
       "4                    Multiple Lines                  A collection of lines.  \n",
       "5                 Multiple Polygons               A collection of polygons.  "
      ]
     },
     "execution_count": 153,
     "metadata": {},
     "output_type": "execute_result"
    }
   ],
   "source": [
    "# กรณีไฟล์มาในรูปแบบ GeoJSON และมี features ที่โครงสร้างถูกต้อง\n",
    "\n",
    "import requests\n",
    "\n",
    "# Example  GeoJSON\n",
    "\n",
    "geojson_url = 'https://gist.githubusercontent.com/sssatiii/561d2a47ba90712279ea86d3b4706a16/raw/7aa044d3ce96b94270f366c12c72bbc32eb307bb/sample1.geojson'\n",
    "response = requests.get(geojson_url)\n",
    "if response.status_code == 200:\n",
    "    # Parse the JSON content\n",
    "    data13_1 = response.json()\n",
    "else:\n",
    "    print(\"Failed to fetch the JSON data.\")\n",
    "\n",
    "# Create a GeoDataFrame\n",
    "gdf13_1 = gpd.GeoDataFrame.from_features(data13_1['features'])\n",
    "\n",
    "# Set the CRS (Coordinate Reference System)\n",
    "gdf13_1.set_crs(epsg=4326, inplace=True)  # Assuming the data is in WGS84\n"
   ]
  },
  {
   "cell_type": "code",
   "execution_count": 222,
   "metadata": {},
   "outputs": [
    {
     "data": {
      "text/html": [
       "<div>\n",
       "<style scoped>\n",
       "    .dataframe tbody tr th:only-of-type {\n",
       "        vertical-align: middle;\n",
       "    }\n",
       "\n",
       "    .dataframe tbody tr th {\n",
       "        vertical-align: top;\n",
       "    }\n",
       "\n",
       "    .dataframe thead th {\n",
       "        text-align: right;\n",
       "    }\n",
       "</style>\n",
       "<table border=\"1\" class=\"dataframe\">\n",
       "  <thead>\n",
       "    <tr style=\"text-align: right;\">\n",
       "      <th></th>\n",
       "      <th>id</th>\n",
       "      <th>lat</th>\n",
       "      <th>lon</th>\n",
       "      <th>geometry.type</th>\n",
       "      <th>geometry.coordinates</th>\n",
       "      <th>properties.wkb</th>\n",
       "      <th>properties.feature</th>\n",
       "      <th>geometry</th>\n",
       "    </tr>\n",
       "  </thead>\n",
       "  <tbody>\n",
       "    <tr>\n",
       "      <th>0</th>\n",
       "      <td>1</td>\n",
       "      <td>40.7128</td>\n",
       "      <td>-74.0060</td>\n",
       "      <td>Point</td>\n",
       "      <td>[-74.006, 40.7128]</td>\n",
       "      <td>01010000005839B4C876BEF33F83C0CAA146B40</td>\n",
       "      <td>Building</td>\n",
       "      <td>POINT (-74.00600 40.71280)</td>\n",
       "    </tr>\n",
       "    <tr>\n",
       "      <th>1</th>\n",
       "      <td>2</td>\n",
       "      <td>34.0522</td>\n",
       "      <td>-118.2437</td>\n",
       "      <td>Point</td>\n",
       "      <td>[-118.2437, 34.0522]</td>\n",
       "      <td>0101000000CDCCCCCCCC8C3F403F33333333</td>\n",
       "      <td>Park</td>\n",
       "      <td>POINT (-118.24370 34.05220)</td>\n",
       "    </tr>\n",
       "    <tr>\n",
       "      <th>2</th>\n",
       "      <td>3</td>\n",
       "      <td>37.7749</td>\n",
       "      <td>-122.4194</td>\n",
       "      <td>Point</td>\n",
       "      <td>[-122.4194, 37.7749]</td>\n",
       "      <td>0101000000F03F8F5C3F3F403F807F8000000000</td>\n",
       "      <td>Monument</td>\n",
       "      <td>POINT (-122.41940 37.77490)</td>\n",
       "    </tr>\n",
       "  </tbody>\n",
       "</table>\n",
       "</div>"
      ],
      "text/plain": [
       "   id      lat       lon geometry.type  geometry.coordinates  \\\n",
       "0   1  40.7128  -74.0060         Point    [-74.006, 40.7128]   \n",
       "1   2  34.0522 -118.2437         Point  [-118.2437, 34.0522]   \n",
       "2   3  37.7749 -122.4194         Point  [-122.4194, 37.7749]   \n",
       "\n",
       "                             properties.wkb properties.feature  \\\n",
       "0   01010000005839B4C876BEF33F83C0CAA146B40           Building   \n",
       "1      0101000000CDCCCCCCCC8C3F403F33333333               Park   \n",
       "2  0101000000F03F8F5C3F3F403F807F8000000000           Monument   \n",
       "\n",
       "                      geometry  \n",
       "0   POINT (-74.00600 40.71280)  \n",
       "1  POINT (-118.24370 34.05220)  \n",
       "2  POINT (-122.41940 37.77490)  "
      ]
     },
     "execution_count": 222,
     "metadata": {},
     "output_type": "execute_result"
    }
   ],
   "source": [
    "# กรณีไฟล์มาในรูปแบบ JSON และต้องแปลงเอง\n",
    "\n",
    "import requests\n",
    "\n",
    "# Example  JSON\n",
    "\n",
    "json_url = 'https://gist.githubusercontent.com/sssatiii/561d2a47ba90712279ea86d3b4706a16/raw/7aa044d3ce96b94270f366c12c72bbc32eb307bb/sample2.json'\n",
    "response = requests.get(json_url)\n",
    "if response.status_code == 200:\n",
    "    # Parse the JSON content\n",
    "    data13_2 = response.json()\n",
    "else:\n",
    "    print(\"Failed to fetch the JSON data.\")\n",
    "\n",
    "df13_2 = pd.DataFrame(data13_2)\n",
    "\n",
    "# ทำการ Extract แยก คอลัมน์\n",
    "df13_2 = pd.json_normalize(df13_2['features'])\n",
    "df13_2['geometry'] = df13_2.apply(lambda row: Point(row['lon'], row['lat']), axis=1)\n",
    "\n",
    "# Create a GeoDataFrame\n",
    "gdf13_2 = gpd.GeoDataFrame(df13_2, geometry='geometry')\n",
    "\n",
    "# Set the CRS (Coordinate Reference System)\n",
    "gdf13_2.set_crs(epsg=4326, inplace=True)  # Assuming the data is in WGS84\n",
    "\n"
   ]
  },
  {
   "cell_type": "markdown",
   "metadata": {},
   "source": [
    "##### 1.4 KML (Keyhole Markup Language) "
   ]
  },
  {
   "cell_type": "markdown",
   "metadata": {},
   "source": [
    "- สำหรับรูปแบบไฟล์ KML มีรูปแบบการบันทึกที่หลากหลาย โดยทั่วไปจะประกอบไปด้วย Tag Placemark ในการจัดเก็บ Coordinate \n",
    "- โครงสร้าง tag พื้นฐาน ที่จะมีทุกไฟล์ประกอบด้วย name geometry types และ coordinates ซึ่งเหล่านี้เป็นตัวแปรสำคัญในการ แปลงเป็น geoDataframe\n",
    "- กรณีโครงสร้าง tag ใน KML นั้นมีการผูก href link จะไม่สามารถทำการดึงได้\n",
    "- เกร็ดน่ารู้ : ไฟล์ KML vs KMZ ต่างกันตรงที่ไฟล์ KMZ เป็นการบีบอัดไฟล์ KML ในหลายๆ Element คล้ายกับการทำ .zip , .rar เป็นต้น\n",
    "- การใช้ Libery xml.etree.ElementTree คำสั่ง ET.fromstring() ให้อยู่ในรูปแบบ XML สำหรับไปประมวลผลต่อ\n",
    "- namespace เป็นการระบุ ข้อมูลจากโครงสร้าง XML เพื่อแยกส่วนประกอบ\n",
    "- Placemark เป็น tag ที่เก็บรายละเอียดข้อมูล เพื่อแปลงเป็น geoDataframe\n",
    "- การทำ for loop และ append เข้า list ว่าง ประกอบด้วย  names = [] geometry_types = [] coordinates = []\n",
    "- เงื่อนไข ใน for loop คลอบคลุม กรณี geometry types ใน KML ต่างกัน และ coordinates ต่างกัน โดยจะสามารถ Extract ออกมาเป็น Geometry ได้"
   ]
  },
  {
   "cell_type": "code",
   "execution_count": 360,
   "metadata": {},
   "outputs": [
    {
     "data": {
      "text/html": [
       "<div>\n",
       "<style scoped>\n",
       "    .dataframe tbody tr th:only-of-type {\n",
       "        vertical-align: middle;\n",
       "    }\n",
       "\n",
       "    .dataframe tbody tr th {\n",
       "        vertical-align: top;\n",
       "    }\n",
       "\n",
       "    .dataframe thead th {\n",
       "        text-align: right;\n",
       "    }\n",
       "</style>\n",
       "<table border=\"1\" class=\"dataframe\">\n",
       "  <thead>\n",
       "    <tr style=\"text-align: right;\">\n",
       "      <th></th>\n",
       "      <th>Name</th>\n",
       "      <th>geometry</th>\n",
       "    </tr>\n",
       "  </thead>\n",
       "  <tbody>\n",
       "    <tr>\n",
       "      <th>0</th>\n",
       "      <td>Example Point</td>\n",
       "      <td>POINT (-122.08220 37.42229)</td>\n",
       "    </tr>\n",
       "    <tr>\n",
       "      <th>1</th>\n",
       "      <td>Example Line</td>\n",
       "      <td>LINESTRING (-122.08220 37.42229, -122.08565 37...</td>\n",
       "    </tr>\n",
       "    <tr>\n",
       "      <th>2</th>\n",
       "      <td>Example Polygon</td>\n",
       "      <td>POLYGON ((-122.08407 37.42200, -122.08565 37.4...</td>\n",
       "    </tr>\n",
       "  </tbody>\n",
       "</table>\n",
       "</div>"
      ],
      "text/plain": [
       "              Name                                           geometry\n",
       "0    Example Point                        POINT (-122.08220 37.42229)\n",
       "1     Example Line  LINESTRING (-122.08220 37.42229, -122.08565 37...\n",
       "2  Example Polygon  POLYGON ((-122.08407 37.42200, -122.08565 37.4..."
      ]
     },
     "execution_count": 360,
     "metadata": {},
     "output_type": "execute_result"
    }
   ],
   "source": [
    "import requests\n",
    "import pandas as pd\n",
    "import xml.etree.ElementTree as ET\n",
    "from shapely.geometry import Point, LineString, Polygon\n",
    "\n",
    "\n",
    "# URL ของไฟล์ KML\n",
    "kml_url = 'https://gist.githubusercontent.com/sssatiii/561d2a47ba90712279ea86d3b4706a16/raw/b7230203bbcf8077a453a6e068e62f891ee0ee51/sample3.kml'\n",
    "#kml_url = 'https://gist.githubusercontent.com/sssatiii/561d2a47ba90712279ea86d3b4706a16/raw/b7230203bbcf8077a453a6e068e62f891ee0ee51/sample4.kml'\n",
    "\n",
    "response = requests.get(kml_url)\n",
    "\n",
    "if response.status_code == 200:\n",
    "    # Parse the KML content\n",
    "    data14_1 = response.text # print(data14_1) เพื่ออ่านไฟล์\n",
    "    root = ET.fromstring(data14_1) # ET.fromstring เพื่อดู namespace\n",
    "    namespaces = {'kml': 'http://www.opengis.net/kml/2.2'} # Namespaces used in the KML file\n",
    "    placemarks  = root.findall('.//kml:Placemark', namespaces) # ใช้คำสั่ง root.findal เพื่อดึง Placemark จาก kml\n",
    "    \n",
    "    # สร้าง list ว่างมารองรับข้อมูล ที่จะทำการ for loop\n",
    "    names = []\n",
    "    geometry = []\n",
    "\n",
    "    # ทำการ for loop เพื่อ Extract ข้อมูลใน placemarks ของ โครงสร้าง kml\n",
    "    for placemark in placemarks:\n",
    "        name = placemark.find('kml:name',namespaces).text  if placemark.find('kml:name', namespaces) is not None else ''\n",
    "        \n",
    "        # ต่อไปนี้คือการ Extract Coodinate ใน placemaks\n",
    "        if placemark.find('.//kml:Point', namespaces) is not None:\n",
    "            geometry_type = 'Point'\n",
    "            coord_elem = placemark.find('.//kml:coordinates', namespaces)\n",
    "            coords = coord_elem.text.strip().split(',') if coord_elem is not None else ['', '']\n",
    "            # Extract the (x, y) to Point coordinates of (x, y) \n",
    "            # Check how many coordinates are provided\n",
    "            if len(coords) == 2:\n",
    "                x, y = float(coords[0]), float(coords[1])\n",
    "                geom = Point(x, y)\n",
    "            elif len(coords) == 3:\n",
    "                x, y, z = float(coords[0]), float(coords[1]), float(coords[2])\n",
    "                geom = Point(x, y) if z == 0 else Point(x, y, z)\n",
    "            else:\n",
    "                geom = None\n",
    "            \n",
    "            \n",
    "        \n",
    "        elif placemark.find('.//kml:LineString', namespaces) is not None:\n",
    "            geometry_type = 'LineString'\n",
    "            coord_elem = placemark.find('.//kml:coordinates', namespaces)\n",
    "            coords = coord_elem.text.strip().split() if coord_elem is not None else []\n",
    "            # Extract the (x, y) to Line coordinates tuples of (x, y),(x,y) \n",
    "            line_coords = []\n",
    "            for coord in coords:\n",
    "                coord_split = coord.split(',')\n",
    "                if len(coord_split) == 2:\n",
    "                    x, y = float(coord_split[0]), float(coord_split[1])\n",
    "                    line_coords.append((x, y))\n",
    "                elif len(coord_split) == 3:\n",
    "                    x, y, z = map(float, coord_split)\n",
    "                    line_coords.append((x, y) if z == 0 else (x, y, z))\n",
    "            geom = LineString(line_coords)\n",
    "            \n",
    "            \n",
    "        \n",
    "        elif placemark.find('.//kml:Polygon', namespaces) is not None:\n",
    "            geometry_type = 'Polygon'\n",
    "            coord_elem = placemark.find('.//kml:coordinates', namespaces)\n",
    "            coords = coord_elem.text.strip().split() if coord_elem is not None else []\n",
    "            # Extract the (x, y) to Polygon coordinates tuples of (x, y),(x,y),(x,y),(x,y) \n",
    "            polygon_coords = []\n",
    "            for coord in coords:\n",
    "                coord_split = coord.split(',')\n",
    "                if len(coord_split) == 2:\n",
    "                    x, y = float(coord_split[0]), float(coord_split[1])\n",
    "                    polygon_coords.append((x, y))\n",
    "                elif len(coord_split) == 3:\n",
    "                    x, y, z = map(float, coord_split)\n",
    "                    polygon_coords.append((x, y) if z == 0 else (x, y, z))\n",
    "            geom = Polygon(polygon_coords)\n",
    "        \n",
    "        else:\n",
    "            geometry_type = 'Unknown'\n",
    "            geom = [' ']\n",
    "\n",
    "        # นำ name , geomentry_types ,  ไปใส่ใน list ว่าง\n",
    "        names.append(name)\n",
    "        geometry.append(geom)\n",
    "    \n",
    "        \n",
    "    \n",
    "    # เมื่อมี list ที่ถูก append เราสามารถ สร้าง dataframe ได้เลย\n",
    "    df14_1 = pd.DataFrame({\n",
    "        'Name': names,\n",
    "        'geometry': geometry\n",
    "    })\n",
    "\n",
    "else:\n",
    "    print(\"Failed to fetch the KML data.\")\n",
    "\n",
    "# Create a GeoDataFrame\n",
    "gdf14_1 = gpd.GeoDataFrame(df14_1, geometry='geometry')\n",
    "\n",
    "# Set the CRS (Coordinate Reference System)\n",
    "gdf14_1.set_crs(epsg=4326, inplace=True)  # Assuming the data is in WGS84\n",
    "\n"
   ]
  },
  {
   "cell_type": "markdown",
   "metadata": {},
   "source": [
    "##### 1.5 ESRI"
   ]
  },
  {
   "cell_type": "markdown",
   "metadata": {},
   "source": [
    "- arcgis/rest/services เป็นบริการที่ให้ข้อมูลทางภูมิศาสตร์และฟังก์ชันการทำงานผ่าน REST API ของ ArcGIS โครงสร้าง URL คือ https://<server>/arcgis/rest/services/<service_name>/<service_type>/MapServer\n",
    "- ให้บริการ MapService , FeatureService , ImageService , Layer\n",
    "- มี parameter หลัก ๆ 3 ส่วน คือ \n",
    "    - where: ใช้ในการระบุเงื่อนไขในการดึงข้อมูล เช่น where=1=1 เพื่อดึงข้อมูลทั้งหมด\n",
    "    - outFields: ใช้ในการกำหนดฟิลด์ที่ต้องการดึงจากข้อมูล เช่น outFields=* เพื่อดึงทุกฟิลด์\n",
    "    - f: ระบุรูปแบบที่ต้องการสำหรับผลลัพธ์ เช่น f=json เพื่อดึงข้อมูลในรูปแบบ JSON\n",
    "- โครงสร้างข้อมูล หลัก ๆ มี \n",
    "    - Geometry: ข้อมูลที่แสดงรูปร่างทางภูมิศาสตร์ เช่น จุด, เส้น, หรือโพลิกอน\n",
    "    - Attributes: ข้อมูลเชิงลักษณะของฟีเจอร์ เช่น ชื่อ, ประเภท, หรือรหัส\n",
    "- เมื่อทำการ request ข้อมูล สามารถใช้ฟังก์ชัน convert_to_geodataframe ในการแปลง ให้อยู่ในรูปแบบ geoDataframe"
   ]
  },
  {
   "cell_type": "code",
   "execution_count": 145,
   "metadata": {},
   "outputs": [],
   "source": [
    "import requests\n",
    "import geopandas as gpd\n",
    "import matplotlib.pyplot as plt\n",
    "from shapely.geometry import LineString, Polygon\n",
    "\n",
    "#11.4_2 ESRI\n",
    "\n",
    "################# ขั้นตอนที่ 1 Load ข้อมูลมาใส่ Dataframe\n",
    "\n",
    "# URL ของ GIS File อยู่ในรูปแบบ ESRI mapService\n",
    "\n",
    "# service แบบ geometry(x,y) --> point ตำแหน่งปลอดภัยจากแผ่นดินถล่ม :: https://data.dmr.go.th/en_AU/dataset/safe_landslide_area?activity_id=0f5a2afc-a024-4243-b5a9-72570f363ba8\n",
    "#url15 = \"https://gisportal.dmr.go.th/arcgis/rest/services/HAZARD/%E0%B8%95%E0%B8%B3%E0%B9%81%E0%B8%AB%E0%B8%99%E0%B9%88%E0%B8%87%E0%B8%9B%E0%B8%A5%E0%B8%AD%E0%B8%94%E0%B8%A0%E0%B8%B1%E0%B8%A2%E0%B8%88%E0%B8%B2%E0%B8%81%E0%B9%81%E0%B8%9C%E0%B9%88%E0%B8%99%E0%B8%94%E0%B8%B4%E0%B8%99%E0%B8%96%E0%B8%A5%E0%B9%88%E0%B8%A1/MapServer/0/query\"\n",
    "\n",
    "# service แบบ paths --> linestring ชั้นข้อมูลแผนที่เส้นทางด่วน :: https://datagov.mot.go.th/dataset/transportgis\n",
    "#url15 = \"https://giportal.mot.go.th/arcgis/rest/services/Hosted/%E0%B9%80%E0%B8%AA%E0%B9%89%E0%B8%99%E0%B8%97%E0%B8%B2%E0%B8%87%E0%B8%94%E0%B9%88%E0%B8%A7%E0%B8%99_%E0%B8%81%E0%B8%97%E0%B8%9E/FeatureServer/0/query\"\n",
    "\n",
    "# service แบบ ring --> polygon พื้นที่มีโอกาสเกิดแผ่นดินถล่ม :: https://data.dmr.go.th/eu/dataset/landslide_susceptibility\n",
    "url15 = \"https://gisportal.dmr.go.th/arcgis/rest/services/HAZARD/LANDSLIDE_SUSCEPTIBILITY/MapServer/0/query\"\n",
    "\n",
    "\n",
    "# กำหนดพารามิเตอร์สำหรับการ query\n",
    "params = {\n",
    "    'where': '1=1',  # ดึงข้อมูลทั้งหมด\n",
    "    'outFields': '*',  # ดึงทุกฟิลด์\n",
    "    'f': 'json',  # ระบุว่าเราต้องการข้อมูลเป็น JSON\n",
    "    'resultRecordCount': 2000,  # จำนวนแถวที่ต้องการดึงแต่ละครั้ง\n",
    "    'resultOffset': 0,  # ชุดข้อมูลเริ่มต้น\n",
    "}\n",
    "\n",
    "# ฟังก์ชันดึงข้อมูลทั้งหมดจาก ArcGIS REST API\n",
    "def fetch_all_data(url, params):\n",
    "    data = []\n",
    "    offset = 0\n",
    "    while True:\n",
    "        params['resultOffset'] = offset  # ปรับ resultOffset สำหรับแต่ละการดึงข้อมูล\n",
    "        \n",
    "        # ส่ง request ไปยัง API\n",
    "        response = requests.get(url, params=params)\n",
    "        response_json = response.json()\n",
    "        \n",
    "        # ตรวจสอบว่ามีฟีเจอร์ในผลลัพธ์หรือไม่\n",
    "        if 'features' in response_json and response_json['features']:\n",
    "            data.extend(response_json['features'])  # เพิ่มข้อมูลใหม่ที่ดึงมา\n",
    "            offset += params['resultRecordCount']  # เพิ่ม offset เพื่อดึงข้อมูลชุดถัดไป\n",
    "        else:\n",
    "            break  # ถ้าไม่มีฟีเจอร์ในผลลัพธ์ ให้หยุดการดึงข้อมูล\n",
    "    return data\n",
    "\n",
    "# ดึงข้อมูลจากบริการ ArcGIS REST API\n",
    "data15 = fetch_all_data(url15, params.copy())\n",
    "\n",
    "\n",
    "\n",
    "################# ขั้นตอนที่ 2 แปลงเป็น Geodataframe\n",
    "\n",
    "# ฟังก์ชันแปลงเป็น GeoDataFrame\n",
    "def convert_to_geodataframe(geometry_type, features):\n",
    "    geometries = []\n",
    "    attributes = []\n",
    "    \n",
    "    for feature in features:\n",
    "        geom = feature.get('geometry')\n",
    "        attr = feature.get('attributes')\n",
    "        if geom:  # ตรวจสอบว่ามี geometry หรือไม่\n",
    "            if geometry_type == \"esriGeometryPoint\":\n",
    "                coords = geom.get('x'), geom.get('y')\n",
    "                geometries.append(Point(coords))\n",
    "            elif geometry_type == \"esriGeometryPolyline\":\n",
    "                coords = geom.get('paths', [])[0]\n",
    "                geometries.append(LineString(coords))\n",
    "            elif geometry_type == \"esriGeometryPolygon\":\n",
    "                coords = geom.get('rings', [])[0]\n",
    "                geometries.append(Polygon(coords))\n",
    "            attributes.append(attr)  # เก็บ attributes\n",
    "    \n",
    "    if geometries and attributes:\n",
    "        # สร้าง DataFrame จาก attributes และ GeoDataFrame จาก geometries\n",
    "        df_attributes = pd.DataFrame(attributes)\n",
    "        gdf = gpd.GeoDataFrame(df_attributes, geometry=geometries)\n",
    "    else:\n",
    "        print(\"No geometries or attributes found.\")\n",
    "        gdf = None\n",
    "    \n",
    "    return gdf\n",
    "\n",
    "\n",
    "# แปลงข้อมูลเป็น GeoDataFrame และตั้งค่า EPSG setting geometryType , features  >> Create a GeoDataFrame >> Set the CRS (Coordinate Reference System)\n",
    "gdf_15 = convert_to_geodataframe(\"esriGeometryPolygon\", data15).set_crs(epsg=32647, inplace=True)\n"
   ]
  },
  {
   "cell_type": "markdown",
   "metadata": {},
   "source": [
    "__________________________________________________________________________________________________________________________________________________________________________________"
   ]
  },
  {
   "cell_type": "markdown",
   "metadata": {},
   "source": [
    "#### 2. Go To Spatial Analysis"
   ]
  },
  {
   "cell_type": "markdown",
   "metadata": {},
   "source": [
    "การวิเคราะห์เชิงพื้นที่ คือกระบวนการที่ใช้ในการตรวจสอบ วิเคราะห์ และประมวลผลข้อมูลที่เกี่ยวข้องกับตำแหน่งและคุณสมบัติทางภูมิศาสตร์ โดยการวิเคราะห์เชิงพื้นที่ใช้เพื่อค้นหาความสัมพันธ์และรูปแบบทางภูมิศาสตร์ ซึ่งมีความสำคัญอย่างยิ่งในสาขาที่เกี่ยวข้องกับภูมิศาสตร์ วิทยาศาสตร์ข้อมูล และการจัดการทรัพยากร \n",
    "\n",
    "*** ข้อควรระวัง \n",
    "- เมื่่อมี GeoDataFrame ที่มีพิกัดสองระบบในประเทศไทยที่ใช้กัน ได้แก่ \n",
    "    - EPSG:4326 (WGS 84): ใช้หน่วยเป็นองศาในการแสดงตำแหน่ง (เช่น ละติจูดและลองจิจูด)\n",
    "    - EPSG:32647 (UTM Zone 47N): ใช้หน่วยเป็นเมตร ซึ่งเหมาะสำหรับการคำนวณระยะทางหรือพื้นที่ที่ต้องการความแม่นยำในแถบประเทศไทย\n",
    "- ต้องเลือกหรือแปลงพิกัดให้เป็นระบบเดียวกันก่อนที่จะทำการวิเคราะห์เชิงพื้นที่หรือการคำนวณ เช่น การทำ buffer หรือการวัดระยะทาง เพื่อให้ค่าที่คำนวณออกมาถูกต้อง\n",
    "- แปลงพิกัด: ใช้ .to_crs() เพื่อแปลงพิกัดจาก EPSG:4326 เป็น EPSG:32647 ซึ่งใช้หน่วยเป็นเมตร \n",
    "- กรณีไม่แปลงเป็น 32647 แต่ใช้ parameter จากสูตร Haversine (สูตรนี้คำนวณระยะทางแบบวงกลมใหญ่ (Great Circle Distance) ระหว่างสองพิกัด โดยใช้รัศมีของโลก) คือ ระยะ 0.001 องศา จะมีค่าเท่ากับ 111.32 เมตร"
   ]
  },
  {
   "cell_type": "code",
   "execution_count": 1,
   "metadata": {},
   "outputs": [],
   "source": [
    "# Example Data\n",
    "import requests\n",
    "import pandas as pd\n",
    "import geopandas as gpd\n",
    "import matplotlib.pyplot as plt\n",
    "from shapely.geometry import Point,LineString, Polygon\n",
    "import matplotlib.pyplot as plt\n",
    "\n",
    "################# ขั้นตอนที่ 1 Load ข้อมูลมาใส่ Dataframe\n",
    "\n",
    "# service แบบ geometry(x,y) --> point ตำแหน่งปลอดภัยจากแผ่นดินถล่ม :: https://data.dmr.go.th/en_AU/dataset/safe_landslide_area?activity_id=0f5a2afc-a024-4243-b5a9-72570f363ba8\n",
    "url_point = \"https://gisportal.dmr.go.th/arcgis/rest/services/HAZARD/%E0%B8%95%E0%B8%B3%E0%B9%81%E0%B8%AB%E0%B8%99%E0%B9%88%E0%B8%87%E0%B8%9B%E0%B8%A5%E0%B8%AD%E0%B8%94%E0%B8%A0%E0%B8%B1%E0%B8%A2%E0%B8%88%E0%B8%B2%E0%B8%81%E0%B9%81%E0%B8%9C%E0%B9%88%E0%B8%99%E0%B8%94%E0%B8%B4%E0%B8%99%E0%B8%96%E0%B8%A5%E0%B9%88%E0%B8%A1/MapServer/0/query\"\n",
    "\n",
    "# service แบบ paths --> linestring ชั้นข้อมูลแผนที่เส้นทางหลวงชนบท :: https://datagov.mot.go.th/dataset/transportgis\n",
    "url_line = \"https://giportal.mot.go.th/arcgis/rest/services/Hosted/%E0%B9%80%E0%B8%AA%E0%B9%89%E0%B8%99%E0%B8%97%E0%B8%B2%E0%B8%87%E0%B8%AB%E0%B8%A5%E0%B8%A7%E0%B8%87%E0%B8%8A%E0%B8%99%E0%B8%9A%E0%B8%97_%E0%B8%97%E0%B8%8A/FeatureServer/0/query\"\n",
    "\n",
    "# service แบบ ring --> polygon พื้นที่มีโอกาสเกิดแผ่นดินถล่ม :: https://data.dmr.go.th/eu/dataset/landslide_susceptibility\n",
    "url_polygon = \"https://gisportal.dmr.go.th/arcgis/rest/services/HAZARD/LANDSLIDE_SUSCEPTIBILITY/MapServer/0/query\"\n",
    "\n",
    "# กำหนดพารามิเตอร์สำหรับการ query\n",
    "params = {\n",
    "    'where': '1=1',  # ดึงข้อมูลทั้งหมด\n",
    "    'outFields': '*',  # ดึงทุกฟิลด์\n",
    "    'f': 'json',  # ระบุว่าเราต้องการข้อมูลเป็น JSON\n",
    "    'resultRecordCount': 2000,  # จำนวนแถวที่ต้องการดึงแต่ละครั้ง\n",
    "    'resultOffset': 0,  # ชุดข้อมูลเริ่มต้น\n",
    "}\n",
    "\n",
    "# ฟังก์ชันดึงข้อมูลทั้งหมดจาก ArcGIS REST API\n",
    "def fetch_all_data(url, params):\n",
    "    data = []\n",
    "    offset = 0\n",
    "    while True:\n",
    "        params['resultOffset'] = offset  # ปรับ resultOffset สำหรับแต่ละการดึงข้อมูล\n",
    "        \n",
    "        # ส่ง request ไปยัง API\n",
    "        response = requests.get(url, params=params)\n",
    "        response_json = response.json()\n",
    "        \n",
    "        # ตรวจสอบว่ามีฟีเจอร์ในผลลัพธ์หรือไม่\n",
    "        if 'features' in response_json and response_json['features']:\n",
    "            data.extend(response_json['features'])  # เพิ่มข้อมูลใหม่ที่ดึงมา\n",
    "            offset += params['resultRecordCount']  # เพิ่ม offset เพื่อดึงข้อมูลชุดถัดไป\n",
    "        else:\n",
    "            break  # ถ้าไม่มีฟีเจอร์ในผลลัพธ์ ให้หยุดการดึงข้อมูล\n",
    "    return data\n",
    "\n",
    "# ดึงข้อมูลจากบริการ ArcGIS REST API\n",
    "data_point = fetch_all_data(url_point, params.copy())\n",
    "data_line = fetch_all_data(url_line, params.copy())\n",
    "data_polygon = fetch_all_data(url_polygon, params.copy())\n",
    "\n",
    "\n",
    "################# ขั้นตอนที่ 2 แปลงเป็น Geodataframe\n",
    "\n",
    "# ฟังก์ชันแปลงเป็น GeoDataFrame\n",
    "def convert_to_geodataframe(geometry_type, features):\n",
    "    geometries = []\n",
    "    attributes = []\n",
    "    \n",
    "    for feature in features:\n",
    "        geom = feature.get('geometry')\n",
    "        attr = feature.get('attributes')\n",
    "        if geom:  # ตรวจสอบว่ามี geometry หรือไม่\n",
    "            if geometry_type == \"esriGeometryPoint\":\n",
    "                coords = geom.get('x'), geom.get('y')\n",
    "                geometries.append(Point(coords))\n",
    "            elif geometry_type == \"esriGeometryPolyline\":\n",
    "                coords = geom.get('paths', [])[0]\n",
    "                geometries.append(LineString(coords))\n",
    "            elif geometry_type == \"esriGeometryPolygon\":\n",
    "                coords = geom.get('rings', [])[0]\n",
    "                geometries.append(Polygon(coords))\n",
    "            attributes.append(attr)  # เก็บ attributes\n",
    "    \n",
    "    if geometries and attributes:\n",
    "        # สร้าง DataFrame จาก attributes และ GeoDataFrame จาก geometries\n",
    "        df_attributes = pd.DataFrame(attributes)\n",
    "        gdf = gpd.GeoDataFrame(df_attributes, geometry=geometries)\n",
    "    else:\n",
    "        print(\"No geometries or attributes found.\")\n",
    "        gdf = None\n",
    "    \n",
    "    return gdf\n",
    "\n",
    "\n",
    "# แปลงข้อมูลเป็น GeoDataFrame และตั้งค่า EPSG setting geometryType , features  >> Create a GeoDataFrame >> Set the CRS (Coordinate Reference System)\n",
    "gdf_point = convert_to_geodataframe(\"esriGeometryPoint\", data_point).set_crs(epsg=32647, inplace=True)\n",
    "gdf_line = convert_to_geodataframe(\"esriGeometryPolyline\", data_line).set_crs(epsg=4326, inplace=True)\n",
    "gdf_polygon = convert_to_geodataframe(\"esriGeometryPolygon\", data_polygon).set_crs(epsg=32647, inplace=True)\n",
    "\n"
   ]
  },
  {
   "cell_type": "markdown",
   "metadata": {},
   "source": [
    "##### 2.1 การดำเนินการทางเรขาคณิตเชิงพื้นที่ (Spatial Geometric Operations)"
   ]
  },
  {
   "cell_type": "markdown",
   "metadata": {},
   "source": [
    "การดำเนินการทางเรขาคณิตเชิงพื้นที่ (Spatial Geometric Operations) เป็นกระบวนการที่เกี่ยวข้องกับการจัดการและประมวลผลข้อมูลเชิงพื้นที่ ผ่านการแปลงรูปร่างของข้อมูลในลักษณะทางเรขาคณิต ซึ่งกระบวนการเหล่านี้มักใช้ในการวิเคราะห์ทางภูมิศาสตร์เพื่อสกัดข้อมูลที่เกี่ยวข้องหรือทำการปรับเปลี่ยนข้อมูลเชิงพื้นที่ให้อยู่ในรูปแบบที่ต้องการ ประกอบด้วย คำสั่ง ดังนี้\n",
    "\n",
    "- Buffer: การสร้างขอบเขตพื้นที่รอบๆ จุด, เส้น หรือโพลิกอน เช่น การสร้างวงรอบระยะทางจากจุด หรือสร้างขอบเขตรอบถนน\n",
    "- Union: การรวมพื้นที่ เช่น การรวมหลายพื้นที่เข้าด้วยกันให้กลายเป็นพื้นที่เดียว\n",
    "- Centroid : การหาจุดกึ่งกลางทางเรขาคณิตของรูปทรงนั้น\n",
    "- Affine Transformation : การเปลี่ยนแปลงตำแหน่ง รูปทรง หรือขนาด\n",
    "- Split : การตัดรูปร่างหนึ่ง โดยใช้รูปร่างสองเป็นตัวตัด เหมาะสำหรับการหาพื้นที่ที่อยู่ในขอบเขตที่กำหนด (หมายเหตุ ถ้า polygon ตัด polygon ใช้คำสั่ง clip ได้  , ถ้า polygon ตัด line หรือ line ตัด line ใช้คำสั่ง Intersection )"
   ]
  },
  {
   "cell_type": "markdown",
   "metadata": {},
   "source": [
    " ##### 2.1.1 Buffer"
   ]
  },
  {
   "cell_type": "code",
   "execution_count": 4,
   "metadata": {},
   "outputs": [
    {
     "data": {
      "text/plain": [
       "<AxesSubplot:>"
      ]
     },
     "execution_count": 4,
     "metadata": {},
     "output_type": "execute_result"
    },
    {
     "data": {
      "image/png": "[encoded data removed]",
      "text/plain": [
       "<Figure size 432x288 with 1 Axes>"
      ]
     },
     "metadata": {
      "needs_background": "light"
     },
     "output_type": "display_data"
    }
   ],
   "source": [
    "# buffer ข้อมูลจุด\n",
    "\n",
    "# ตัวอย่างข้อมูล จุด\n",
    "gdf_buffer_point = gdf_point.copy()\n",
    "gdf_buffer_point = gdf_buffer_point.head(1)\n",
    "\n",
    "# ตรวจสอบระบบพิกัด ด้วย xxx.crs ก่อนและ เพื่อพิจารณการใช้คำสั่ง xxx.geometry.buffer()\n",
    "\n",
    "gdf_buffer_point['buffer'] = gdf_buffer_point.geometry.buffer(10)\n",
    "\n",
    "gdf_buffer_point\n",
    "\n",
    "\n",
    "# แสดงผล\n",
    "fig, ax = plt.subplots()\n",
    "gdf_buffer_point.geometry.plot(ax=ax, color='red')  # แสดงข้อมูลตั้งต้น\n",
    "gdf_buffer_point['buffer'].plot(ax=ax, color='blue', alpha=0.5)  # แสดง ผลลัพธ์\n"
   ]
  },
  {
   "cell_type": "code",
   "execution_count": 279,
   "metadata": {},
   "outputs": [
    {
     "data": {
      "text/plain": [
       "<AxesSubplot:>"
      ]
     },
     "execution_count": 279,
     "metadata": {},
     "output_type": "execute_result"
    },
    {
     "data": {
      "image/png": "[encoded data removed]",
      "text/plain": [
       "<Figure size 432x288 with 1 Axes>"
      ]
     },
     "metadata": {
      "needs_background": "light"
     },
     "output_type": "display_data"
    }
   ],
   "source": [
    "# buffer ข้อมูลเส้น\n",
    "\n",
    "# ตัวอย่างข้อมูล เส้น\n",
    "gdf_buffer_line = gdf_line.copy().to_crs(epsg=32647)\n",
    "gdf_buffer_line = gdf_buffer_line.head(1)\n",
    "\n",
    "# ตรวจสอบระบบพิกัด ด้วย xxx.crs ก่อนและ เพื่อพิจารณการใช้คำสั่ง xxx.geometry.buffer()\n",
    "\n",
    "# แปลงจาก 4326 เป็น 32647 \n",
    "gdf_buffer_line = gdf_buffer_line.to_crs(epsg=32647)\n",
    "\n",
    "gdf_buffer_line['buffer'] = gdf_buffer_line.geometry.buffer(1000)\n",
    "\n",
    "# แสดงผล\n",
    "fig, ax = plt.subplots()\n",
    "gdf_buffer_line.geometry.plot(ax=ax, color='red')  # แสดงข้อมูลตั้งต้น\n",
    "gdf_buffer_line['buffer'].plot(ax=ax, color='blue', alpha=0.5)  # แสดง ผลลัพธ์\n"
   ]
  },
  {
   "cell_type": "code",
   "execution_count": 266,
   "metadata": {},
   "outputs": [
    {
     "data": {
      "text/plain": [
       "<AxesSubplot:>"
      ]
     },
     "execution_count": 266,
     "metadata": {},
     "output_type": "execute_result"
    },
    {
     "data": {
      "image/png": "[encoded data removed]",
      "text/plain": [
       "<Figure size 432x288 with 1 Axes>"
      ]
     },
     "metadata": {
      "needs_background": "light"
     },
     "output_type": "display_data"
    }
   ],
   "source": [
    "# buffer ข้อมูลพื้นที่\n",
    "\n",
    "# ตัวอย่างข้อมูล พื้นที่\n",
    "gdf_buffer_polygon = gdf_polygon.copy()\n",
    "gdf_buffer_polygon = gdf_buffer_polygon.head(1)\n",
    "\n",
    "# ตรวจสอบระบบพิกัด ด้วย xxx.crs ก่อนและ เพื่อพิจารณการใช้คำสั่ง xxx.geometry.buffer()\n",
    "\n",
    "gdf_buffer_polygon['buffer'] = gdf_buffer_polygon.geometry.buffer(500)\n",
    "\n",
    "# แสดงผล\n",
    "fig, ax = plt.subplots()\n",
    "gdf_buffer_polygon.geometry.plot(ax=ax, color='red')  # แสดงข้อมูลตั้งต้น\n",
    "gdf_buffer_polygon['buffer'].plot(ax=ax, color='blue', alpha=0.5)  # แสดง ผลลัพธ์\n"
   ]
  },
  {
   "cell_type": "markdown",
   "metadata": {},
   "source": [
    "##### 2.1.2 Union"
   ]
  },
  {
   "cell_type": "code",
   "execution_count": 6,
   "metadata": {},
   "outputs": [
    {
     "data": {
      "text/plain": [
       "<AxesSubplot:>"
      ]
     },
     "execution_count": 6,
     "metadata": {},
     "output_type": "execute_result"
    },
    {
     "data": {
      "image/png": "[encoded data removed]",
      "text/plain": [
       "<Figure size 432x288 with 1 Axes>"
      ]
     },
     "metadata": {
      "needs_background": "light"
     },
     "output_type": "display_data"
    }
   ],
   "source": [
    "# ตัวอย่าง ข้อมูล\n",
    "\n",
    "gdf_polygon_c1 = gdf_polygon.copy().to_crs(epsg=32647)\n",
    "gdf_polygon_c1 = gdf_polygon_c1[gdf_polygon_c1['Id'] == 11543]\n",
    "\n",
    "gdf_polygon_c2 = gdf_polygon.copy().to_crs(epsg=32647)\n",
    "gdf_polygon_c2 = gdf_polygon_c2[gdf_polygon_c2['Id'] == 11542]\n",
    "\n",
    "#แสดงผล\n",
    "fig, ax = plt.subplots()\n",
    "gdf_polygon_c1.geometry.plot(ax=ax, color='red')  # แสดงข้อมูลตั้งต้น\n",
    "gdf_polygon_c2.geometry.plot(ax=ax, color='orange')  # แสดง ผลลัพธ์"
   ]
  },
  {
   "cell_type": "code",
   "execution_count": 7,
   "metadata": {},
   "outputs": [
    {
     "data": {
      "text/plain": [
       "<AxesSubplot:>"
      ]
     },
     "execution_count": 7,
     "metadata": {},
     "output_type": "execute_result"
    },
    {
     "data": {
      "image/png": "[encoded data removed]",
      "text/plain": [
       "<Figure size 432x288 with 1 Axes>"
      ]
     },
     "metadata": {
      "needs_background": "light"
     },
     "output_type": "display_data"
    }
   ],
   "source": [
    "# ใช้ unary_union คือการนำ geometry มาทำการ union กันอย่างเดียว \n",
    "\n",
    "union_geometry = gdf_polygon_c1.unary_union.union(gdf_polygon_c2.unary_union)\n",
    "union_gdf1 = gpd.GeoDataFrame(geometry=[union_geometry], crs=gdf_polygon_c1.crs)\n",
    "\n",
    "#แสดงผล\n",
    "fig, ax = plt.subplots()\n",
    "union_gdf1.geometry.plot(ax=ax, color='blue')  # แสดงข้อมูลตั้งต้น"
   ]
  },
  {
   "cell_type": "code",
   "execution_count": 9,
   "metadata": {},
   "outputs": [
    {
     "name": "stderr",
     "output_type": "stream",
     "text": [
      "C:\\Users\\Mizak\\AppData\\Local\\Temp/ipykernel_7700/4000620775.py:4: UserWarning: `keep_geom_type=True` in overlay resulted in 1 dropped geometries of different geometry types than df1 has. Set `keep_geom_type=False` to retain all geometries\n",
      "  union_gdf2 = gpd.overlay(gdf_polygon_c1, gdf_polygon_c2, how='union')\n"
     ]
    },
    {
     "data": {
      "text/plain": [
       "<AxesSubplot:>"
      ]
     },
     "execution_count": 9,
     "metadata": {},
     "output_type": "execute_result"
    },
    {
     "data": {
      "image/png": "[encoded data removed]",
      "text/plain": [
       "<Figure size 432x288 with 1 Axes>"
      ]
     },
     "metadata": {
      "needs_background": "light"
     },
     "output_type": "display_data"
    }
   ],
   "source": [
    "# Union ด้วย overlay กรณีคอลัมน์เหมือนกันฟังก์ชันจะสร้างคอลัมน์ใหม่เพื่อป้องกันชื่อคอลัมน์ที่ซ้ำกัน โดยเพิ่ม _1 และ _2 ต่อท้าย\n",
    "\n",
    "# ใช้ overlay สำหรับ union\n",
    "union_gdf2 = gpd.overlay(gdf_polygon_c1, gdf_polygon_c2, how='union')\n",
    "\n",
    "#แสดงผล\n",
    "fig, ax = plt.subplots()\n",
    "union_gdf2.geometry.plot(ax=ax, color='blue')  # แสดงข้อมูลตั้งต้น\n"
   ]
  },
  {
   "cell_type": "markdown",
   "metadata": {},
   "source": [
    "##### 2.1.3 Centroid"
   ]
  },
  {
   "cell_type": "code",
   "execution_count": 13,
   "metadata": {},
   "outputs": [
    {
     "data": {
      "text/plain": [
       "<AxesSubplot:>"
      ]
     },
     "execution_count": 13,
     "metadata": {},
     "output_type": "execute_result"
    },
    {
     "data": {
      "image/png": "[encoded data removed]",
      "text/plain": [
       "<Figure size 432x288 with 1 Axes>"
      ]
     },
     "metadata": {
      "needs_background": "light"
     },
     "output_type": "display_data"
    }
   ],
   "source": [
    "# centroid ข้อมูลเส้น\n",
    "\n",
    "# ตัวอย่างข้อมูล เส้น\n",
    "gdf_centroid_line = gdf_line.copy().to_crs(epsg=32647)\n",
    "gdf_centroid_line = gdf_centroid_line[gdf_centroid_line['road_code'] == 'ชพ.5067']\n",
    "\n",
    "\n",
    "# คำนวณ centroid (จุดศูนย์กลาง)\n",
    "gdf_centroid_line['centroid'] = gdf_centroid_line.geometry.centroid\n",
    "\n",
    "gdf_centroid_line\n",
    "\n",
    "# แสดงผล\n",
    "fig, ax = plt.subplots()\n",
    "gdf_centroid_line.geometry.plot(ax=ax, color='red')  # แสดงข้อมูลตั้งต้น\n",
    "gdf_centroid_line['centroid'].plot(ax=ax, color='blue', alpha=0.5)  # แสดง centroid\n"
   ]
  },
  {
   "cell_type": "code",
   "execution_count": 289,
   "metadata": {},
   "outputs": [
    {
     "data": {
      "text/plain": [
       "<AxesSubplot:>"
      ]
     },
     "execution_count": 289,
     "metadata": {},
     "output_type": "execute_result"
    },
    {
     "data": {
      "image/png": "[encoded data removed]",
      "text/plain": [
       "<Figure size 432x288 with 1 Axes>"
      ]
     },
     "metadata": {
      "needs_background": "light"
     },
     "output_type": "display_data"
    }
   ],
   "source": [
    "# centroid ข้อมูลเส้น แบบ interpolate\n",
    "\n",
    "# ตัวอย่างข้อมูล เส้น\n",
    "gdf_interpolate_line = gdf_line.copy().to_crs(epsg=32647)\n",
    "gdf_interpolate_line = gdf_interpolate_line[gdf_interpolate_line['road_code'] == 'ชพ.5067']\n",
    "\n",
    "\n",
    "# คำนวณ interpolate (จุดกึ่งกลางบนเส้น)\n",
    "gdf_interpolate_line['interpolate'] = gdf_interpolate_line.interpolate(0.5, normalized=True)\n",
    "\n",
    "# แสดงผล\n",
    "fig, ax = plt.subplots()\n",
    "gdf_interpolate_line.geometry.plot(ax=ax, color='red')  # แสดงข้อมูลตั้งต้น\n",
    "gdf_interpolate_line['interpolate'].plot(ax=ax, color='blue', alpha=0.5)  # แสดง ผลลัพธ์\n"
   ]
  },
  {
   "cell_type": "code",
   "execution_count": 109,
   "metadata": {},
   "outputs": [
    {
     "data": {
      "text/plain": [
       "<AxesSubplot:>"
      ]
     },
     "execution_count": 109,
     "metadata": {},
     "output_type": "execute_result"
    },
    {
     "data": {
      "image/png": "[encoded data removed]",
      "text/plain": [
       "<Figure size 432x288 with 1 Axes>"
      ]
     },
     "metadata": {
      "needs_background": "light"
     },
     "output_type": "display_data"
    }
   ],
   "source": [
    "# centroid ข้อมูล พื้นที่\n",
    "\n",
    "# ตัวอย่างข้อมูล เส้น\n",
    "gdf_centroid_polygon = gdf_polygon.copy()\n",
    "gdf_centroid_polygon = gdf_centroid_polygon.head(1)\n",
    "\n",
    "# คำนวณ centroid (จุดศูนย์กลาง)\n",
    "gdf_centroid_polygon['centroid'] = gdf_centroid_polygon.geometry.centroid\n",
    "\n",
    "# แสดงผล\n",
    "fig, ax = plt.subplots()\n",
    "gdf_centroid_polygon.geometry.plot(ax=ax, color='red')  # แสดงข้อมูลตั้งต้น\n",
    "gdf_centroid_polygon['centroid'].plot(ax=ax, color='blue', alpha=0.5)  # แสดง ผลลัพธ์"
   ]
  },
  {
   "cell_type": "markdown",
   "metadata": {},
   "source": [
    "##### 2.1.4 Affine Transformation"
   ]
  },
  {
   "cell_type": "code",
   "execution_count": 290,
   "metadata": {},
   "outputs": [
    {
     "data": {
      "text/plain": [
       "<AxesSubplot:>"
      ]
     },
     "execution_count": 290,
     "metadata": {},
     "output_type": "execute_result"
    },
    {
     "data": {
      "image/png": "[encoded data removed]",
      "text/plain": [
       "<Figure size 432x288 with 1 Axes>"
      ]
     },
     "metadata": {
      "needs_background": "light"
     },
     "output_type": "display_data"
    }
   ],
   "source": [
    "# Affine Transformation ในการขยับจุดตาม ทิศทาง และ ระยะทางที่กำหนด\n",
    "import math\n",
    "\n",
    "# ตัวอย่างข้อมูล จุด\n",
    "gdf_move_point = gdf_point.copy()\n",
    "gdf_move_point = gdf_move_point.head(1)\n",
    "\n",
    "# ฟังก์ชันคำนวณการเลื่อนจุดตามองศาและระยะทางสำหรับทุกประเภท geometry\n",
    "def move_geometry(geometry, angle_degrees, distance):\n",
    "    angle_radians = math.radians(angle_degrees)\n",
    "    dx = distance * math.cos(angle_radians)\n",
    "    dy = distance * math.sin(angle_radians)\n",
    "    \n",
    "    # ตรวจสอบประเภทของ geometry\n",
    "    if isinstance(geometry, Point):\n",
    "        return Point(geometry.x + dx, geometry.y + dy)\n",
    "    elif isinstance(geometry, LineString):\n",
    "        # เลื่อนทุกจุดใน LineString\n",
    "        moved_coords = [(x + dx, y + dy) for x, y in geometry.coords]\n",
    "        return LineString(moved_coords)\n",
    "    elif isinstance(geometry, Polygon):\n",
    "        # เลื่อนทุกจุดใน Polygon (รวมถึงขอบและหลุมด้านใน)\n",
    "        moved_exterior = [(x + dx, y + dy) for x, y in geometry.exterior.coords]\n",
    "        moved_interiors = [\n",
    "            [(x + dx, y + dy) for x, y in interior.coords] for interior in geometry.interiors\n",
    "        ]\n",
    "        return Polygon(moved_exterior, moved_interiors)\n",
    "    else:\n",
    "        raise TypeError(\"Geometry type not supported\")\n",
    "\n",
    "# ใช้ .apply() เพื่อใช้ฟังก์ชัน move_geometry\n",
    "gdf_move_point['move'] = gdf_move_point.geometry.apply(lambda point: move_geometry(point, 45, 10))\n",
    "\n",
    "# แสดงผล\n",
    "fig, ax = plt.subplots()\n",
    "gdf_move_point.geometry.plot(ax=ax, color='red')  # แสดงข้อมูลตั้งต้น\n",
    "gdf_move_point['move'].plot(ax=ax, color='blue', alpha=0.5)  # แสดง ผลลัพธ์"
   ]
  },
  {
   "cell_type": "code",
   "execution_count": 15,
   "metadata": {},
   "outputs": [
    {
     "data": {
      "image/png": "[encoded data removed]",
      "text/plain": [
       "<Figure size 432x288 with 1 Axes>"
      ]
     },
     "metadata": {
      "needs_background": "light"
     },
     "output_type": "display_data"
    }
   ],
   "source": [
    "# Affine Transformation สลับทิศทางของเส้น\n",
    "import math\n",
    "from matplotlib.patches import FancyArrowPatch\n",
    "\n",
    "\n",
    "# ตัวอย่างข้อมูล เส้น\n",
    "gdf_reverse_line = gdf_line.copy()\n",
    "gdf_reverse_line = gdf_reverse_line[gdf_reverse_line['road_code'] == 'ชพ.5067']\n",
    "\n",
    "# แปลงจาก 4326 เป็น 32647 \n",
    "gdf_reverse_line = gdf_reverse_line.to_crs(epsg=32647)\n",
    "\n",
    "# ฟังก์ชันคำนวณการเลื่อนจุดตามองศาและระยะทางสำหรับทุกประเภท geometry\n",
    "def move_geometry(geometry, angle_degrees, distance):\n",
    "    angle_radians = math.radians(angle_degrees)\n",
    "    dx = distance * math.cos(angle_radians)\n",
    "    dy = distance * math.sin(angle_radians)\n",
    "    \n",
    "    # ตรวจสอบประเภทของ geometry\n",
    "    if isinstance(geometry, Point):\n",
    "        return Point(geometry.x + dx, geometry.y + dy)\n",
    "    elif isinstance(geometry, LineString):\n",
    "        # เลื่อนทุกจุดใน LineString\n",
    "        moved_coords = [(x + dx, y + dy) for x, y in geometry.coords]\n",
    "        return LineString(moved_coords)\n",
    "    elif isinstance(geometry, Polygon):\n",
    "        # เลื่อนทุกจุดใน Polygon (รวมถึงขอบและหลุมด้านใน)\n",
    "        moved_exterior = [(x + dx, y + dy) for x, y in geometry.exterior.coords]\n",
    "        moved_interiors = [\n",
    "            [(x + dx, y + dy) for x, y in interior.coords] for interior in geometry.interiors\n",
    "        ]\n",
    "        return Polygon(moved_exterior, moved_interiors)\n",
    "    else:\n",
    "        raise TypeError(\"Geometry type not supported\")\n",
    "    \n",
    "\n",
    "# ฟังก์ชันในการย้อนกลับ LineString\n",
    "def reverse_line(line):\n",
    "    if isinstance(line, LineString):\n",
    "        reversed_coords = list(line.coords)[::-1]  # กลับลำดับของพิกัด\n",
    "        return LineString(reversed_coords)\n",
    "    return line\n",
    "\n",
    "# ใช้ .apply() เพื่อใช้ฟังก์ชัน move_geometry\n",
    "gdf_reverse_line['move_reverse'] = gdf_reverse_line.geometry.apply(lambda LineString: move_geometry(LineString, 45, 100))\n",
    "\n",
    "gdf_reverse_line\n",
    "\n",
    "# ใช้ ฟังก์ชัน reverse_line .apply() เข้าไปใน gdf_reverse_line['move_reverse'] เพื่อสลับ\n",
    "gdf_reverse_line['move_reverse'] = gdf_reverse_line['move_reverse'].geometry.apply(reverse_line)\n",
    "\n",
    "\n",
    "# ฟังก์ชันการใส่หัวลูกศร\n",
    "def plot_arrowheads(line, ax, color='black'):\n",
    "    coords = list(line.coords)\n",
    "    for i in range(len(coords) - 1):\n",
    "        x_start, y_start = coords[i]\n",
    "        x_end, y_end = coords[i + 1]\n",
    "        \n",
    "        # คำนวณทิศทางของลูกศร\n",
    "        dx = x_end - x_start\n",
    "        dy = y_end - y_start\n",
    "        length = (dx**2 + dy**2)**0.5\n",
    "        \n",
    "        # สร้างลูกศร\n",
    "        arrow = FancyArrowPatch((x_end, y_end), \n",
    "                                (x_end - dx/length * 0.1, y_end - dy/length * 0.1), \n",
    "                                mutation_scale=10, color=color, lw=2, arrowstyle='->')\n",
    "        ax.add_patch(arrow)\n",
    "\n",
    "\n",
    "# แสดงผล\n",
    "fig, ax = plt.subplots()\n",
    "gdf_reverse_line.geometry.plot(ax=ax, color='red')  # แสดงข้อมูลตั้งต้น\n",
    "gdf_reverse_line['move_reverse'].plot(ax=ax, color='blue', alpha=0.5)  # แสดง ผลลัพธ์\n",
    "\n",
    "for line in gdf_reverse_line['move_reverse']:\n",
    "    plot_arrowheads(line, ax, color='blue')\n",
    "\n",
    "for line in gdf_reverse_line['geometry']:\n",
    "    plot_arrowheads(line, ax, color='red')\n"
   ]
  },
  {
   "cell_type": "code",
   "execution_count": 294,
   "metadata": {},
   "outputs": [
    {
     "data": {
      "text/plain": [
       "<AxesSubplot:>"
      ]
     },
     "execution_count": 294,
     "metadata": {},
     "output_type": "execute_result"
    },
    {
     "data": {
      "image/png": "[encoded data removed]",
      "text/plain": [
       "<Figure size 432x288 with 1 Axes>"
      ]
     },
     "metadata": {
      "needs_background": "light"
     },
     "output_type": "display_data"
    }
   ],
   "source": [
    "# Affine Transformation การหมุน Polygon\n",
    "import math\n",
    "from shapely.affinity import rotate\n",
    "\n",
    "# ตัวอย่างข้อมูล พื้นที่\n",
    "gdf_rotate_polygon = gdf_polygon.copy()\n",
    "gdf_rotate_polygon = gdf_rotate_polygon.head(1)\n",
    "\n",
    "\n",
    "# ฟังก์ชันคำนวณการเลื่อนจุดตามองศาและระยะทางสำหรับทุกประเภท geometry\n",
    "def move_geometry(geometry, angle_degrees, distance):\n",
    "    angle_radians = math.radians(angle_degrees)\n",
    "    dx = distance * math.cos(angle_radians)\n",
    "    dy = distance * math.sin(angle_radians)\n",
    "    \n",
    "    # ตรวจสอบประเภทของ geometry\n",
    "    if isinstance(geometry, Point):\n",
    "        return Point(geometry.x + dx, geometry.y + dy)\n",
    "    elif isinstance(geometry, LineString):\n",
    "        # เลื่อนทุกจุดใน LineString\n",
    "        moved_coords = [(x + dx, y + dy) for x, y in geometry.coords]\n",
    "        return LineString(moved_coords)\n",
    "    elif isinstance(geometry, Polygon):\n",
    "        # เลื่อนทุกจุดใน Polygon (รวมถึงขอบและหลุมด้านใน)\n",
    "        moved_exterior = [(x + dx, y + dy) for x, y in geometry.exterior.coords]\n",
    "        moved_interiors = [\n",
    "            [(x + dx, y + dy) for x, y in interior.coords] for interior in geometry.interiors\n",
    "        ]\n",
    "        return Polygon(moved_exterior, moved_interiors)\n",
    "    else:\n",
    "        raise TypeError(\"Geometry type not supported\")\n",
    "\n",
    "\n",
    "# ใช้ .apply() เพื่อใช้ฟังก์ชัน move_geometry\n",
    "gdf_rotate_polygon['move_rotate'] = gdf_rotate_polygon.geometry.apply(lambda Polygon: move_geometry(Polygon, 45, 2000))\n",
    "\n",
    "# ใช้การหมุน (rotate) กับ geometries ที่เลื่อนแล้ว\n",
    "gdf_rotate_polygon['move_rotate'] = gdf_rotate_polygon['move_rotate'].apply(lambda geom: rotate(geom, angle=45, origin='centroid'))\n",
    "\n",
    "# แสดงผล\n",
    "fig, ax = plt.subplots()\n",
    "gdf_rotate_polygon.geometry.plot(ax=ax, color='red')  # แสดงข้อมูลตั้งต้น\n",
    "gdf_rotate_polygon['move_rotate'].plot(ax=ax, color='blue', alpha=0.5)  # แสดง ผลลัพธ์\n"
   ]
  },
  {
   "cell_type": "markdown",
   "metadata": {},
   "source": [
    "##### 2.1.5 การ Cilp"
   ]
  },
  {
   "cell_type": "code",
   "execution_count": 16,
   "metadata": {},
   "outputs": [
    {
     "data": {
      "text/plain": [
       "<AxesSubplot:>"
      ]
     },
     "execution_count": 16,
     "metadata": {},
     "output_type": "execute_result"
    },
    {
     "data": {
      "image/png": "[encoded data removed]",
      "text/plain": [
       "<Figure size 432x288 with 1 Axes>"
      ]
     },
     "metadata": {
      "needs_background": "light"
     },
     "output_type": "display_data"
    }
   ],
   "source": [
    "# ตัวอย่าง การตัด polygon ด้วย Linestring\n",
    "\n",
    "gdf_polygon_a = gdf_polygon.copy()\n",
    "gdf_polygon_a = gdf_polygon_a[gdf_polygon_a['Id'] == 46705]\n",
    "\n",
    "gdf_line_a = gdf_line.copy().to_crs(epsg=32647)\n",
    "gdf_line_a = gdf_line_a[gdf_line_a['road_code'] == 'สฎ.3033']\n",
    "\n",
    "# แสดงผล\n",
    "fig, ax = plt.subplots()\n",
    "gdf_polygon_a.geometry.plot(ax=ax, color='red')  # แสดงข้อมูลตั้งต้น\n",
    "gdf_line_a.geometry.plot(ax=ax, color='blue', alpha=0.5)  # แสดง ผลลัพธ์\n"
   ]
  },
  {
   "cell_type": "code",
   "execution_count": 23,
   "metadata": {},
   "outputs": [
    {
     "data": {
      "text/plain": [
       "<AxesSubplot:>"
      ]
     },
     "execution_count": 23,
     "metadata": {},
     "output_type": "execute_result"
    },
    {
     "data": {
      "image/png": "[encoded data removed]",
      "text/plain": [
       "<Figure size 432x288 with 1 Axes>"
      ]
     },
     "metadata": {
      "needs_background": "light"
     },
     "output_type": "display_data"
    }
   ],
   "source": [
    "import numpy as np\n",
    "import geopandas as gpd\n",
    "from shapely.geometry import LineString, Polygon\n",
    "from shapely.ops import split, unary_union\n",
    "import matplotlib.pyplot as plt\n",
    "\n",
    "def split_geometry_with_geometry(gdf_target, gdf_cut):\n",
    "    \"\"\"\n",
    "    ตัด target geometries ด้วย cut geometries และเก็บ attributes ของ target geometries ไว้\n",
    "    \n",
    "    Parameters:\n",
    "    gdf_target (GeoDataFrame): GeoDataFrame ที่มี geometries ที่ต้องการตัด (Polygon หรือ LineString)\n",
    "    gdf_cut (GeoDataFrame): GeoDataFrame ที่มี geometries ที่ใช้ในการตัด (Polygon หรือ LineString)\n",
    "    \n",
    "    Returns:\n",
    "    GeoDataFrame: GeoDataFrame ที่มี geometries ที่ถูกตัดพร้อม attributes\n",
    "    \"\"\"\n",
    "    results = []\n",
    "\n",
    "    # ใช้ลูปเพื่อทำการตัดกับแต่ละ geometry ใน gdf_target และ gdf_cut\n",
    "    for idx_target, target_row in gdf_target.iterrows():\n",
    "        for idx_cut, cut_row in gdf_cut.iterrows():\n",
    "            if target_row.geometry.intersects(cut_row.geometry):\n",
    "                \n",
    "                split_geometries = None\n",
    "\n",
    "                if isinstance(target_row.geometry, Polygon):\n",
    "                    # ตัด Polygon ด้วย LineString\n",
    "                    if isinstance(cut_row.geometry, LineString):\n",
    "                        split_geometries = split(target_row.geometry, cut_row.geometry)\n",
    "                    \n",
    "                    # ตัด Polygon ด้วย Polygon\n",
    "                    elif isinstance(cut_row.geometry, Polygon):\n",
    "                        split_geometries = target_row.geometry.difference(cut_row.geometry)\n",
    "                        if split_geometries.is_empty:\n",
    "                            continue\n",
    "                        elif isinstance(split_geometries, Polygon):\n",
    "                            split_geometries = [split_geometries]\n",
    "                        else:\n",
    "                            split_geometries = [geom for geom in split_geometries]\n",
    "\n",
    "                elif isinstance(target_row.geometry, LineString):\n",
    "                    # ตัด LineString ด้วย LineString\n",
    "                    if isinstance(cut_row.geometry, LineString):\n",
    "                        split_geometries = split(target_row.geometry, cut_row.geometry)\n",
    "                    \n",
    "                    # ตัด LineString ด้วย Polygon\n",
    "                    elif isinstance(cut_row.geometry, Polygon):\n",
    "                        if target_row.geometry.intersects(cut_row.geometry):\n",
    "                            split_geometries = target_row.geometry.intersection(cut_row.geometry)\n",
    "                            if split_geometries.is_empty:\n",
    "                                continue\n",
    "                            if isinstance(split_geometries, LineString):\n",
    "                                split_geometries = [split_geometries]\n",
    "                            else:\n",
    "                                split_geometries = [geom for geom in split_geometries if isinstance(geom, LineString)]\n",
    "\n",
    "                # เก็บข้อมูลที่ได้ในรูปแบบ DataFrame\n",
    "                if split_geometries is not None:\n",
    "                    if isinstance(split_geometries, list):\n",
    "                        for split_geom in split_geometries:\n",
    "                            results.append({\n",
    "                                **target_row.to_dict(),  # เก็บ attributes ของ target\n",
    "                                'geometry': split_geom\n",
    "                            })\n",
    "                    else:\n",
    "                        results.append({\n",
    "                            **target_row.to_dict(),  # เก็บ attributes ของ target\n",
    "                            'geometry': split_geometries\n",
    "                        })\n",
    "\n",
    "    # สร้าง GeoDataFrame จากผลลัพธ์\n",
    "    gdf_split = gpd.GeoDataFrame(results, geometry='geometry', crs=gdf_target.crs)\n",
    "    \n",
    "    return gdf_split\n",
    "\n",
    "\n",
    "# ใช้ฟังก์ชัน split_geometry_with_geometry สำหรับ ตัดแบ่ง geometry \n",
    "\n",
    "gdf_split_result = split_geometry_with_geometry(gdf_polygon_a, gdf_line_a)\n",
    "\n",
    "\n",
    "# แยกข้อมูลออกเป็นสองคอลัมน์ใน DataFrame\n",
    "gdf_split_result['geometry'] = gdf_split_result['geometry'].apply(lambda geom: [geom] if isinstance(geom, Polygon)  else geom)\n",
    "gdf_split_result = gdf_split_result.explode()\n",
    "\n",
    "\n",
    "# สร้าง Index\n",
    "gdf_split_result.reset_index(drop=True, inplace=True)\n",
    "\n",
    "\n",
    "# สร้างสีสุ่มหรือใช้ colormap\n",
    "num_records = len(gdf_split_result)\n",
    "colors = plt.cm.viridis(np.linspace(0, 1, num_records))  # ใช้ colormap viridis\n",
    "\n",
    "# สร้างคอลัมน์ใหม่ใน DataFrame สำหรับสี\n",
    "gdf_split_result['color'] = [colors[i] for i in range(num_records)]\n",
    "\n",
    "\n",
    "# แสดงผล\n",
    "fig, ax = plt.subplots()\n",
    "gdf_split_result.plot(ax=ax, color=gdf_split_result['color'], edgecolor='black')  # ใช้สีจากคอลัมน์ 'color'\n"
   ]
  },
  {
   "cell_type": "code",
   "execution_count": 24,
   "metadata": {},
   "outputs": [
    {
     "data": {
      "text/plain": [
       "<AxesSubplot:>"
      ]
     },
     "execution_count": 24,
     "metadata": {},
     "output_type": "execute_result"
    },
    {
     "data": {
      "image/png": "[encoded data removed]",
      "text/plain": [
       "<Figure size 432x288 with 1 Axes>"
      ]
     },
     "metadata": {
      "needs_background": "light"
     },
     "output_type": "display_data"
    }
   ],
   "source": [
    "# ตัวอย่าง การตัด Linestring ด้วย Linestring\n",
    "\n",
    "gdf_line_b1 = gdf_line.copy().to_crs(epsg=32647)\n",
    "gdf_line_b1 = gdf_line_b1[gdf_line_b1['road_code'] == 'สน.2029']\n",
    "\n",
    "gdf_line_b2 = gdf_line.copy().to_crs(epsg=32647)\n",
    "gdf_line_b2 = gdf_line_b2[gdf_line_b2['road_code'] == 'สน.2027']\n",
    "\n",
    "# แสดงผล\n",
    "fig, ax = plt.subplots()\n",
    "gdf_line_b1.geometry.plot(ax=ax, color='red')  # แสดงข้อมูลตั้งต้น\n",
    "gdf_line_b2.geometry.plot(ax=ax, color='blue', alpha=0.5)  # แสดง ผลลัพธ์"
   ]
  },
  {
   "cell_type": "code",
   "execution_count": 26,
   "metadata": {},
   "outputs": [
    {
     "data": {
      "text/plain": [
       "<AxesSubplot:>"
      ]
     },
     "execution_count": 26,
     "metadata": {},
     "output_type": "execute_result"
    },
    {
     "data": {
      "image/png": "[encoded data removed]",
      "text/plain": [
       "<Figure size 432x288 with 1 Axes>"
      ]
     },
     "metadata": {
      "needs_background": "light"
     },
     "output_type": "display_data"
    }
   ],
   "source": [
    "# ใช้ฟังก์ชัน split_geometry_with_geometry สำหรับ ตัดแบ่ง geometry \n",
    "\n",
    "gdf_split_result_line = split_geometry_with_geometry(gdf_line_b1, gdf_line_b2)\n",
    "\n",
    "# แยกข้อมูลออกเป็นสองคอลัมน์ใน DataFrame\n",
    "gdf_split_result_line['geometry'] = gdf_split_result_line['geometry'].apply(lambda geom: [geom] if isinstance(geom, LineString)  else geom)\n",
    "gdf_split_result_line = gdf_split_result_line.explode()\n",
    "\n",
    "# สร้าง Index\n",
    "gdf_split_result_line.reset_index(drop=True, inplace=True)\n",
    "\n",
    "\n",
    "# สร้างสีสุ่มหรือใช้ colormap\n",
    "num_records = len(gdf_split_result_line)\n",
    "colors = plt.cm.viridis(np.linspace(0, 1, num_records))  # ใช้ colormap viridis\n",
    "\n",
    "# สร้างคอลัมน์ใหม่ใน DataFrame สำหรับสี\n",
    "gdf_split_result_line['color'] = [colors[i] for i in range(num_records)]\n",
    "\n",
    "\n",
    "# แสดงผล\n",
    "fig, ax = plt.subplots()\n",
    "gdf_split_result_line.plot(ax=ax, color=gdf_split_result['color'], edgecolor='black')  # ใช้สีจากคอลัมน์ 'color'"
   ]
  },
  {
   "cell_type": "markdown",
   "metadata": {},
   "source": [
    "##### 2.2 การวิเคราะห์ความสัมพันธ์เชิงพื้นที่ (Spatial Relationships) "
   ]
  },
  {
   "cell_type": "markdown",
   "metadata": {},
   "source": [
    "การวิเคราะห์ความสัมพันธ์เชิงพื้นที่ (Spatial Relationships) คือการตรวจสอบความสัมพันธ์ทางเรขาคณิตระหว่างวัตถุเชิงพื้นที่ เช่น จุด เส้น และโพลิกอน โดยวิเคราะห์ว่ารูปร่างเหล่านั้นมีความสัมพันธ์กันในลักษณะต่างๆ อย่างไร เช่น การทับซ้อน การสัมผัส หรือการครอบคลุม เป็นต้น ประกอบด้วย คำสั่ง ดังนี้\n",
    "\n",
    "- Intersects : ตรวจสอบว่าวัตถุเชิงพื้นที่สองชิ้นทับซ้อนกันหรือไม่ เช่น จุดหรือเส้นที่อยู่ในพื้นที่ของโพลิกอน\n",
    "- Within : ตรวจสอบว่าวัตถุหนึ่งครอบคลุมวัตถุอื่นทั้งหมดหรือไม่ เช่น โพลิกอนครอบคลุมจุดหรือเส้น\n"
   ]
  },
  {
   "attachments": {
    "image.png": {
     "image/png": "[encoded data removed]"
    }
   },
   "cell_type": "markdown",
   "metadata": {},
   "source": [
    "![image.png](attachment:image.png)"
   ]
  },
  {
   "cell_type": "markdown",
   "metadata": {},
   "source": [
    "##### 2.2.1 การ Intersects"
   ]
  },
  {
   "cell_type": "code",
   "execution_count": 28,
   "metadata": {},
   "outputs": [
    {
     "data": {
      "text/plain": [
       "<AxesSubplot:>"
      ]
     },
     "execution_count": 28,
     "metadata": {},
     "output_type": "execute_result"
    },
    {
     "data": {
      "image/png": "[encoded data removed]",
      "text/plain": [
       "<Figure size 432x288 with 1 Axes>"
      ]
     },
     "metadata": {
      "needs_background": "light"
     },
     "output_type": "display_data"
    }
   ],
   "source": [
    "# ตัวอย่าง ข้อมูล\n",
    "\n",
    "gdf_line_inter = gdf_line.copy().to_crs(epsg=32647)\n",
    "\n",
    "gdf_polygon_inter = gdf_polygon.copy().to_crs(epsg=32647)\n",
    "\n",
    "\n",
    "#แสดงผล\n",
    "fig, ax = plt.subplots()\n",
    "gdf_line_inter.geometry.plot(ax=ax, color='blue')  # แสดงข้อมูลตั้งต้น\n",
    "gdf_polygon_inter.geometry.plot(ax=ax, color='red')  # แสดง ผลลัพธ์"
   ]
  },
  {
   "cell_type": "code",
   "execution_count": 11,
   "metadata": {},
   "outputs": [
    {
     "data": {
      "image/png": "[encoded data removed]",
      "text/plain": [
       "<Figure size 720x720 with 1 Axes>"
      ]
     },
     "metadata": {
      "needs_background": "light"
     },
     "output_type": "display_data"
    }
   ],
   "source": [
    "# ทำการ Intersection ข้อมูล ดูว่า Line ไหน ทับซ่้อน กับ Polygon บ้าง\n",
    "\n",
    "gdf_intersection = gpd.sjoin(gdf_line_inter, gdf_polygon_inter, how='inner', op='intersects')\n",
    "gdf_intersection = gdf_intersection[gdf_intersection['road_code'] == 'กจ.4051']\n",
    "\n",
    "# กรองเฉพาะกรณีที่ line ที่ intersection กับ polygon ทั้งหมด\n",
    "gdf_intersection = gdf_intersection.drop_duplicates(subset=['index_right'])\n",
    "\n",
    "\n",
    "#แสดงผล\n",
    "fig, ax = plt.subplots(figsize=(10, 10))\n",
    "gdf_intersection.geometry.plot(ax=ax, color='blue')  # แสดงข้อมูลตั้งต้น\n",
    "gdf_polygon_inter.geometry.plot(ax=ax, color='red', alpha=0.5)  # แสดง ผลลัพธ์\n",
    "\n",
    "\n",
    "# กำหนดขอบเขตการซูมเฉพาะพื้นที่ที่มีข้อมูลของ gdf_intersection\n",
    "ax.set_xlim(gdf_intersection.total_bounds[[0, 2]])  # ขอบเขตตามแกน X (min, max)\n",
    "ax.set_ylim(gdf_intersection.total_bounds[[1, 3]])  # ขอบเขตตามแกน Y (min, max)\n",
    "\n",
    "plt.show()"
   ]
  },
  {
   "cell_type": "markdown",
   "metadata": {},
   "source": [
    "##### 2.2.2 การ Within"
   ]
  },
  {
   "cell_type": "code",
   "execution_count": 29,
   "metadata": {},
   "outputs": [
    {
     "data": {
      "text/plain": [
       "<AxesSubplot:>"
      ]
     },
     "execution_count": 29,
     "metadata": {},
     "output_type": "execute_result"
    },
    {
     "data": {
      "image/png": "[encoded data removed]",
      "text/plain": [
       "<Figure size 432x288 with 1 Axes>"
      ]
     },
     "metadata": {
      "needs_background": "light"
     },
     "output_type": "display_data"
    }
   ],
   "source": [
    "# ตัวอย่าง ข้อมูล\n",
    "\n",
    "gdf_line_within = gdf_line.copy().to_crs(epsg=32647)\n",
    "gdf_polygon_within = gdf_polygon.copy().to_crs(epsg=32647)\n",
    "\n",
    "\n",
    "#แสดงผล\n",
    "fig, ax = plt.subplots()\n",
    "gdf_line_within.geometry.plot(ax=ax, color='blue')  # แสดงข้อมูลตั้งต้น\n",
    "gdf_polygon_within.geometry.plot(ax=ax, color='red')  # แสดง ผลลัพธ์\n"
   ]
  },
  {
   "cell_type": "code",
   "execution_count": 30,
   "metadata": {},
   "outputs": [
    {
     "data": {
      "image/png": "[encoded data removed]",
      "text/plain": [
       "<Figure size 720x720 with 1 Axes>"
      ]
     },
     "metadata": {
      "needs_background": "light"
     },
     "output_type": "display_data"
    }
   ],
   "source": [
    "# ทำการ Contains ข้อมูล ดูว่า polygon ไหนคลอบคลุมทั้ง Line บ้าง\n",
    "import geopandas as gpd\n",
    "\n",
    "# สร้าง spatial index ด้วยการใช้ sjoin\n",
    "gdf_within = gpd.sjoin(gdf_line_within, gdf_polygon_within, how='inner', op='within')\n",
    "gdf_within = gdf_within[gdf_within['road_code'] == 'ลป.4023']\n",
    "\n",
    "# กรองเฉพาะกรณีที่ line อยู่ภายใน polygon ทั้งหมด\n",
    "gdf_within = gdf_within.drop_duplicates(subset=['index_right'])\n",
    "\n",
    "#แสดงผล\n",
    "fig, ax = plt.subplots(figsize=(10, 10))\n",
    "gdf_within.geometry.plot(ax=ax, color='blue')  # แสดงข้อมูลตั้งต้น\n",
    "gdf_polygon_within.geometry.plot(ax=ax, color='red', alpha=0.5)  # แสดง ผลลัพธ์\n",
    "\n",
    "\n",
    "# กำหนดขอบเขตการซูมเฉพาะพื้นที่ที่มีข้อมูลของ gdf_intersection\n",
    "ax.set_xlim(gdf_within.total_bounds[[0, 2]])  # ขอบเขตตามแกน X (min, max)\n",
    "ax.set_ylim(gdf_within.total_bounds[[1, 3]])  # ขอบเขตตามแกน Y (min, max)\n",
    "\n",
    "plt.show()"
   ]
  },
  {
   "cell_type": "markdown",
   "metadata": {},
   "source": [
    "##### 2.3 การคำนวณเชิงพื้นที่ (Spatial Calculations)"
   ]
  },
  {
   "cell_type": "markdown",
   "metadata": {},
   "source": [
    "การคำนวณเชิงพื้นที่ (Spatial Calculations) คือการวิเคราะห์ข้อมูลเชิงพื้นที่โดยคำนวณค่าต่างๆ จากรูปร่างเชิงเรขาคณิต เช่น พื้นที่ (Area) ระยะทาง (Distance) ความยาว (Length) และอื่นๆ ข้อมูลเหล่านี้มีประโยชน์อย่างมากในการศึกษาและวิเคราะห์ทางภูมิศาสตร์ เช่น การหาขอบเขตของพื้นที่ การคำนวณเส้นทาง หรือการวัดระยะทางระหว่างจุดต่างๆ ประกอบด้วย คำสั่ง ดังนี้\n",
    "- การคำนวณพื้นที่ (Area Calculation) \n",
    "- การคำนวณความยาว (Length Calculation):\n",
    "- การคำนวณระยะทาง (Distance Calculation): "
   ]
  },
  {
   "cell_type": "code",
   "execution_count": 33,
   "metadata": {},
   "outputs": [],
   "source": [
    "# ตัวอย่างข้อมูล \n",
    "\n",
    "gdf_point_cal = gdf_point.copy().to_crs(epsg=32647)\n",
    "gdf_line_cal = gdf_line.copy().to_crs(epsg=32647)\n",
    "gdf_polygon_cal = gdf_polygon.copy().to_crs(epsg=32647)\n"
   ]
  },
  {
   "cell_type": "code",
   "execution_count": 37,
   "metadata": {},
   "outputs": [
    {
     "data": {
      "text/html": [
       "<div>\n",
       "<style scoped>\n",
       "    .dataframe tbody tr th:only-of-type {\n",
       "        vertical-align: middle;\n",
       "    }\n",
       "\n",
       "    .dataframe tbody tr th {\n",
       "        vertical-align: top;\n",
       "    }\n",
       "\n",
       "    .dataframe thead th {\n",
       "        text-align: right;\n",
       "    }\n",
       "</style>\n",
       "<table border=\"1\" class=\"dataframe\">\n",
       "  <thead>\n",
       "    <tr style=\"text-align: right;\">\n",
       "      <th></th>\n",
       "      <th>Level_E</th>\n",
       "      <th>area_km2</th>\n",
       "    </tr>\n",
       "  </thead>\n",
       "  <tbody>\n",
       "    <tr>\n",
       "      <th>0</th>\n",
       "      <td>High</td>\n",
       "      <td>40256.0</td>\n",
       "    </tr>\n",
       "    <tr>\n",
       "      <th>1</th>\n",
       "      <td>Low</td>\n",
       "      <td>102371.0</td>\n",
       "    </tr>\n",
       "    <tr>\n",
       "      <th>2</th>\n",
       "      <td>Medium</td>\n",
       "      <td>95384.0</td>\n",
       "    </tr>\n",
       "    <tr>\n",
       "      <th>3</th>\n",
       "      <td>Very High</td>\n",
       "      <td>11557.0</td>\n",
       "    </tr>\n",
       "    <tr>\n",
       "      <th>4</th>\n",
       "      <td>Very Low</td>\n",
       "      <td>7495.0</td>\n",
       "    </tr>\n",
       "  </tbody>\n",
       "</table>\n",
       "</div>"
      ],
      "text/plain": [
       "     Level_E  area_km2\n",
       "0       High   40256.0\n",
       "1        Low  102371.0\n",
       "2     Medium   95384.0\n",
       "3  Very High   11557.0\n",
       "4   Very Low    7495.0"
      ]
     },
     "execution_count": 37,
     "metadata": {},
     "output_type": "execute_result"
    }
   ],
   "source": [
    "# การคำนวณพื้นที่ (Area Calculation) : ต้องการคำนวณพื้นที่ ตามกลุ่มระดับความเสี่ยง\n",
    "\n",
    "gdf_polygon_cal['area_km2'] = gdf_polygon_cal.geometry.area / 10**6  # แปลงจาก ตร.เมตร เป็น ตร.กิโลเมตร\n",
    "\n",
    "\n",
    "gdf_grouped_area = gdf_polygon_cal.groupby('Level_E')['area_km2'].sum().reset_index()\n",
    "\n",
    "gdf_grouped_area"
   ]
  },
  {
   "cell_type": "code",
   "execution_count": 46,
   "metadata": {},
   "outputs": [
    {
     "name": "stdout",
     "output_type": "stream",
     "text": [
      "ความยาวที่มากที่สุด:\n",
      "Road Code: อบ.3150, ความยาว: 87.137 กิโลเมตร\n",
      "\n",
      "ความยาวที่น้อยที่สุด:\n",
      "Road Code: ปน.6075, ความยาว: 0.207 กิโลเมตร\n"
     ]
    }
   ],
   "source": [
    "# การคำนวณความยาว (Length Calculation): ต้องการคำนวณ ถนนที่มีความยาว มากที่สุด และ น้อยที่สุด\n",
    "\n",
    "gdf_line_cal['length_m'] = gdf_line_cal.geometry.length\n",
    "\n",
    "gdf_line_cal\n",
    "\n",
    "# หาความยาวที่มากที่สุดและน้อยที่สุด\n",
    "max_length_row = gdf_line_cal.loc[gdf_line_cal['length_m'].idxmax()]\n",
    "min_length_row = gdf_line_cal.loc[gdf_line_cal['length_m'].idxmin()]\n",
    "\n",
    "\n",
    "\n",
    "# แสดงผลลัพธ์ ความยาวที่มากที่สุด และน้อยที่สุด พร้อมคอลัมน์ road_code โดยปัดเศษทศนิยม 3 ตำแหน่ง\n",
    "print(\"ความยาวที่มากที่สุด:\")\n",
    "\n",
    "print(f\"Road Code: {max_length_row['road_code']}, ความยาว: {round(max_length_row['length_m'] / 1000, 3)} กิโลเมตร\")\n",
    "\n",
    "print(\"\\nความยาวที่น้อยที่สุด:\")\n",
    "print(f\"Road Code: {min_length_row['road_code']}, ความยาว: {round(min_length_row['length_m'] / 1000, 3)} กิโลเมตร\")\n"
   ]
  }
 ],
 "metadata": {
  "kernelspec": {
   "display_name": "simon",
   "language": "python",
   "name": "python3"
  },
  "language_info": {
   "codemirror_mode": {
    "name": "ipython",
    "version": 3
   },
   "file_extension": ".py",
   "mimetype": "text/x-python",
   "name": "python",
   "nbconvert_exporter": "python",
   "pygments_lexer": "ipython3",
   "version": "3.9.5"
  }
 },
 "nbformat": 4,
 "nbformat_minor": 2
}
